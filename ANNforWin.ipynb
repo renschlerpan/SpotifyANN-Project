{
 "cells": [
  {
   "cell_type": "code",
   "execution_count": 35,
   "metadata": {},
   "outputs": [],
   "source": [
    "import numpy as np\n",
    "import pandas as pd\n",
    "from sklearn.preprocessing import StandardScaler\n",
    "from sklearn.model_selection import train_test_split\n",
    "from sklearn.metrics import mean_squared_error\n",
    "from sklearn.neighbors import NearestNeighbors\n",
    "from tensorflow.keras.models import Sequential\n",
    "from tensorflow.keras.layers import Dense, Dropout\n",
    "from tensorflow.keras.optimizers import Adam\n",
    "import tensorflow as tf\n",
    "import gc\n",
    "\n",
    "# Load Data\n",
    "spotify_data = pd.read_csv('cleaned_spotify_data.csv')\n",
    "user_profiles = pd.read_csv('cleaned_user_profiles.csv')\n",
    "user_profiles = user_profiles.sample(frac = 0.05, random_state = 42)\n",
    "spotify_data = spotify_data.sample(frac = 0.25, random_state = 42)\n",
    "\n",
    "features = ['danceability', 'energy', 'key', 'loudness', 'mode', 'speechiness', 'acousticness', 'instrumentalness', 'liveness', 'valence', 'tempo', 'duration_ms']\n",
    "spotify_features = spotify_data[features]\n",
    "user_features = user_profiles[features]\n",
    "\n",
    "# Data Scaling\n",
    "scaler = StandardScaler()\n",
    "spotify_features_scaled = scaler.fit_transform(spotify_features)\n",
    "spotify_features_scaled = spotify_features_scaled\n",
    "user_features_scaled = scaler.transform(user_features)\n",
    "user_features_scaled = user_features_scaled"
   ]
  },
  {
   "cell_type": "code",
   "execution_count": 36,
   "metadata": {},
   "outputs": [
    {
     "name": "stdout",
     "output_type": "stream",
     "text": [
      "Num GPUs Available:  0\n"
     ]
    }
   ],
   "source": [
    "print(\"Num GPUs Available: \", len(tf.config.list_physical_devices('GPU')))"
   ]
  },
  {
   "cell_type": "code",
   "execution_count": 37,
   "metadata": {},
   "outputs": [
    {
     "data": {
      "text/html": [
       "<div>\n",
       "<style scoped>\n",
       "    .dataframe tbody tr th:only-of-type {\n",
       "        vertical-align: middle;\n",
       "    }\n",
       "\n",
       "    .dataframe tbody tr th {\n",
       "        vertical-align: top;\n",
       "    }\n",
       "\n",
       "    .dataframe thead th {\n",
       "        text-align: right;\n",
       "    }\n",
       "</style>\n",
       "<table border=\"1\" class=\"dataframe\">\n",
       "  <thead>\n",
       "    <tr style=\"text-align: right;\">\n",
       "      <th></th>\n",
       "      <th>track</th>\n",
       "      <th>artist</th>\n",
       "      <th>genre</th>\n",
       "      <th>danceability</th>\n",
       "      <th>energy</th>\n",
       "      <th>key</th>\n",
       "      <th>loudness</th>\n",
       "      <th>mode</th>\n",
       "      <th>speechiness</th>\n",
       "      <th>acousticness</th>\n",
       "      <th>instrumentalness</th>\n",
       "      <th>liveness</th>\n",
       "      <th>valence</th>\n",
       "      <th>tempo</th>\n",
       "      <th>duration_ms</th>\n",
       "    </tr>\n",
       "  </thead>\n",
       "  <tbody>\n",
       "    <tr>\n",
       "      <th>30056</th>\n",
       "      <td>I Miss You</td>\n",
       "      <td>Jeriqo</td>\n",
       "      <td>edm</td>\n",
       "      <td>0.520</td>\n",
       "      <td>0.789</td>\n",
       "      <td>0</td>\n",
       "      <td>-7.717</td>\n",
       "      <td>1</td>\n",
       "      <td>0.0432</td>\n",
       "      <td>0.004910</td>\n",
       "      <td>0.000013</td>\n",
       "      <td>0.0816</td>\n",
       "      <td>0.4150</td>\n",
       "      <td>174.026</td>\n",
       "      <td>216347</td>\n",
       "    </tr>\n",
       "    <tr>\n",
       "      <th>11827</th>\n",
       "      <td>Who Are You</td>\n",
       "      <td>The Who</td>\n",
       "      <td>rock</td>\n",
       "      <td>0.651</td>\n",
       "      <td>0.661</td>\n",
       "      <td>9</td>\n",
       "      <td>-11.405</td>\n",
       "      <td>1</td>\n",
       "      <td>0.0511</td>\n",
       "      <td>0.265000</td>\n",
       "      <td>0.003130</td>\n",
       "      <td>0.1060</td>\n",
       "      <td>0.4890</td>\n",
       "      <td>156.371</td>\n",
       "      <td>378707</td>\n",
       "    </tr>\n",
       "    <tr>\n",
       "      <th>23571</th>\n",
       "      <td>Happy</td>\n",
       "      <td>The Beef Seeds</td>\n",
       "      <td>r&amp;b</td>\n",
       "      <td>0.640</td>\n",
       "      <td>0.758</td>\n",
       "      <td>10</td>\n",
       "      <td>-5.204</td>\n",
       "      <td>1</td>\n",
       "      <td>0.1600</td>\n",
       "      <td>0.665000</td>\n",
       "      <td>0.000000</td>\n",
       "      <td>0.1270</td>\n",
       "      <td>0.9320</td>\n",
       "      <td>86.529</td>\n",
       "      <td>218044</td>\n",
       "    </tr>\n",
       "    <tr>\n",
       "      <th>14741</th>\n",
       "      <td>ONE</td>\n",
       "      <td>Rev Theory</td>\n",
       "      <td>rock</td>\n",
       "      <td>0.398</td>\n",
       "      <td>0.966</td>\n",
       "      <td>4</td>\n",
       "      <td>-2.352</td>\n",
       "      <td>0</td>\n",
       "      <td>0.0453</td>\n",
       "      <td>0.000006</td>\n",
       "      <td>0.000000</td>\n",
       "      <td>0.3030</td>\n",
       "      <td>0.5200</td>\n",
       "      <td>90.016</td>\n",
       "      <td>208196</td>\n",
       "    </tr>\n",
       "    <tr>\n",
       "      <th>25570</th>\n",
       "      <td>Palace/Curse</td>\n",
       "      <td>The Internet</td>\n",
       "      <td>r&amp;b</td>\n",
       "      <td>0.447</td>\n",
       "      <td>0.625</td>\n",
       "      <td>10</td>\n",
       "      <td>-8.212</td>\n",
       "      <td>0</td>\n",
       "      <td>0.3230</td>\n",
       "      <td>0.035100</td>\n",
       "      <td>0.000727</td>\n",
       "      <td>0.2430</td>\n",
       "      <td>0.2610</td>\n",
       "      <td>67.104</td>\n",
       "      <td>440013</td>\n",
       "    </tr>\n",
       "    <tr>\n",
       "      <th>...</th>\n",
       "      <td>...</td>\n",
       "      <td>...</td>\n",
       "      <td>...</td>\n",
       "      <td>...</td>\n",
       "      <td>...</td>\n",
       "      <td>...</td>\n",
       "      <td>...</td>\n",
       "      <td>...</td>\n",
       "      <td>...</td>\n",
       "      <td>...</td>\n",
       "      <td>...</td>\n",
       "      <td>...</td>\n",
       "      <td>...</td>\n",
       "      <td>...</td>\n",
       "      <td>...</td>\n",
       "    </tr>\n",
       "    <tr>\n",
       "      <th>7836</th>\n",
       "      <td>Captain Save a Hoe (feat. The Click, D-Shot, B...</td>\n",
       "      <td>E-40</td>\n",
       "      <td>rap</td>\n",
       "      <td>0.753</td>\n",
       "      <td>0.514</td>\n",
       "      <td>7</td>\n",
       "      <td>-12.235</td>\n",
       "      <td>1</td>\n",
       "      <td>0.2600</td>\n",
       "      <td>0.061200</td>\n",
       "      <td>0.000000</td>\n",
       "      <td>0.2920</td>\n",
       "      <td>0.5630</td>\n",
       "      <td>166.015</td>\n",
       "      <td>287600</td>\n",
       "    </tr>\n",
       "    <tr>\n",
       "      <th>764</th>\n",
       "      <td>Macarena - Bayside Boys Remix</td>\n",
       "      <td>Los Del Rio</td>\n",
       "      <td>pop</td>\n",
       "      <td>0.746</td>\n",
       "      <td>0.909</td>\n",
       "      <td>11</td>\n",
       "      <td>-6.032</td>\n",
       "      <td>1</td>\n",
       "      <td>0.0580</td>\n",
       "      <td>0.206000</td>\n",
       "      <td>0.000002</td>\n",
       "      <td>0.0656</td>\n",
       "      <td>0.9620</td>\n",
       "      <td>103.189</td>\n",
       "      <td>222027</td>\n",
       "    </tr>\n",
       "    <tr>\n",
       "      <th>23613</th>\n",
       "      <td>How Crazy Is That</td>\n",
       "      <td>Derrick Ryan</td>\n",
       "      <td>r&amp;b</td>\n",
       "      <td>0.782</td>\n",
       "      <td>0.326</td>\n",
       "      <td>6</td>\n",
       "      <td>-12.198</td>\n",
       "      <td>0</td>\n",
       "      <td>0.0754</td>\n",
       "      <td>0.058500</td>\n",
       "      <td>0.000009</td>\n",
       "      <td>0.1320</td>\n",
       "      <td>0.1970</td>\n",
       "      <td>123.940</td>\n",
       "      <td>193548</td>\n",
       "    </tr>\n",
       "    <tr>\n",
       "      <th>3422</th>\n",
       "      <td>Song To The Siren (Remastered)</td>\n",
       "      <td>This Mortal Coil</td>\n",
       "      <td>pop</td>\n",
       "      <td>0.216</td>\n",
       "      <td>0.240</td>\n",
       "      <td>10</td>\n",
       "      <td>-12.598</td>\n",
       "      <td>1</td>\n",
       "      <td>0.0406</td>\n",
       "      <td>0.843000</td>\n",
       "      <td>0.000006</td>\n",
       "      <td>0.1350</td>\n",
       "      <td>0.0875</td>\n",
       "      <td>128.679</td>\n",
       "      <td>211093</td>\n",
       "    </tr>\n",
       "    <tr>\n",
       "      <th>30005</th>\n",
       "      <td>Where Is the Love (Wave Remix)</td>\n",
       "      <td>Alex Martura</td>\n",
       "      <td>edm</td>\n",
       "      <td>0.793</td>\n",
       "      <td>0.645</td>\n",
       "      <td>2</td>\n",
       "      <td>-9.815</td>\n",
       "      <td>0</td>\n",
       "      <td>0.0443</td>\n",
       "      <td>0.531000</td>\n",
       "      <td>0.000210</td>\n",
       "      <td>0.1000</td>\n",
       "      <td>0.3650</td>\n",
       "      <td>115.980</td>\n",
       "      <td>184138</td>\n",
       "    </tr>\n",
       "  </tbody>\n",
       "</table>\n",
       "<p>8208 rows × 15 columns</p>\n",
       "</div>"
      ],
      "text/plain": [
       "                                                   track            artist  \\\n",
       "30056                                         I Miss You            Jeriqo   \n",
       "11827                                        Who Are You           The Who   \n",
       "23571                                              Happy    The Beef Seeds   \n",
       "14741                                                ONE        Rev Theory   \n",
       "25570                                       Palace/Curse      The Internet   \n",
       "...                                                  ...               ...   \n",
       "7836   Captain Save a Hoe (feat. The Click, D-Shot, B...              E-40   \n",
       "764                        Macarena - Bayside Boys Remix       Los Del Rio   \n",
       "23613                                  How Crazy Is That      Derrick Ryan   \n",
       "3422                      Song To The Siren (Remastered)  This Mortal Coil   \n",
       "30005                     Where Is the Love (Wave Remix)      Alex Martura   \n",
       "\n",
       "      genre  danceability  energy  key  loudness  mode  speechiness  \\\n",
       "30056   edm         0.520   0.789    0    -7.717     1       0.0432   \n",
       "11827  rock         0.651   0.661    9   -11.405     1       0.0511   \n",
       "23571   r&b         0.640   0.758   10    -5.204     1       0.1600   \n",
       "14741  rock         0.398   0.966    4    -2.352     0       0.0453   \n",
       "25570   r&b         0.447   0.625   10    -8.212     0       0.3230   \n",
       "...     ...           ...     ...  ...       ...   ...          ...   \n",
       "7836    rap         0.753   0.514    7   -12.235     1       0.2600   \n",
       "764     pop         0.746   0.909   11    -6.032     1       0.0580   \n",
       "23613   r&b         0.782   0.326    6   -12.198     0       0.0754   \n",
       "3422    pop         0.216   0.240   10   -12.598     1       0.0406   \n",
       "30005   edm         0.793   0.645    2    -9.815     0       0.0443   \n",
       "\n",
       "       acousticness  instrumentalness  liveness  valence    tempo  duration_ms  \n",
       "30056      0.004910          0.000013    0.0816   0.4150  174.026       216347  \n",
       "11827      0.265000          0.003130    0.1060   0.4890  156.371       378707  \n",
       "23571      0.665000          0.000000    0.1270   0.9320   86.529       218044  \n",
       "14741      0.000006          0.000000    0.3030   0.5200   90.016       208196  \n",
       "25570      0.035100          0.000727    0.2430   0.2610   67.104       440013  \n",
       "...             ...               ...       ...      ...      ...          ...  \n",
       "7836       0.061200          0.000000    0.2920   0.5630  166.015       287600  \n",
       "764        0.206000          0.000002    0.0656   0.9620  103.189       222027  \n",
       "23613      0.058500          0.000009    0.1320   0.1970  123.940       193548  \n",
       "3422       0.843000          0.000006    0.1350   0.0875  128.679       211093  \n",
       "30005      0.531000          0.000210    0.1000   0.3650  115.980       184138  \n",
       "\n",
       "[8208 rows x 15 columns]"
      ]
     },
     "execution_count": 37,
     "metadata": {},
     "output_type": "execute_result"
    }
   ],
   "source": [
    "spotify_data"
   ]
  },
  {
   "cell_type": "code",
   "execution_count": 38,
   "metadata": {},
   "outputs": [
    {
     "name": "stdout",
     "output_type": "stream",
     "text": [
      "34c5b62e9510fbf18271381aba7cf683\n"
     ]
    }
   ],
   "source": [
    "user_index = 4  # Change based on your user profile index\n",
    "user_id = user_profiles.iloc[user_index]['userid']\n",
    "\n",
    "print(user_id)"
   ]
  },
  {
   "cell_type": "code",
   "execution_count": 39,
   "metadata": {},
   "outputs": [
    {
     "name": "stdout",
     "output_type": "stream",
     "text": [
      "Starting batch processing... Total users: 647, Total songs: 8208\n",
      "Processing batch from user index 0 to 99\n",
      "Feature similarity calculated for batch. Shape: (100, 8208)\n",
      "Genre and artist similarity calculated for batch.\n",
      "Interaction scores updated for batch. Current shape of scores array: (647, 8208)\n",
      "Garbage collection triggered after processing batch.\n",
      "Processing batch from user index 100 to 199\n",
      "Feature similarity calculated for batch. Shape: (100, 8208)\n",
      "Genre and artist similarity calculated for batch.\n",
      "Interaction scores updated for batch. Current shape of scores array: (647, 8208)\n",
      "Garbage collection triggered after processing batch.\n",
      "Processing batch from user index 200 to 299\n",
      "Feature similarity calculated for batch. Shape: (100, 8208)\n",
      "Genre and artist similarity calculated for batch.\n",
      "Interaction scores updated for batch. Current shape of scores array: (647, 8208)\n"
     ]
    }
   ],
   "source": [
    "import numpy as np\n",
    "import gc  # Garbage Collector interface\n",
    "\n",
    "def calculate_interaction_batch(user_features_scaled, spotify_features_scaled, user_profiles, spotify_data, batch_size=100):\n",
    "    num_users = user_profiles.shape[0]\n",
    "    num_songs = spotify_data.shape[0]\n",
    "    interaction_scores = np.zeros((num_users, num_songs))\n",
    "    \n",
    "    print(f\"Starting batch processing... Total users: {num_users}, Total songs: {num_songs}\")\n",
    "\n",
    "    # Batch processing\n",
    "    for start_idx in range(0, num_users, batch_size):\n",
    "        end_idx = min(start_idx + batch_size, num_users)\n",
    "        print(f\"Processing batch from user index {start_idx} to {end_idx - 1}\")\n",
    "\n",
    "        # Calculate distances and similarity scores for the batch\n",
    "        user_batch = user_features_scaled[start_idx:end_idx]\n",
    "        distances = np.sqrt(((user_batch[:, np.newaxis, :] - spotify_features_scaled[np.newaxis, :, :]) ** 2).sum(axis=2))\n",
    "        feature_similarity = np.exp(-distances)\n",
    "        print(f\"Feature similarity calculated for batch. Shape: {feature_similarity.shape}\")\n",
    "\n",
    "        # Calculate genre and artist similarity\n",
    "        genre_similarity = (user_profiles['genre'].values[start_idx:end_idx, np.newaxis] == spotify_data['genre'].values[np.newaxis, :]).astype(int)\n",
    "        artist_similarity = (user_profiles['artist'].values[start_idx:end_idx, np.newaxis] == spotify_data['artist'].values[np.newaxis, :]).astype(int)\n",
    "        print(f\"Genre and artist similarity calculated for batch.\")\n",
    "\n",
    "        # Calculate composite score for the batch\n",
    "        interaction_scores[start_idx:end_idx] = 0.35 * feature_similarity + 0.6 * genre_similarity + 0.05 * artist_similarity\n",
    "        print(f\"Interaction scores updated for batch. Current shape of scores array: {interaction_scores.shape}\")\n",
    "\n",
    "        # Explicitly call garbage collection\n",
    "        gc.collect()\n",
    "        print(f\"Garbage collection triggered after processing batch.\")\n",
    "\n",
    "    return interaction_scores\n",
    "\n",
    "# Usage example with debugging\n",
    "interaction_scores = calculate_interaction_batch(user_features_scaled, spotify_features_scaled, user_profiles, spotify_data, batch_size=100)\n",
    "interaction_threshold = np.percentile(interaction_scores, 75)  # top 25% as positive interaction\n",
    "interaction = (interaction_scores >= interaction_threshold).astype(int)\n",
    "\n",
    "# Flatten interaction matrix and features for neural network input\n",
    "X = spotify_features_scaled.repeat(len(user_profiles), axis=0)\n",
    "y = interaction.flatten()\n",
    "print(\"Data prepared for neural network input.\")\n",
    "\n",
    "# def calculate_interaction_vectorized(user_features_scaled, spotify_features_scaled, user_profiles, spotify_data):\n",
    "#     # Euclidean distances\n",
    "#     distances = np.sqrt(((user_features_scaled[:, np.newaxis, :] - spotify_features_scaled[np.newaxis, :, :]) ** 2).sum(axis=2))\n",
    "#     print(distances)\n",
    "#     # Scale distances into similarity scores (exp(-distance))\n",
    "#     feature_similarity = np.exp(-distances)\n",
    "#     print(feature_similarity)\n",
    "#     # Genre and artist similarity (binary 0 or 1)\n",
    "#     genre_similarity = (user_profiles['genre'].values[:, np.newaxis] == spotify_data['genre'].values[np.newaxis, :]).astype(int)\n",
    "#     print(genre_similarity)\n",
    "#     artist_similarity = (user_profiles['artist'].values[:, np.newaxis] == spotify_data['artist'].values[np.newaxis, :]).astype(int)\n",
    "#     print(artist_similarity)\n",
    "    \n",
    "#     # Composite score\n",
    "#     interaction_scores = 0.7 * feature_similarity + 0.2 * genre_similarity + 0.1 * artist_similarity\n",
    "#     print(interaction_scores)\n",
    "#     return interaction_scores\n",
    "\n",
    "# # Generate interaction scores\n",
    "# interaction_scores = calculate_interaction_vectorized(user_features_scaled, spotify_features_scaled, user_profiles, spotify_data)\n",
    "# interaction_threshold = np.percentile(interaction_scores, 75)  # top 25% as positive interaction\n",
    "# interaction = (interaction_scores >= interaction_threshold).astype(int)\n",
    "\n",
    "# # Flatten interaction matrix and features for neural network input\n",
    "# X = spotify_features_scaled.repeat(len(user_profiles), axis=0)\n",
    "# y = interaction.flatten()"
   ]
  },
  {
   "cell_type": "code",
   "execution_count": null,
   "metadata": {},
   "outputs": [
    {
     "name": "stdout",
     "output_type": "stream",
     "text": [
      "Model compiled.\n"
     ]
    },
    {
     "name": "stderr",
     "output_type": "stream",
     "text": [
      "c:\\Users\\Student\\AppData\\Local\\Programs\\Python\\Python312\\Lib\\site-packages\\keras\\src\\layers\\core\\dense.py:87: UserWarning:\n",
      "\n",
      "Do not pass an `input_shape`/`input_dim` argument to a layer. When using Sequential models, prefer using an `Input(shape)` object as the first layer in the model instead.\n",
      "\n"
     ]
    },
    {
     "name": "stdout",
     "output_type": "stream",
     "text": [
      "Data split into training and testing sets. Training model...\n"
     ]
    }
   ],
   "source": [
    "# Neural network setup with Dropout\n",
    "model = Sequential([\n",
    "    Dense(128, activation='relu', input_dim=len(features)),\n",
    "    Dropout(0.1),  # Dropout to prevent overfitting\n",
    "    Dense(256, activation='relu'),\n",
    "    Dense(512, activation='relu'),\n",
    "    Dense(64, activation='relu'),\n",
    "    Dense(1, activation='sigmoid')  # Output a score between 0 and 1\n",
    "])\n",
    "model.compile(optimizer='adam', loss='binary_crossentropy', metrics=['accuracy'])\n",
    "\n",
    "print(\"Model compiled.\")\n",
    "\n",
    "# Splitting the dataset\n",
    "X_train, X_test, y_train, y_test = train_test_split(X, y, test_size=0.2, random_state=42)\n",
    "\n",
    "print(\"Data split into training and testing sets. Training model...\")"
   ]
  },
  {
   "cell_type": "code",
   "execution_count": null,
   "metadata": {},
   "outputs": [
    {
     "name": "stdout",
     "output_type": "stream",
     "text": [
      "Epoch 1/10\n",
      "\u001b[1m66383/66383\u001b[0m \u001b[32m━━━━━━━━━━━━━━━━━━━━\u001b[0m\u001b[37m\u001b[0m \u001b[1m112s\u001b[0m 2ms/step - accuracy: 0.7499 - loss: 0.5633 - val_accuracy: 0.7495 - val_loss: 0.5628\n",
      "Epoch 2/10\n",
      "\u001b[1m66383/66383\u001b[0m \u001b[32m━━━━━━━━━━━━━━━━━━━━\u001b[0m\u001b[37m\u001b[0m \u001b[1m105s\u001b[0m 2ms/step - accuracy: 0.7501 - loss: 0.5622 - val_accuracy: 0.7495 - val_loss: 0.5628\n",
      "Epoch 3/10\n",
      "\u001b[1m66383/66383\u001b[0m \u001b[32m━━━━━━━━━━━━━━━━━━━━\u001b[0m\u001b[37m\u001b[0m \u001b[1m99s\u001b[0m 1ms/step - accuracy: 0.7500 - loss: 0.5623 - val_accuracy: 0.7495 - val_loss: 0.5628\n",
      "Epoch 4/10\n",
      "\u001b[1m66383/66383\u001b[0m \u001b[32m━━━━━━━━━━━━━━━━━━━━\u001b[0m\u001b[37m\u001b[0m \u001b[1m104s\u001b[0m 2ms/step - accuracy: 0.7502 - loss: 0.5620 - val_accuracy: 0.7495 - val_loss: 0.5628\n",
      "Epoch 5/10\n",
      "\u001b[1m66383/66383\u001b[0m \u001b[32m━━━━━━━━━━━━━━━━━━━━\u001b[0m\u001b[37m\u001b[0m \u001b[1m99s\u001b[0m 1ms/step - accuracy: 0.7502 - loss: 0.5620 - val_accuracy: 0.7495 - val_loss: 0.5627\n",
      "Epoch 6/10\n",
      "\u001b[1m66383/66383\u001b[0m \u001b[32m━━━━━━━━━━━━━━━━━━━━\u001b[0m\u001b[37m\u001b[0m \u001b[1m98s\u001b[0m 1ms/step - accuracy: 0.7503 - loss: 0.5618 - val_accuracy: 0.7495 - val_loss: 0.5628\n",
      "Epoch 7/10\n",
      "\u001b[1m66383/66383\u001b[0m \u001b[32m━━━━━━━━━━━━━━━━━━━━\u001b[0m\u001b[37m\u001b[0m \u001b[1m109s\u001b[0m 2ms/step - accuracy: 0.7504 - loss: 0.5617 - val_accuracy: 0.7495 - val_loss: 0.5626\n",
      "Epoch 8/10\n",
      "\u001b[1m66383/66383\u001b[0m \u001b[32m━━━━━━━━━━━━━━━━━━━━\u001b[0m\u001b[37m\u001b[0m \u001b[1m93s\u001b[0m 1ms/step - accuracy: 0.7505 - loss: 0.5615 - val_accuracy: 0.7495 - val_loss: 0.5627\n",
      "Epoch 9/10\n",
      "\u001b[1m66383/66383\u001b[0m \u001b[32m━━━━━━━━━━━━━━━━━━━━\u001b[0m\u001b[37m\u001b[0m \u001b[1m94s\u001b[0m 1ms/step - accuracy: 0.7503 - loss: 0.5618 - val_accuracy: 0.7495 - val_loss: 0.5626\n",
      "Epoch 10/10\n",
      "\u001b[1m66383/66383\u001b[0m \u001b[32m━━━━━━━━━━━━━━━━━━━━\u001b[0m\u001b[37m\u001b[0m \u001b[1m99s\u001b[0m 1ms/step - accuracy: 0.7500 - loss: 0.5620 - val_accuracy: 0.7495 - val_loss: 0.5626\n"
     ]
    },
    {
     "data": {
      "text/plain": [
       "712"
      ]
     },
     "execution_count": 28,
     "metadata": {},
     "output_type": "execute_result"
    }
   ],
   "source": [
    "model.fit(X_train, y_train, epochs=100, batch_size=64, validation_data=(X_test, y_test))\n",
    "gc.collect()"
   ]
  },
  {
   "cell_type": "code",
   "execution_count": null,
   "metadata": {},
   "outputs": [
    {
     "name": "stdout",
     "output_type": "stream",
     "text": [
      "\u001b[1m257/257\u001b[0m \u001b[32m━━━━━━━━━━━━━━━━━━━━\u001b[0m\u001b[37m\u001b[0m \u001b[1m0s\u001b[0m 1ms/step\n",
      "prediction complete and memory cleared.\n"
     ]
    }
   ],
   "source": [
    "# Predict interaction scores for all songs using batch prediction\n",
    "predicted_scores = model.predict(spotify_features_scaled).flatten()\n",
    "spotify_data['predicted_interaction'] = predicted_scores\n",
    "gc.collect()  # Clear memory of no longer needed large objects\n",
    "print(\"prediction complete and memory cleared.\")"
   ]
  },
  {
   "cell_type": "code",
   "execution_count": null,
   "metadata": {},
   "outputs": [
    {
     "name": "stdout",
     "output_type": "stream",
     "text": [
      "k-NN model set up.\n",
      "\u001b[1m1/1\u001b[0m \u001b[32m━━━━━━━━━━━━━━━━━━━━\u001b[0m\u001b[37m\u001b[0m \u001b[1m0s\u001b[0m 26ms/step\n"
     ]
    }
   ],
   "source": [
    "# k-NN model using enhanced features\n",
    "features_with_score = features + ['predicted_interaction']\n",
    "knn = NearestNeighbors(n_neighbors=5, metric='euclidean')\n",
    "knn.fit(spotify_data[features_with_score])\n",
    "print(\"k-NN model set up.\")\n",
    "\n",
    "user_index = 3  # Change based on your user profile index\n",
    "user_id = user_profiles.iloc[user_index]['userid']\n",
    "user_top_genre = user_profiles.iloc[user_index]['genre']\n",
    "user_feature_vector = user_features_scaled[user_index].reshape(1, -1)\n",
    "user_predicted_score = model.predict(user_feature_vector).flatten()[0]\n",
    "query_vector = np.append(user_feature_vector, user_predicted_score).reshape(1, -1)"
   ]
  },
  {
   "cell_type": "code",
   "execution_count": null,
   "metadata": {},
   "outputs": [
    {
     "name": "stdout",
     "output_type": "stream",
     "text": [
      "Recommended Songs for User: 21d45478089ae25edde1c7a255ff5b47, Top Genre: pop\n",
      "                               track            artist  genre\n",
      "11363          Hi, How're You Doin'?  DREAMS COME TRUE   rock\n",
      "28117                      Interlude      Martin Numan    edm\n",
      "28131              Mortal Transition            Semser    edm\n",
      "17017  Tropical Rainforest at Dawn 6     Nature Sounds  latin\n",
      "1516       Canción del encantamiento      Carmen López    pop\n",
      "\u001b[1m    1/33192\u001b[0m \u001b[37m━━━━━━━━━━━━━━━━━━━━\u001b[0m \u001b[1m30:57\u001b[0m 56ms/step"
     ]
    },
    {
     "name": "stderr",
     "output_type": "stream",
     "text": [
      "c:\\Users\\Student\\AppData\\Local\\Programs\\Python\\Python312\\Lib\\site-packages\\sklearn\\base.py:493: UserWarning:\n",
      "\n",
      "X does not have valid feature names, but NearestNeighbors was fitted with feature names\n",
      "\n"
     ]
    },
    {
     "name": "stdout",
     "output_type": "stream",
     "text": [
      "\u001b[1m33192/33192\u001b[0m \u001b[32m━━━━━━━━━━━━━━━━━━━━\u001b[0m\u001b[37m\u001b[0m \u001b[1m26s\u001b[0m 787us/step\n",
      "RMSE for neural network predictions: 0.4331675646716933\n"
     ]
    },
    {
     "name": "stderr",
     "output_type": "stream",
     "text": [
      "c:\\Users\\Student\\AppData\\Local\\Programs\\Python\\Python312\\Lib\\site-packages\\sklearn\\metrics\\_regression.py:483: FutureWarning:\n",
      "\n",
      "'squared' is deprecated in version 1.4 and will be removed in 1.6. To calculate the root mean squared error, use the function'root_mean_squared_error'.\n",
      "\n"
     ]
    }
   ],
   "source": [
    "# Finding top 5 nearest songs\n",
    "distances, indices = knn.kneighbors(query_vector)\n",
    "recommended_songs = spotify_data.iloc[indices[0]]\n",
    "\n",
    "# Output recommended songs\n",
    "print(f\"Recommended Songs for User: {user_id}, Top Genre: {user_top_genre}\")\n",
    "print(recommended_songs[['track', 'artist', 'genre']])\n",
    "\n",
    "# Validation\n",
    "predicted_interactions = model.predict(X_test).flatten()\n",
    "rmse = mean_squared_error(y_test, predicted_interactions, squared=False)\n",
    "print(\"RMSE for neural network predictions:\", rmse)"
   ]
  },
  {
   "cell_type": "code",
   "execution_count": null,
   "metadata": {},
   "outputs": [],
   "source": [
    "# # Predict interaction scores for all songs\n",
    "\n",
    "# print(\"starting prediction\") \n",
    "\n",
    "# predicted_scores = model.predict(spotify_features_scaled).flatten()\n",
    "# spotify_data['predicted_interaction'] = predicted_scores\n",
    "\n",
    "# # k-NN model using enhanced features\n",
    "# features_with_score = features + ['predicted_interaction']\n",
    "# knn = NearestNeighbors(n_neighbors=5, metric='euclidean')\n",
    "# knn.fit(spotify_data[features_with_score])\n",
    "\n",
    "# # Example user query using k-NN with neural network outputs\n",
    "# user_index = 3  # Change based on your user profile index\n",
    "# user_id = user_profiles.iloc[user_index]['userid']\n",
    "# user_top_genre = user_profiles.iloc[user_index]['genre']\n",
    "# user_feature_vector = user_features_scaled[user_index].reshape(1, -1)\n",
    "# user_predicted_score = model.predict(user_feature_vector).flatten()[0]\n",
    "# query_vector = np.append(user_feature_vector, user_predicted_score).reshape(1, -1)\n",
    "\n",
    "# # Finding top 5 nearest songs\n",
    "# distances, indices = knn.kneighbors(query_vector)\n",
    "# recommended_songs = spotify_data.iloc[indices[0]]\n",
    "\n",
    "# # Output recommended songs\n",
    "# print(f\"Recommended Songs for User: {user_id}, Top Genre: {user_top_genre}\")\n",
    "# print(recommended_songs[['track', 'artist', 'genre']])\n",
    "\n",
    "# # Validation\n",
    "# predicted_interactions = model.predict(X_test).flatten()\n",
    "# rmse = mean_squared_error(y_test, predicted_interactions, squared=False)\n",
    "# print(\"RMSE for neural network predictions:\", rmse)\n"
   ]
  },
  {
   "cell_type": "code",
   "execution_count": null,
   "metadata": {},
   "outputs": [],
   "source": [
    "nn_features = spotify_data.iloc[indices[0]][['acousticness', 'danceability', 'energy']]"
   ]
  },
  {
   "cell_type": "code",
   "execution_count": null,
   "metadata": {},
   "outputs": [
    {
     "data": {
      "application/vnd.plotly.v1+json": {
       "config": {
        "plotlyServerURL": "https://plot.ly"
       },
       "data": [
        {
         "marker": {
          "color": "blue",
          "opacity": 0.8,
          "size": 5
         },
         "mode": "markers",
         "name": "Nearest Neighbors",
         "type": "scatter3d",
         "x": [
          0,
          0.563,
          0.00123,
          0.877,
          0.962
         ],
         "y": [
          0,
          0.59,
          0.508,
          0.318,
          0.379
         ],
         "z": [
          0.315,
          0.813,
          0.921,
          0.179,
          0.00814
         ]
        },
        {
         "marker": {
          "color": "red",
          "opacity": 1,
          "size": 10
         },
         "mode": "markers",
         "name": "Query User",
         "type": "scatter3d",
         "x": [
          -0.9379027587081376
         ],
         "y": [
          -1.97223439729723
         ],
         "z": [
          0.2185224134992147
         ]
        }
       ],
       "layout": {
        "margin": {
         "b": 0,
         "l": 0,
         "r": 0,
         "t": 0
        },
        "scene": {
         "xaxis": {
          "title": {
           "text": "acousticness"
          }
         },
         "yaxis": {
          "title": {
           "text": "danceability"
          }
         },
         "zaxis": {
          "title": {
           "text": "energy"
          }
         }
        },
        "template": {
         "data": {
          "bar": [
           {
            "error_x": {
             "color": "#2a3f5f"
            },
            "error_y": {
             "color": "#2a3f5f"
            },
            "marker": {
             "line": {
              "color": "#E5ECF6",
              "width": 0.5
             },
             "pattern": {
              "fillmode": "overlay",
              "size": 10,
              "solidity": 0.2
             }
            },
            "type": "bar"
           }
          ],
          "barpolar": [
           {
            "marker": {
             "line": {
              "color": "#E5ECF6",
              "width": 0.5
             },
             "pattern": {
              "fillmode": "overlay",
              "size": 10,
              "solidity": 0.2
             }
            },
            "type": "barpolar"
           }
          ],
          "carpet": [
           {
            "aaxis": {
             "endlinecolor": "#2a3f5f",
             "gridcolor": "white",
             "linecolor": "white",
             "minorgridcolor": "white",
             "startlinecolor": "#2a3f5f"
            },
            "baxis": {
             "endlinecolor": "#2a3f5f",
             "gridcolor": "white",
             "linecolor": "white",
             "minorgridcolor": "white",
             "startlinecolor": "#2a3f5f"
            },
            "type": "carpet"
           }
          ],
          "choropleth": [
           {
            "colorbar": {
             "outlinewidth": 0,
             "ticks": ""
            },
            "type": "choropleth"
           }
          ],
          "contour": [
           {
            "colorbar": {
             "outlinewidth": 0,
             "ticks": ""
            },
            "colorscale": [
             [
              0,
              "#0d0887"
             ],
             [
              0.1111111111111111,
              "#46039f"
             ],
             [
              0.2222222222222222,
              "#7201a8"
             ],
             [
              0.3333333333333333,
              "#9c179e"
             ],
             [
              0.4444444444444444,
              "#bd3786"
             ],
             [
              0.5555555555555556,
              "#d8576b"
             ],
             [
              0.6666666666666666,
              "#ed7953"
             ],
             [
              0.7777777777777778,
              "#fb9f3a"
             ],
             [
              0.8888888888888888,
              "#fdca26"
             ],
             [
              1,
              "#f0f921"
             ]
            ],
            "type": "contour"
           }
          ],
          "contourcarpet": [
           {
            "colorbar": {
             "outlinewidth": 0,
             "ticks": ""
            },
            "type": "contourcarpet"
           }
          ],
          "heatmap": [
           {
            "colorbar": {
             "outlinewidth": 0,
             "ticks": ""
            },
            "colorscale": [
             [
              0,
              "#0d0887"
             ],
             [
              0.1111111111111111,
              "#46039f"
             ],
             [
              0.2222222222222222,
              "#7201a8"
             ],
             [
              0.3333333333333333,
              "#9c179e"
             ],
             [
              0.4444444444444444,
              "#bd3786"
             ],
             [
              0.5555555555555556,
              "#d8576b"
             ],
             [
              0.6666666666666666,
              "#ed7953"
             ],
             [
              0.7777777777777778,
              "#fb9f3a"
             ],
             [
              0.8888888888888888,
              "#fdca26"
             ],
             [
              1,
              "#f0f921"
             ]
            ],
            "type": "heatmap"
           }
          ],
          "heatmapgl": [
           {
            "colorbar": {
             "outlinewidth": 0,
             "ticks": ""
            },
            "colorscale": [
             [
              0,
              "#0d0887"
             ],
             [
              0.1111111111111111,
              "#46039f"
             ],
             [
              0.2222222222222222,
              "#7201a8"
             ],
             [
              0.3333333333333333,
              "#9c179e"
             ],
             [
              0.4444444444444444,
              "#bd3786"
             ],
             [
              0.5555555555555556,
              "#d8576b"
             ],
             [
              0.6666666666666666,
              "#ed7953"
             ],
             [
              0.7777777777777778,
              "#fb9f3a"
             ],
             [
              0.8888888888888888,
              "#fdca26"
             ],
             [
              1,
              "#f0f921"
             ]
            ],
            "type": "heatmapgl"
           }
          ],
          "histogram": [
           {
            "marker": {
             "pattern": {
              "fillmode": "overlay",
              "size": 10,
              "solidity": 0.2
             }
            },
            "type": "histogram"
           }
          ],
          "histogram2d": [
           {
            "colorbar": {
             "outlinewidth": 0,
             "ticks": ""
            },
            "colorscale": [
             [
              0,
              "#0d0887"
             ],
             [
              0.1111111111111111,
              "#46039f"
             ],
             [
              0.2222222222222222,
              "#7201a8"
             ],
             [
              0.3333333333333333,
              "#9c179e"
             ],
             [
              0.4444444444444444,
              "#bd3786"
             ],
             [
              0.5555555555555556,
              "#d8576b"
             ],
             [
              0.6666666666666666,
              "#ed7953"
             ],
             [
              0.7777777777777778,
              "#fb9f3a"
             ],
             [
              0.8888888888888888,
              "#fdca26"
             ],
             [
              1,
              "#f0f921"
             ]
            ],
            "type": "histogram2d"
           }
          ],
          "histogram2dcontour": [
           {
            "colorbar": {
             "outlinewidth": 0,
             "ticks": ""
            },
            "colorscale": [
             [
              0,
              "#0d0887"
             ],
             [
              0.1111111111111111,
              "#46039f"
             ],
             [
              0.2222222222222222,
              "#7201a8"
             ],
             [
              0.3333333333333333,
              "#9c179e"
             ],
             [
              0.4444444444444444,
              "#bd3786"
             ],
             [
              0.5555555555555556,
              "#d8576b"
             ],
             [
              0.6666666666666666,
              "#ed7953"
             ],
             [
              0.7777777777777778,
              "#fb9f3a"
             ],
             [
              0.8888888888888888,
              "#fdca26"
             ],
             [
              1,
              "#f0f921"
             ]
            ],
            "type": "histogram2dcontour"
           }
          ],
          "mesh3d": [
           {
            "colorbar": {
             "outlinewidth": 0,
             "ticks": ""
            },
            "type": "mesh3d"
           }
          ],
          "parcoords": [
           {
            "line": {
             "colorbar": {
              "outlinewidth": 0,
              "ticks": ""
             }
            },
            "type": "parcoords"
           }
          ],
          "pie": [
           {
            "automargin": true,
            "type": "pie"
           }
          ],
          "scatter": [
           {
            "fillpattern": {
             "fillmode": "overlay",
             "size": 10,
             "solidity": 0.2
            },
            "type": "scatter"
           }
          ],
          "scatter3d": [
           {
            "line": {
             "colorbar": {
              "outlinewidth": 0,
              "ticks": ""
             }
            },
            "marker": {
             "colorbar": {
              "outlinewidth": 0,
              "ticks": ""
             }
            },
            "type": "scatter3d"
           }
          ],
          "scattercarpet": [
           {
            "marker": {
             "colorbar": {
              "outlinewidth": 0,
              "ticks": ""
             }
            },
            "type": "scattercarpet"
           }
          ],
          "scattergeo": [
           {
            "marker": {
             "colorbar": {
              "outlinewidth": 0,
              "ticks": ""
             }
            },
            "type": "scattergeo"
           }
          ],
          "scattergl": [
           {
            "marker": {
             "colorbar": {
              "outlinewidth": 0,
              "ticks": ""
             }
            },
            "type": "scattergl"
           }
          ],
          "scattermapbox": [
           {
            "marker": {
             "colorbar": {
              "outlinewidth": 0,
              "ticks": ""
             }
            },
            "type": "scattermapbox"
           }
          ],
          "scatterpolar": [
           {
            "marker": {
             "colorbar": {
              "outlinewidth": 0,
              "ticks": ""
             }
            },
            "type": "scatterpolar"
           }
          ],
          "scatterpolargl": [
           {
            "marker": {
             "colorbar": {
              "outlinewidth": 0,
              "ticks": ""
             }
            },
            "type": "scatterpolargl"
           }
          ],
          "scatterternary": [
           {
            "marker": {
             "colorbar": {
              "outlinewidth": 0,
              "ticks": ""
             }
            },
            "type": "scatterternary"
           }
          ],
          "surface": [
           {
            "colorbar": {
             "outlinewidth": 0,
             "ticks": ""
            },
            "colorscale": [
             [
              0,
              "#0d0887"
             ],
             [
              0.1111111111111111,
              "#46039f"
             ],
             [
              0.2222222222222222,
              "#7201a8"
             ],
             [
              0.3333333333333333,
              "#9c179e"
             ],
             [
              0.4444444444444444,
              "#bd3786"
             ],
             [
              0.5555555555555556,
              "#d8576b"
             ],
             [
              0.6666666666666666,
              "#ed7953"
             ],
             [
              0.7777777777777778,
              "#fb9f3a"
             ],
             [
              0.8888888888888888,
              "#fdca26"
             ],
             [
              1,
              "#f0f921"
             ]
            ],
            "type": "surface"
           }
          ],
          "table": [
           {
            "cells": {
             "fill": {
              "color": "#EBF0F8"
             },
             "line": {
              "color": "white"
             }
            },
            "header": {
             "fill": {
              "color": "#C8D4E3"
             },
             "line": {
              "color": "white"
             }
            },
            "type": "table"
           }
          ]
         },
         "layout": {
          "annotationdefaults": {
           "arrowcolor": "#2a3f5f",
           "arrowhead": 0,
           "arrowwidth": 1
          },
          "autotypenumbers": "strict",
          "coloraxis": {
           "colorbar": {
            "outlinewidth": 0,
            "ticks": ""
           }
          },
          "colorscale": {
           "diverging": [
            [
             0,
             "#8e0152"
            ],
            [
             0.1,
             "#c51b7d"
            ],
            [
             0.2,
             "#de77ae"
            ],
            [
             0.3,
             "#f1b6da"
            ],
            [
             0.4,
             "#fde0ef"
            ],
            [
             0.5,
             "#f7f7f7"
            ],
            [
             0.6,
             "#e6f5d0"
            ],
            [
             0.7,
             "#b8e186"
            ],
            [
             0.8,
             "#7fbc41"
            ],
            [
             0.9,
             "#4d9221"
            ],
            [
             1,
             "#276419"
            ]
           ],
           "sequential": [
            [
             0,
             "#0d0887"
            ],
            [
             0.1111111111111111,
             "#46039f"
            ],
            [
             0.2222222222222222,
             "#7201a8"
            ],
            [
             0.3333333333333333,
             "#9c179e"
            ],
            [
             0.4444444444444444,
             "#bd3786"
            ],
            [
             0.5555555555555556,
             "#d8576b"
            ],
            [
             0.6666666666666666,
             "#ed7953"
            ],
            [
             0.7777777777777778,
             "#fb9f3a"
            ],
            [
             0.8888888888888888,
             "#fdca26"
            ],
            [
             1,
             "#f0f921"
            ]
           ],
           "sequentialminus": [
            [
             0,
             "#0d0887"
            ],
            [
             0.1111111111111111,
             "#46039f"
            ],
            [
             0.2222222222222222,
             "#7201a8"
            ],
            [
             0.3333333333333333,
             "#9c179e"
            ],
            [
             0.4444444444444444,
             "#bd3786"
            ],
            [
             0.5555555555555556,
             "#d8576b"
            ],
            [
             0.6666666666666666,
             "#ed7953"
            ],
            [
             0.7777777777777778,
             "#fb9f3a"
            ],
            [
             0.8888888888888888,
             "#fdca26"
            ],
            [
             1,
             "#f0f921"
            ]
           ]
          },
          "colorway": [
           "#636efa",
           "#EF553B",
           "#00cc96",
           "#ab63fa",
           "#FFA15A",
           "#19d3f3",
           "#FF6692",
           "#B6E880",
           "#FF97FF",
           "#FECB52"
          ],
          "font": {
           "color": "#2a3f5f"
          },
          "geo": {
           "bgcolor": "white",
           "lakecolor": "white",
           "landcolor": "#E5ECF6",
           "showlakes": true,
           "showland": true,
           "subunitcolor": "white"
          },
          "hoverlabel": {
           "align": "left"
          },
          "hovermode": "closest",
          "mapbox": {
           "style": "light"
          },
          "paper_bgcolor": "white",
          "plot_bgcolor": "#E5ECF6",
          "polar": {
           "angularaxis": {
            "gridcolor": "white",
            "linecolor": "white",
            "ticks": ""
           },
           "bgcolor": "#E5ECF6",
           "radialaxis": {
            "gridcolor": "white",
            "linecolor": "white",
            "ticks": ""
           }
          },
          "scene": {
           "xaxis": {
            "backgroundcolor": "#E5ECF6",
            "gridcolor": "white",
            "gridwidth": 2,
            "linecolor": "white",
            "showbackground": true,
            "ticks": "",
            "zerolinecolor": "white"
           },
           "yaxis": {
            "backgroundcolor": "#E5ECF6",
            "gridcolor": "white",
            "gridwidth": 2,
            "linecolor": "white",
            "showbackground": true,
            "ticks": "",
            "zerolinecolor": "white"
           },
           "zaxis": {
            "backgroundcolor": "#E5ECF6",
            "gridcolor": "white",
            "gridwidth": 2,
            "linecolor": "white",
            "showbackground": true,
            "ticks": "",
            "zerolinecolor": "white"
           }
          },
          "shapedefaults": {
           "line": {
            "color": "#2a3f5f"
           }
          },
          "ternary": {
           "aaxis": {
            "gridcolor": "white",
            "linecolor": "white",
            "ticks": ""
           },
           "baxis": {
            "gridcolor": "white",
            "linecolor": "white",
            "ticks": ""
           },
           "bgcolor": "#E5ECF6",
           "caxis": {
            "gridcolor": "white",
            "linecolor": "white",
            "ticks": ""
           }
          },
          "title": {
           "x": 0.05
          },
          "xaxis": {
           "automargin": true,
           "gridcolor": "white",
           "linecolor": "white",
           "ticks": "",
           "title": {
            "standoff": 15
           },
           "zerolinecolor": "white",
           "zerolinewidth": 2
          },
          "yaxis": {
           "automargin": true,
           "gridcolor": "white",
           "linecolor": "white",
           "ticks": "",
           "title": {
            "standoff": 15
           },
           "zerolinecolor": "white",
           "zerolinewidth": 2
          }
         }
        },
        "title": {
         "text": "3D Scatter Plot of User and Nearest Neighbors in Feature Space"
        }
       }
      }
     },
     "metadata": {},
     "output_type": "display_data"
    }
   ],
   "source": [
    "import plotly.graph_objects as go\n",
    "\n",
    "# Assuming you have selected three features from your dataset for the plot\n",
    "# Let's say 'feature1', 'feature2', and 'feature3' are the columns you're interested in\n",
    "\n",
    "# Extract these features for the nearest neighbors\n",
    "\n",
    "\n",
    "# Extract the query user's features (assuming the query_vector includes these three features)\n",
    "query_features = query_vector[0, :3]  # Make sure this slicing matches the feature indices\n",
    "\n",
    "# Create a scatter plot for the neighbors\n",
    "trace_neighbors = go.Scatter3d(\n",
    "    x=nn_features['acousticness'],\n",
    "    y=nn_features['danceability'],\n",
    "    z=nn_features['energy'],\n",
    "    mode='markers',\n",
    "    marker=dict(size=5, color='blue', opacity=0.8),\n",
    "    name='Nearest Neighbors'\n",
    ")\n",
    "\n",
    "# Add the query user's point\n",
    "trace_query = go.Scatter3d(\n",
    "    x=[query_features[0]],\n",
    "    y=[query_features[1]],\n",
    "    z=[query_features[2]],\n",
    "    mode='markers',\n",
    "    marker=dict(size=10, color='red', opacity=1),\n",
    "    name='Query User'\n",
    ")\n",
    "\n",
    "# Define the layout and plot everything\n",
    "layout = go.Layout(\n",
    "    title='3D Scatter Plot of User and Nearest Neighbors in Feature Space',\n",
    "    margin=dict(l=0, r=0, b=0, t=0),\n",
    "    scene=dict(\n",
    "        xaxis_title='acousticness',\n",
    "        yaxis_title='danceability',\n",
    "        zaxis_title='energy'\n",
    "    )\n",
    ")\n",
    "\n",
    "fig = go.Figure(data=[trace_neighbors, trace_query], layout=layout)\n",
    "fig.show()\n"
   ]
  },
  {
   "cell_type": "code",
   "execution_count": null,
   "metadata": {},
   "outputs": [],
   "source": [
    "# calculate some metrics for this prediction\n",
    "# precision, recall, f1-score, accuracy\n",
    "# confusion matrix\n",
    "\n",
    "from sklearn.metrics import confusion_matrix, classification_report\n",
    "\n",
    "# Calculate the confusion matrix\n",
    "\n",
    "y_pred = model.predict(X_test).flatten()\n",
    "\n",
    "# Convert the predicted scores to binary values\n",
    "y_pred_binary = (y_pred >= np.percentile(y_pred, 75)).astype(int)\n",
    "\n",
    "# Convert the true scores to binary values\n",
    "y_test_binary = y_test\n",
    "\n",
    "# Calculate the confusion matrix\n",
    "cm = confusion_matrix(y_test_binary, y_pred_binary)\n",
    "print(\"Confusion Matrix:\")\n",
    "print(cm)\n",
    "# Calculate the classification report\n",
    "cr = classification_report(y_test_binary, y_pred_binary)\n",
    "\n",
    "print(\"Classification Report:\")\n",
    "print(cr)\n",
    "\n",
    "# Calculate the precision, recall, and F1-score\n",
    "\n",
    "precision = cm[1, 1] / (cm[1, 1] + cm[0, 1])\n",
    "\n",
    "recall = cm[1, 1] / (cm[1, 1] + cm[1, 0])\n",
    "\n",
    "f1_score = 2 * (precision * recall) / (precision + recall)\n",
    "\n",
    "print(f\"Precision: {precision:.2f}, Recall: {recall:.2f}, F1-Score: {f1_score:.2f}\")\n",
    "\n"
   ]
  }
 ],
 "metadata": {
  "kernelspec": {
   "display_name": "Python 3 (ipykernel)",
   "language": "python",
   "name": "python3"
  },
  "language_info": {
   "codemirror_mode": {
    "name": "ipython",
    "version": 3
   },
   "file_extension": ".py",
   "mimetype": "text/x-python",
   "name": "python",
   "nbconvert_exporter": "python",
   "pygments_lexer": "ipython3",
   "version": "3.12.3"
  }
 },
 "nbformat": 4,
 "nbformat_minor": 4
}
