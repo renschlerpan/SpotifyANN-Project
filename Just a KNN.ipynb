{
 "cells": [
  {
   "cell_type": "code",
   "execution_count": 39,
   "metadata": {},
   "outputs": [
    {
     "name": "stdout",
     "output_type": "stream",
     "text": [
      "Spotify Data Sample:\n",
      "                                               track            artist genre  \\\n",
      "0  I Don't Care (with Justin Bieber) - Loud Luxur...        Ed Sheeran   pop   \n",
      "1                    Memories - Dillon Francis Remix          Maroon 5   pop   \n",
      "2                    All the Time - Don Diablo Remix      Zara Larsson   pop   \n",
      "3                  Call You Mine - Keanu Silva Remix  The Chainsmokers   pop   \n",
      "4            Someone You Loved - Future Humans Remix     Lewis Capaldi   pop   \n",
      "\n",
      "   danceability  energy  key  loudness  mode  speechiness  acousticness  \\\n",
      "0         0.748   0.916    6    -2.634     1       0.0583        0.1020   \n",
      "1         0.726   0.815   11    -4.969     1       0.0373        0.0724   \n",
      "2         0.675   0.931    1    -3.432     0       0.0742        0.0794   \n",
      "3         0.718   0.930    7    -3.778     1       0.1020        0.0287   \n",
      "4         0.650   0.833    1    -4.672     1       0.0359        0.0803   \n",
      "\n",
      "   instrumentalness  liveness  valence    tempo  duration_ms  \n",
      "0          0.000000    0.0653    0.518  122.036       194754  \n",
      "1          0.004210    0.3570    0.693   99.972       162600  \n",
      "2          0.000023    0.1100    0.613  124.008       176616  \n",
      "3          0.000009    0.2040    0.277  121.956       169093  \n",
      "4          0.000000    0.0833    0.725  123.976       189052  \n",
      "\n",
      "Spotify Data Info:\n"
     ]
    }
   ],
   "source": [
    "import pandas as pd\n",
    "\n",
    "# Load Data\n",
    "spotify_data = pd.read_csv('cleaned_spotify_data.csv')\n",
    "user_profiles = pd.read_csv('cleaned_user_profiles.csv')\n",
    "\n",
    "# Display the first few rows of each dataset\n",
    "print(\"Spotify Data Sample:\")\n",
    "print(spotify_data.head())\n",
    "print(\"\\nSpotify Data Info:\")"
   ]
  },
  {
   "cell_type": "code",
   "execution_count": 40,
   "metadata": {},
   "outputs": [
    {
     "name": "stdout",
     "output_type": "stream",
     "text": [
      "\n",
      "Spotify Data Info:\n",
      "<class 'pandas.core.frame.DataFrame'>\n",
      "RangeIndex: 32833 entries, 0 to 32832\n",
      "Data columns (total 15 columns):\n",
      " #   Column            Non-Null Count  Dtype  \n",
      "---  ------            --------------  -----  \n",
      " 0   track             32828 non-null  object \n",
      " 1   artist            32828 non-null  object \n",
      " 2   genre             32833 non-null  object \n",
      " 3   danceability      32833 non-null  float64\n",
      " 4   energy            32833 non-null  float64\n",
      " 5   key               32833 non-null  int64  \n",
      " 6   loudness          32833 non-null  float64\n",
      " 7   mode              32833 non-null  int64  \n",
      " 8   speechiness       32833 non-null  float64\n",
      " 9   acousticness      32833 non-null  float64\n",
      " 10  instrumentalness  32833 non-null  float64\n",
      " 11  liveness          32833 non-null  float64\n",
      " 12  valence           32833 non-null  float64\n",
      " 13  tempo             32833 non-null  float64\n",
      " 14  duration_ms       32833 non-null  int64  \n",
      "dtypes: float64(9), int64(3), object(3)\n",
      "memory usage: 3.8+ MB\n",
      "None\n"
     ]
    }
   ],
   "source": [
    "print(\"\\nSpotify Data Info:\")\n",
    "print(spotify_data.info())"
   ]
  },
  {
   "cell_type": "code",
   "execution_count": 41,
   "metadata": {},
   "outputs": [
    {
     "name": "stdout",
     "output_type": "stream",
     "text": [
      "\n",
      "Spotify Data Description:\n",
      "       danceability        energy           key      loudness          mode  \\\n",
      "count  32833.000000  32833.000000  32833.000000  32833.000000  32833.000000   \n",
      "mean       0.654850      0.698619      5.374471     -6.719499      0.565711   \n",
      "std        0.145085      0.180910      3.611657      2.988436      0.495671   \n",
      "min        0.000000      0.000175      0.000000    -46.448000      0.000000   \n",
      "25%        0.563000      0.581000      2.000000     -8.171000      0.000000   \n",
      "50%        0.672000      0.721000      6.000000     -6.166000      1.000000   \n",
      "75%        0.761000      0.840000      9.000000     -4.645000      1.000000   \n",
      "max        0.983000      1.000000     11.000000      1.275000      1.000000   \n",
      "\n",
      "        speechiness  acousticness  instrumentalness      liveness  \\\n",
      "count  32833.000000  32833.000000      32833.000000  32833.000000   \n",
      "mean       0.107068      0.175334          0.084747      0.190176   \n",
      "std        0.101314      0.219633          0.224230      0.154317   \n",
      "min        0.000000      0.000000          0.000000      0.000000   \n",
      "25%        0.041000      0.015100          0.000000      0.092700   \n",
      "50%        0.062500      0.080400          0.000016      0.127000   \n",
      "75%        0.132000      0.255000          0.004830      0.248000   \n",
      "max        0.918000      0.994000          0.994000      0.996000   \n",
      "\n",
      "            valence         tempo    duration_ms  \n",
      "count  32833.000000  32833.000000   32833.000000  \n",
      "mean       0.510561    120.881132  225799.811622  \n",
      "std        0.233146     26.903624   59834.006182  \n",
      "min        0.000000      0.000000    4000.000000  \n",
      "25%        0.331000     99.960000  187819.000000  \n",
      "50%        0.512000    121.984000  216000.000000  \n",
      "75%        0.693000    133.918000  253585.000000  \n",
      "max        0.991000    239.440000  517810.000000  \n"
     ]
    }
   ],
   "source": [
    "print(\"\\nSpotify Data Description:\")\n",
    "print(spotify_data.describe())"
   ]
  },
  {
   "cell_type": "code",
   "execution_count": 42,
   "metadata": {},
   "outputs": [
    {
     "name": "stdout",
     "output_type": "stream",
     "text": [
      "\n",
      "User Profiles Sample:\n",
      "                             userid           artist  danceability    energy  \\\n",
      "0  00055176fea33f6e027cd3302289378b        Green Day      0.528600  0.780033   \n",
      "1  0007f3dd09c91198371454c608d47f22       Ed Sheeran      0.503923  0.552474   \n",
      "2  000c11a16c89aa4b14b328080f5954ee            Drake      0.604992  0.648232   \n",
      "3  00123e0f544dee3ab006aa7f1e5725a7        Tom Waits      0.545406  0.635927   \n",
      "4  00139e9cb50fb309549e1561b476226d  The Cranberries      0.576247  0.672661   \n",
      "\n",
      "        key  loudness      mode  speechiness  acousticness  instrumentalness  \\\n",
      "0  4.800000 -5.466067  0.933333     0.067063      0.097408          0.002713   \n",
      "1  4.410256 -8.301244  0.769231     0.043521      0.359119          0.033772   \n",
      "2  4.896000 -7.674204  0.660000     0.058918      0.199622          0.077143   \n",
      "3  5.483384 -8.870202  0.703927     0.058784      0.267978          0.145345   \n",
      "4  5.086207 -8.727075  0.724138     0.060335      0.123039          0.049472   \n",
      "\n",
      "   liveness   valence       tempo    duration_ms  time_signature genre  \n",
      "0  0.279387  0.601667  119.757400  217063.966667             4.0  rock  \n",
      "1  0.131090  0.336121  107.436705  255803.807692             4.0   pop  \n",
      "2  0.175239  0.519824  119.436044  249030.780000             4.0   edm  \n",
      "3  0.204341  0.514726  116.258459  244649.264350             4.0  rock  \n",
      "4  0.210118  0.521477  121.206897  248683.040230             4.0  rock  \n"
     ]
    }
   ],
   "source": [
    "print(\"\\nUser Profiles Sample:\")\n",
    "print(user_profiles.head())\n"
   ]
  },
  {
   "cell_type": "code",
   "execution_count": 43,
   "metadata": {},
   "outputs": [
    {
     "name": "stdout",
     "output_type": "stream",
     "text": [
      "\n",
      "User Profiles Info:\n",
      "<class 'pandas.core.frame.DataFrame'>\n",
      "RangeIndex: 12945 entries, 0 to 12944\n",
      "Data columns (total 16 columns):\n",
      " #   Column            Non-Null Count  Dtype  \n",
      "---  ------            --------------  -----  \n",
      " 0   userid            12945 non-null  object \n",
      " 1   artist            12945 non-null  object \n",
      " 2   danceability      12945 non-null  float64\n",
      " 3   energy            12945 non-null  float64\n",
      " 4   key               12945 non-null  float64\n",
      " 5   loudness          12945 non-null  float64\n",
      " 6   mode              12945 non-null  float64\n",
      " 7   speechiness       12945 non-null  float64\n",
      " 8   acousticness      12945 non-null  float64\n",
      " 9   instrumentalness  12945 non-null  float64\n",
      " 10  liveness          12945 non-null  float64\n",
      " 11  valence           12945 non-null  float64\n",
      " 12  tempo             12945 non-null  float64\n",
      " 13  duration_ms       12945 non-null  float64\n",
      " 14  time_signature    12945 non-null  float64\n",
      " 15  genre             12945 non-null  object \n",
      "dtypes: float64(13), object(3)\n",
      "memory usage: 1.6+ MB\n",
      "None\n"
     ]
    }
   ],
   "source": [
    "print(\"\\nUser Profiles Info:\")\n",
    "print(user_profiles.info())\n"
   ]
  },
  {
   "cell_type": "code",
   "execution_count": 44,
   "metadata": {},
   "outputs": [
    {
     "name": "stdout",
     "output_type": "stream",
     "text": [
      "\n",
      "User Profiles Description:\n",
      "       danceability        energy           key      loudness          mode  \\\n",
      "count  12945.000000  12945.000000  12945.000000  12945.000000  12945.000000   \n",
      "mean       0.567561      0.685438      5.167127     -7.344614      0.664086   \n",
      "std        0.068152      0.091276      1.243674      1.562287      0.171015   \n",
      "min        0.210000      0.052500      0.000000    -24.100000      0.000000   \n",
      "25%        0.529017      0.639826      4.681579     -8.097759      0.591623   \n",
      "50%        0.564417      0.690187      5.178571     -7.251000      0.667883   \n",
      "75%        0.604441      0.738021      5.658915     -6.447972      0.750000   \n",
      "max        0.979000      0.998000     11.000000     -1.609000      1.000000   \n",
      "\n",
      "        speechiness  acousticness  instrumentalness      liveness  \\\n",
      "count  12945.000000  12945.000000      12945.000000  12945.000000   \n",
      "mean       0.069307      0.191769          0.096689      0.186387   \n",
      "std        0.031526      0.115062          0.097106      0.053801   \n",
      "min        0.023800      0.000002          0.000000      0.024400   \n",
      "25%        0.052008      0.117254          0.032971      0.160929   \n",
      "50%        0.061711      0.174997          0.076922      0.182770   \n",
      "75%        0.076105      0.242671          0.132082      0.204639   \n",
      "max        0.406000      0.991000          0.951000      0.973000   \n",
      "\n",
      "            valence         tempo    duration_ms  time_signature  \n",
      "count  12945.000000  12945.000000   12945.000000    12945.000000  \n",
      "mean       0.486348    120.743206  245934.802632        3.996601  \n",
      "std        0.098956      9.344720   25136.832859        0.078542  \n",
      "min        0.039500     67.898000  104113.000000        1.000000  \n",
      "25%        0.434400    116.654337  234796.290850        4.000000  \n",
      "50%        0.483468    120.633712  244475.100000        4.000000  \n",
      "75%        0.537098    124.586903  255018.856863        4.000000  \n",
      "max        0.966000    189.286000  698173.000000        5.000000  \n"
     ]
    }
   ],
   "source": [
    "print(\"\\nUser Profiles Description:\")\n",
    "print(user_profiles.describe())"
   ]
  },
  {
   "cell_type": "code",
   "execution_count": 62,
   "metadata": {},
   "outputs": [
    {
     "name": "stdout",
     "output_type": "stream",
     "text": [
      "['pop' 'rap' 'rock' 'latin' 'r&b' 'edm']\n"
     ]
    }
   ],
   "source": [
    "import numpy as np\n",
    "import pandas as pd\n",
    "from sklearn.preprocessing import MinMaxScaler, StandardScaler\n",
    "from sklearn.neighbors import NearestNeighbors\n",
    "\n",
    "# unique values in the genre columns\n",
    "print(spotify_data['genre'].unique())\n"
   ]
  },
  {
   "cell_type": "code",
   "execution_count": 61,
   "metadata": {},
   "outputs": [],
   "source": [
    "import numpy as np\n",
    "import pandas as pd\n",
    "from sklearn.preprocessing import MinMaxScaler, StandardScaler\n",
    "from sklearn.neighbors import NearestNeighbors\n",
    "\n",
    "scaler = MinMaxScaler()\n",
    "spotify_data[['loudness', 'tempo']] = scaler.fit_transform(spotify_data[['loudness', 'tempo']])\n",
    "user_profiles[['loudness', 'tempo']] = scaler.transform(user_profiles[['loudness', 'tempo']])\n"
   ]
  },
  {
   "cell_type": "code",
   "execution_count": 53,
   "metadata": {},
   "outputs": [
    {
     "name": "stdout",
     "output_type": "stream",
     "text": [
      "Top 11 recommendations for User 4 (UserID: 00139e9cb50fb309549e1561b476226d, Genre: rock):\n",
      "- A Long Time by Shannon K (Genre: pop, Distance: 0.3346411724908378)\n",
      "- 867-5309 / Jenny by Tommy Tutone (Genre: rock, Distance: 0.336440703964106)\n",
      "- Stay Young by Mike Perry (Genre: edm, Distance: 0.34002426539996883)\n",
      "- Stay Young by Mike Perry (Genre: pop, Distance: 0.34002426539996883)\n",
      "- Stay Young by Mike Perry (Genre: pop, Distance: 0.34002426539996883)\n",
      "- Flame - Steve James Remix by Tinashe (Genre: edm, Distance: 0.3419310447836505)\n",
      "- Bottle of Pills by John The Blind (Genre: r&b, Distance: 0.3422940067237315)\n",
      "- Set The World (On Fire) by Flatdisk (Genre: latin, Distance: 0.3448350977463085)\n",
      "- Tunnel of Love (Intro: The Carousel Waltz) by Dire Straits (Genre: rock, Distance: 0.34591914050066486)\n",
      "- Hold On - Radio Edit by Moguai (Genre: pop, Distance: 0.3489290350560153)\n",
      "- I'd Really Love to See You Tonight by England Dan (Genre: rock, Distance: 0.35223574902810406)\n"
     ]
    },
    {
     "name": "stderr",
     "output_type": "stream",
     "text": [
      "c:\\Users\\Student\\AppData\\Local\\Programs\\Python\\Python312\\Lib\\site-packages\\sklearn\\base.py:493: UserWarning:\n",
      "\n",
      "X does not have valid feature names, but NearestNeighbors was fitted with feature names\n",
      "\n"
     ]
    },
    {
     "data": {
      "text/html": [
       "<div>\n",
       "<style scoped>\n",
       "    .dataframe tbody tr th:only-of-type {\n",
       "        vertical-align: middle;\n",
       "    }\n",
       "\n",
       "    .dataframe tbody tr th {\n",
       "        vertical-align: top;\n",
       "    }\n",
       "\n",
       "    .dataframe thead th {\n",
       "        text-align: right;\n",
       "    }\n",
       "</style>\n",
       "<table border=\"1\" class=\"dataframe\">\n",
       "  <thead>\n",
       "    <tr style=\"text-align: right;\">\n",
       "      <th></th>\n",
       "      <th>track</th>\n",
       "      <th>artist</th>\n",
       "      <th>genre</th>\n",
       "      <th>danceability</th>\n",
       "      <th>energy</th>\n",
       "      <th>key</th>\n",
       "      <th>loudness</th>\n",
       "      <th>mode</th>\n",
       "      <th>speechiness</th>\n",
       "      <th>acousticness</th>\n",
       "      <th>instrumentalness</th>\n",
       "      <th>liveness</th>\n",
       "      <th>valence</th>\n",
       "      <th>tempo</th>\n",
       "      <th>duration_ms</th>\n",
       "    </tr>\n",
       "  </thead>\n",
       "  <tbody>\n",
       "    <tr>\n",
       "      <th>1215</th>\n",
       "      <td>A Long Time</td>\n",
       "      <td>Shannon K</td>\n",
       "      <td>pop</td>\n",
       "      <td>0.662</td>\n",
       "      <td>0.697</td>\n",
       "      <td>5</td>\n",
       "      <td>0.879806</td>\n",
       "      <td>1</td>\n",
       "      <td>0.0712</td>\n",
       "      <td>0.0722</td>\n",
       "      <td>0.000000</td>\n",
       "      <td>0.2910</td>\n",
       "      <td>0.549</td>\n",
       "      <td>0.498037</td>\n",
       "      <td>164684</td>\n",
       "    </tr>\n",
       "    <tr>\n",
       "      <th>13593</th>\n",
       "      <td>867-5309 / Jenny</td>\n",
       "      <td>Tommy Tutone</td>\n",
       "      <td>rock</td>\n",
       "      <td>0.584</td>\n",
       "      <td>0.708</td>\n",
       "      <td>5</td>\n",
       "      <td>0.762924</td>\n",
       "      <td>1</td>\n",
       "      <td>0.0593</td>\n",
       "      <td>0.0264</td>\n",
       "      <td>0.003640</td>\n",
       "      <td>0.1120</td>\n",
       "      <td>0.564</td>\n",
       "      <td>0.574912</td>\n",
       "      <td>226200</td>\n",
       "    </tr>\n",
       "    <tr>\n",
       "      <th>31351</th>\n",
       "      <td>Stay Young</td>\n",
       "      <td>Mike Perry</td>\n",
       "      <td>edm</td>\n",
       "      <td>0.572</td>\n",
       "      <td>0.713</td>\n",
       "      <td>5</td>\n",
       "      <td>0.872158</td>\n",
       "      <td>1</td>\n",
       "      <td>0.0406</td>\n",
       "      <td>0.0754</td>\n",
       "      <td>0.000000</td>\n",
       "      <td>0.2260</td>\n",
       "      <td>0.559</td>\n",
       "      <td>0.375860</td>\n",
       "      <td>157005</td>\n",
       "    </tr>\n",
       "    <tr>\n",
       "      <th>322</th>\n",
       "      <td>Stay Young</td>\n",
       "      <td>Mike Perry</td>\n",
       "      <td>pop</td>\n",
       "      <td>0.572</td>\n",
       "      <td>0.713</td>\n",
       "      <td>5</td>\n",
       "      <td>0.872158</td>\n",
       "      <td>1</td>\n",
       "      <td>0.0406</td>\n",
       "      <td>0.0754</td>\n",
       "      <td>0.000000</td>\n",
       "      <td>0.2260</td>\n",
       "      <td>0.559</td>\n",
       "      <td>0.375860</td>\n",
       "      <td>157005</td>\n",
       "    </tr>\n",
       "    <tr>\n",
       "      <th>3761</th>\n",
       "      <td>Stay Young</td>\n",
       "      <td>Mike Perry</td>\n",
       "      <td>pop</td>\n",
       "      <td>0.572</td>\n",
       "      <td>0.713</td>\n",
       "      <td>5</td>\n",
       "      <td>0.872158</td>\n",
       "      <td>1</td>\n",
       "      <td>0.0406</td>\n",
       "      <td>0.0754</td>\n",
       "      <td>0.000000</td>\n",
       "      <td>0.2260</td>\n",
       "      <td>0.559</td>\n",
       "      <td>0.375860</td>\n",
       "      <td>157005</td>\n",
       "    </tr>\n",
       "    <tr>\n",
       "      <th>30599</th>\n",
       "      <td>Flame - Steve James Remix</td>\n",
       "      <td>Tinashe</td>\n",
       "      <td>edm</td>\n",
       "      <td>0.643</td>\n",
       "      <td>0.646</td>\n",
       "      <td>5</td>\n",
       "      <td>0.823356</td>\n",
       "      <td>1</td>\n",
       "      <td>0.0655</td>\n",
       "      <td>0.1380</td>\n",
       "      <td>0.000013</td>\n",
       "      <td>0.1320</td>\n",
       "      <td>0.531</td>\n",
       "      <td>0.371141</td>\n",
       "      <td>192135</td>\n",
       "    </tr>\n",
       "    <tr>\n",
       "      <th>23609</th>\n",
       "      <td>Bottle of Pills</td>\n",
       "      <td>John The Blind</td>\n",
       "      <td>r&amp;b</td>\n",
       "      <td>0.565</td>\n",
       "      <td>0.734</td>\n",
       "      <td>5</td>\n",
       "      <td>0.872284</td>\n",
       "      <td>1</td>\n",
       "      <td>0.0416</td>\n",
       "      <td>0.1270</td>\n",
       "      <td>0.000000</td>\n",
       "      <td>0.1080</td>\n",
       "      <td>0.474</td>\n",
       "      <td>0.593076</td>\n",
       "      <td>202549</td>\n",
       "    </tr>\n",
       "    <tr>\n",
       "      <th>16299</th>\n",
       "      <td>Set The World (On Fire)</td>\n",
       "      <td>Flatdisk</td>\n",
       "      <td>latin</td>\n",
       "      <td>0.713</td>\n",
       "      <td>0.722</td>\n",
       "      <td>5</td>\n",
       "      <td>0.824236</td>\n",
       "      <td>1</td>\n",
       "      <td>0.0611</td>\n",
       "      <td>0.1750</td>\n",
       "      <td>0.000011</td>\n",
       "      <td>0.1310</td>\n",
       "      <td>0.482</td>\n",
       "      <td>0.517833</td>\n",
       "      <td>179069</td>\n",
       "    </tr>\n",
       "    <tr>\n",
       "      <th>13254</th>\n",
       "      <td>Tunnel of Love (Intro: The Carousel Waltz)</td>\n",
       "      <td>Dire Straits</td>\n",
       "      <td>rock</td>\n",
       "      <td>0.491</td>\n",
       "      <td>0.686</td>\n",
       "      <td>5</td>\n",
       "      <td>0.748905</td>\n",
       "      <td>1</td>\n",
       "      <td>0.0372</td>\n",
       "      <td>0.2450</td>\n",
       "      <td>0.018500</td>\n",
       "      <td>0.2810</td>\n",
       "      <td>0.555</td>\n",
       "      <td>0.572870</td>\n",
       "      <td>488693</td>\n",
       "    </tr>\n",
       "    <tr>\n",
       "      <th>4585</th>\n",
       "      <td>Hold On - Radio Edit</td>\n",
       "      <td>Moguai</td>\n",
       "      <td>pop</td>\n",
       "      <td>0.596</td>\n",
       "      <td>0.770</td>\n",
       "      <td>5</td>\n",
       "      <td>0.850659</td>\n",
       "      <td>1</td>\n",
       "      <td>0.0775</td>\n",
       "      <td>0.2100</td>\n",
       "      <td>0.000000</td>\n",
       "      <td>0.0938</td>\n",
       "      <td>0.547</td>\n",
       "      <td>0.521692</td>\n",
       "      <td>178560</td>\n",
       "    </tr>\n",
       "    <tr>\n",
       "      <th>12720</th>\n",
       "      <td>I'd Really Love to See You Tonight</td>\n",
       "      <td>England Dan</td>\n",
       "      <td>rock</td>\n",
       "      <td>0.620</td>\n",
       "      <td>0.556</td>\n",
       "      <td>5</td>\n",
       "      <td>0.720910</td>\n",
       "      <td>1</td>\n",
       "      <td>0.0336</td>\n",
       "      <td>0.1840</td>\n",
       "      <td>0.000000</td>\n",
       "      <td>0.3010</td>\n",
       "      <td>0.592</td>\n",
       "      <td>0.497711</td>\n",
       "      <td>159107</td>\n",
       "    </tr>\n",
       "  </tbody>\n",
       "</table>\n",
       "</div>"
      ],
      "text/plain": [
       "                                            track          artist  genre  \\\n",
       "1215                                  A Long Time       Shannon K    pop   \n",
       "13593                            867-5309 / Jenny    Tommy Tutone   rock   \n",
       "31351                                  Stay Young      Mike Perry    edm   \n",
       "322                                    Stay Young      Mike Perry    pop   \n",
       "3761                                   Stay Young      Mike Perry    pop   \n",
       "30599                   Flame - Steve James Remix         Tinashe    edm   \n",
       "23609                             Bottle of Pills  John The Blind    r&b   \n",
       "16299                     Set The World (On Fire)        Flatdisk  latin   \n",
       "13254  Tunnel of Love (Intro: The Carousel Waltz)    Dire Straits   rock   \n",
       "4585                         Hold On - Radio Edit          Moguai    pop   \n",
       "12720          I'd Really Love to See You Tonight     England Dan   rock   \n",
       "\n",
       "       danceability  energy  key  loudness  mode  speechiness  acousticness  \\\n",
       "1215          0.662   0.697    5  0.879806     1       0.0712        0.0722   \n",
       "13593         0.584   0.708    5  0.762924     1       0.0593        0.0264   \n",
       "31351         0.572   0.713    5  0.872158     1       0.0406        0.0754   \n",
       "322           0.572   0.713    5  0.872158     1       0.0406        0.0754   \n",
       "3761          0.572   0.713    5  0.872158     1       0.0406        0.0754   \n",
       "30599         0.643   0.646    5  0.823356     1       0.0655        0.1380   \n",
       "23609         0.565   0.734    5  0.872284     1       0.0416        0.1270   \n",
       "16299         0.713   0.722    5  0.824236     1       0.0611        0.1750   \n",
       "13254         0.491   0.686    5  0.748905     1       0.0372        0.2450   \n",
       "4585          0.596   0.770    5  0.850659     1       0.0775        0.2100   \n",
       "12720         0.620   0.556    5  0.720910     1       0.0336        0.1840   \n",
       "\n",
       "       instrumentalness  liveness  valence     tempo  duration_ms  \n",
       "1215           0.000000    0.2910    0.549  0.498037       164684  \n",
       "13593          0.003640    0.1120    0.564  0.574912       226200  \n",
       "31351          0.000000    0.2260    0.559  0.375860       157005  \n",
       "322            0.000000    0.2260    0.559  0.375860       157005  \n",
       "3761           0.000000    0.2260    0.559  0.375860       157005  \n",
       "30599          0.000013    0.1320    0.531  0.371141       192135  \n",
       "23609          0.000000    0.1080    0.474  0.593076       202549  \n",
       "16299          0.000011    0.1310    0.482  0.517833       179069  \n",
       "13254          0.018500    0.2810    0.555  0.572870       488693  \n",
       "4585           0.000000    0.0938    0.547  0.521692       178560  \n",
       "12720          0.000000    0.3010    0.592  0.497711       159107  "
      ]
     },
     "execution_count": 53,
     "metadata": {},
     "output_type": "execute_result"
    }
   ],
   "source": [
    "features = ['danceability', 'energy', 'key', 'loudness', 'mode', 'speechiness', 'acousticness', 'instrumentalness', 'liveness', 'valence', 'tempo']\n",
    "spotify_features = spotify_data[features]\n",
    "user_features = user_profiles[features]\n",
    "\n",
    "knn = NearestNeighbors(n_neighbors=11, algorithm='auto', metric='euclidean')\n",
    "knn.fit(spotify_features)\n",
    "\n",
    "def recommend_songs(user_index, top_n=11):\n",
    "    user_vec = user_features.iloc[user_index].values.reshape(1, -1)\n",
    "    \n",
    "    # Finding the nearest neighbors for the user vector\n",
    "    distances, indices = knn.kneighbors(user_vec, n_neighbors=top_n)\n",
    "    \n",
    "    # Collecting the recommended songs\n",
    "    recommended_songs = spotify_data.iloc[indices[0]]\n",
    "    \n",
    "    # Get the user's preferred genre\n",
    "    user_genre = user_profiles.iloc[user_index]['genre']\n",
    "    \n",
    "    print(f\"Top {top_n} recommendations for User {user_index} (UserID: {user_profiles.iloc[user_index]['userid']}, Genre: {user_genre}):\")\n",
    "    for i, (idx, row) in enumerate(recommended_songs.iterrows()):\n",
    "        print(f\"- {row['track']} by {row['artist']} (Genre: {row['genre']}, Distance: {distances[0][i]})\")\n",
    "    \n",
    "    return recommended_songs\n",
    "\n",
    "# Example: recommend songs for the user at index 4\n",
    "recommend_songs(user_index=4)\n",
    "\n",
    "# def recommend_songs(user_index, top_n=10):\n",
    "#     user_vec = user_features.iloc[user_index].values.reshape(1, -1)\n",
    "    \n",
    "#     # Finding the nearest neighbors for the user vector\n",
    "#     distances, indices = knn.kneighbors(user_vec, n_neighbors=top_n)\n",
    "    \n",
    "#     # Collecting the recommended songs\n",
    "#     recommended_songs = spotify_data.iloc[indices[0]]\n",
    "#     print(f\"Top {top_n} recommendations for User {user_index} (UserID: {user_profiles.iloc[user_index]['userid']}):\")\n",
    "#     for i, (idx, row) in enumerate(recommended_songs.iterrows()):\n",
    "#         print(f\"- {row['track']} by {row['artist']} (Distance: {distances[0][i]})\")\n",
    "    \n",
    "#     return recommended_songs\n",
    "\n",
    "# # Example: recommend songs for the user at index 4\n",
    "# recommend_songs(user_index=4)\n",
    "\n",
    "\n",
    "# # Function to recommend songs for a given user\n",
    "# def recommend_songs(user_index, top_n=10):\n",
    "#     user_vec = user_features.iloc[user_index].values.reshape(1, -1)\n",
    "    \n",
    "#     # Finding the nearest neighbors for the user vector\n",
    "#     distances, indices = knn.kneighbors(user_vec, n_neighbors=top_n)\n",
    "    \n",
    "#     # Collecting the recommended songs\n",
    "#     recommended_songs = spotify_data.iloc[indices[0]]\n",
    "#     print(f\"Top {top_n} recommendations for User {user_index} (UserID: {user_profiles.iloc[user_index]['userid']}):\")\n",
    "#     for idx, row in recommended_songs.iterrows():\n",
    "#         print(f\"- {row['track']} by {row['artist']} (Distance: {distances[0][idx-recommended_songs.index[0]]})\")\n",
    "    \n",
    "#     return recommended_songs\n",
    "\n",
    "# # Example: recommend songs for the user at index 4\n",
    "# recommend_songs(user_index=4)"
   ]
  },
  {
   "cell_type": "code",
   "execution_count": 54,
   "metadata": {},
   "outputs": [
    {
     "name": "stdout",
     "output_type": "stream",
     "text": [
      "Confusion Matrix:\n",
      " [[3199 3235]\n",
      " [3260 3251]]\n",
      "Top 5 recommendations for User Index 4:\n",
      "- Away by The Bolshoi (Genre: rock, Distance: 1.1057729103335951)\n",
      "- Good Times Roll by The Cars (Genre: rock, Distance: 1.2029408852560972)\n",
      "- 867-5309 / Jenny by Tommy Tutone (Genre: rock, Distance: 1.2613402459432832)\n",
      "- Pinball Wizard by The Who (Genre: rock, Distance: 1.2782489491598967)\n",
      "- Pinball Wizard by The Who (Genre: rock, Distance: 1.2782489491598967)\n"
     ]
    },
    {
     "data": {
      "text/html": [
       "<div>\n",
       "<style scoped>\n",
       "    .dataframe tbody tr th:only-of-type {\n",
       "        vertical-align: middle;\n",
       "    }\n",
       "\n",
       "    .dataframe tbody tr th {\n",
       "        vertical-align: top;\n",
       "    }\n",
       "\n",
       "    .dataframe thead th {\n",
       "        text-align: right;\n",
       "    }\n",
       "</style>\n",
       "<table border=\"1\" class=\"dataframe\">\n",
       "  <thead>\n",
       "    <tr style=\"text-align: right;\">\n",
       "      <th></th>\n",
       "      <th>track</th>\n",
       "      <th>artist</th>\n",
       "      <th>genre</th>\n",
       "      <th>danceability</th>\n",
       "      <th>energy</th>\n",
       "      <th>key</th>\n",
       "      <th>loudness</th>\n",
       "      <th>mode</th>\n",
       "      <th>speechiness</th>\n",
       "      <th>acousticness</th>\n",
       "      <th>instrumentalness</th>\n",
       "      <th>liveness</th>\n",
       "      <th>valence</th>\n",
       "      <th>tempo</th>\n",
       "      <th>duration_ms</th>\n",
       "    </tr>\n",
       "  </thead>\n",
       "  <tbody>\n",
       "    <tr>\n",
       "      <th>14337</th>\n",
       "      <td>Away</td>\n",
       "      <td>The Bolshoi</td>\n",
       "      <td>rock</td>\n",
       "      <td>0.597</td>\n",
       "      <td>0.737</td>\n",
       "      <td>7</td>\n",
       "      <td>-9.223</td>\n",
       "      <td>1</td>\n",
       "      <td>0.0365</td>\n",
       "      <td>0.1020</td>\n",
       "      <td>0.000008</td>\n",
       "      <td>0.122</td>\n",
       "      <td>0.553</td>\n",
       "      <td>120.867</td>\n",
       "      <td>297133</td>\n",
       "    </tr>\n",
       "    <tr>\n",
       "      <th>13204</th>\n",
       "      <td>Good Times Roll</td>\n",
       "      <td>The Cars</td>\n",
       "      <td>rock</td>\n",
       "      <td>0.607</td>\n",
       "      <td>0.662</td>\n",
       "      <td>4</td>\n",
       "      <td>-9.456</td>\n",
       "      <td>1</td>\n",
       "      <td>0.0278</td>\n",
       "      <td>0.0951</td>\n",
       "      <td>0.000083</td>\n",
       "      <td>0.125</td>\n",
       "      <td>0.629</td>\n",
       "      <td>107.643</td>\n",
       "      <td>225853</td>\n",
       "    </tr>\n",
       "    <tr>\n",
       "      <th>13593</th>\n",
       "      <td>867-5309 / Jenny</td>\n",
       "      <td>Tommy Tutone</td>\n",
       "      <td>rock</td>\n",
       "      <td>0.584</td>\n",
       "      <td>0.708</td>\n",
       "      <td>5</td>\n",
       "      <td>-10.039</td>\n",
       "      <td>1</td>\n",
       "      <td>0.0593</td>\n",
       "      <td>0.0264</td>\n",
       "      <td>0.003640</td>\n",
       "      <td>0.112</td>\n",
       "      <td>0.564</td>\n",
       "      <td>137.657</td>\n",
       "      <td>226200</td>\n",
       "    </tr>\n",
       "    <tr>\n",
       "      <th>12387</th>\n",
       "      <td>Pinball Wizard</td>\n",
       "      <td>The Who</td>\n",
       "      <td>rock</td>\n",
       "      <td>0.543</td>\n",
       "      <td>0.715</td>\n",
       "      <td>2</td>\n",
       "      <td>-8.890</td>\n",
       "      <td>1</td>\n",
       "      <td>0.0356</td>\n",
       "      <td>0.0192</td>\n",
       "      <td>0.000000</td>\n",
       "      <td>0.256</td>\n",
       "      <td>0.468</td>\n",
       "      <td>124.011</td>\n",
       "      <td>180943</td>\n",
       "    </tr>\n",
       "    <tr>\n",
       "      <th>11816</th>\n",
       "      <td>Pinball Wizard</td>\n",
       "      <td>The Who</td>\n",
       "      <td>rock</td>\n",
       "      <td>0.543</td>\n",
       "      <td>0.715</td>\n",
       "      <td>2</td>\n",
       "      <td>-8.890</td>\n",
       "      <td>1</td>\n",
       "      <td>0.0356</td>\n",
       "      <td>0.0192</td>\n",
       "      <td>0.000000</td>\n",
       "      <td>0.256</td>\n",
       "      <td>0.468</td>\n",
       "      <td>124.011</td>\n",
       "      <td>180943</td>\n",
       "    </tr>\n",
       "  </tbody>\n",
       "</table>\n",
       "</div>"
      ],
      "text/plain": [
       "                  track        artist genre  danceability  energy  key  \\\n",
       "14337              Away   The Bolshoi  rock         0.597   0.737    7   \n",
       "13204   Good Times Roll      The Cars  rock         0.607   0.662    4   \n",
       "13593  867-5309 / Jenny  Tommy Tutone  rock         0.584   0.708    5   \n",
       "12387    Pinball Wizard       The Who  rock         0.543   0.715    2   \n",
       "11816    Pinball Wizard       The Who  rock         0.543   0.715    2   \n",
       "\n",
       "       loudness  mode  speechiness  acousticness  instrumentalness  liveness  \\\n",
       "14337    -9.223     1       0.0365        0.1020          0.000008     0.122   \n",
       "13204    -9.456     1       0.0278        0.0951          0.000083     0.125   \n",
       "13593   -10.039     1       0.0593        0.0264          0.003640     0.112   \n",
       "12387    -8.890     1       0.0356        0.0192          0.000000     0.256   \n",
       "11816    -8.890     1       0.0356        0.0192          0.000000     0.256   \n",
       "\n",
       "       valence    tempo  duration_ms  \n",
       "14337    0.553  120.867       297133  \n",
       "13204    0.629  107.643       225853  \n",
       "13593    0.564  137.657       226200  \n",
       "12387    0.468  124.011       180943  \n",
       "11816    0.468  124.011       180943  "
      ]
     },
     "execution_count": 54,
     "metadata": {},
     "output_type": "execute_result"
    }
   ],
   "source": [
    "import numpy as np\n",
    "import pandas as pd\n",
    "from sklearn.preprocessing import OneHotEncoder, StandardScaler\n",
    "from sklearn.neighbors import NearestNeighbors\n",
    "from sklearn.compose import ColumnTransformer\n",
    "from sklearn.metrics import confusion_matrix\n",
    "from sklearn.model_selection import train_test_split\n",
    "\n",
    "# Example Data Load (Assuming Spotify data and user profiles are already loaded)\n",
    "spotify_data = pd.read_csv('cleaned_spotify_data.csv')\n",
    "user_profiles = pd.read_csv('cleaned_user_profiles.csv')\n",
    "\n",
    "# Define the features and preprocess them\n",
    "features = ['danceability', 'energy', 'key', 'loudness', 'mode', 'speechiness', 'acousticness', 'instrumentalness', 'liveness', 'valence', 'tempo']\n",
    "categorical_feature = ['genre']\n",
    "\n",
    "# Create a Column Transformer with OneHot for genre and StandardScaler for others\n",
    "preprocessor = ColumnTransformer(\n",
    "    transformers=[\n",
    "        ('num', StandardScaler(), features),\n",
    "        ('cat', OneHotEncoder(), categorical_feature)\n",
    "    ])\n",
    "\n",
    "# Prepare spotify features and user features\n",
    "spotify_features = preprocessor.fit_transform(spotify_data[features + categorical_feature])\n",
    "user_features = preprocessor.transform(user_profiles[features + categorical_feature])\n",
    "\n",
    "# Custom distance metric\n",
    "def custom_distance(x, y):\n",
    "    # Assuming the last elements are the encoded genres\n",
    "    genre_length = len(preprocessor.named_transformers_['cat'].categories_[0])\n",
    "    genre_distance = 0 if np.array_equal(x[-genre_length:], y[-genre_length:]) else 1\n",
    "    numeric_distance = np.sqrt(np.sum((x[:-genre_length] - y[:-genre_length])**2))\n",
    "    # Customize the following line to adjust the weight of genre misalignment\n",
    "    return numeric_distance + (10 * genre_distance)\n",
    "\n",
    "# Initialize and train KNN with the custom distance\n",
    "knn = NearestNeighbors(n_neighbors=5, algorithm='auto', metric=custom_distance)\n",
    "knn.fit(spotify_features)\n",
    "\n",
    "def recommend_songs(user_index, top_n=5):\n",
    "    user_vec = user_features[user_index].reshape(1, -1)\n",
    "    distances, indices = knn.kneighbors(user_vec, n_neighbors=top_n)\n",
    "    recommended_songs = spotify_data.iloc[indices[0]]\n",
    "    print(f\"Top {top_n} recommendations for User Index {user_index}:\")\n",
    "    \n",
    "    # Iterate with an enumerator or direct indexing\n",
    "    for idx, row in enumerate(recommended_songs.itertuples(index=False), 1):  # Using index=False to skip the default index\n",
    "        print(f\"- {row.track} by {row.artist} (Genre: {row.genre}, Distance: {distances[0][idx-1]})\")\n",
    "    \n",
    "    return recommended_songs\n",
    "\n",
    "\n",
    "# Testing and Validation\n",
    "# Assuming a binary relevance (like or dislike)\n",
    "true_labels = np.random.randint(0, 2, size=len(user_profiles))\n",
    "predicted_labels = np.random.randint(0, 2, size=len(user_profiles))  # Dummy prediction for demonstration\n",
    "\n",
    "# Confusion Matrix\n",
    "conf_matrix = confusion_matrix(true_labels, predicted_labels)\n",
    "print(\"Confusion Matrix:\\n\", conf_matrix)\n",
    "\n",
    "# Example usage\n",
    "recommend_songs(user_index=4)\n"
   ]
  },
  {
   "cell_type": "code",
   "execution_count": 55,
   "metadata": {},
   "outputs": [
    {
     "name": "stderr",
     "output_type": "stream",
     "text": [
      "C:\\Users\\Student\\AppData\\Local\\Temp\\ipykernel_32000\\1102807755.py:30: UserWarning:\n",
      "\n",
      "set_ticklabels() should only be used with a fixed number of ticks, i.e. after set_ticks() or using a FixedLocator.\n",
      "\n",
      "C:\\Users\\Student\\AppData\\Local\\Temp\\ipykernel_32000\\1102807755.py:31: UserWarning:\n",
      "\n",
      "set_ticklabels() should only be used with a fixed number of ticks, i.e. after set_ticks() or using a FixedLocator.\n",
      "\n"
     ]
    },
    {
     "data": {
      "image/png": "[encoded data removed]",
      "text/plain": [
       "<Figure size 500x500 with 2 Axes>"
      ]
     },
     "metadata": {},
     "output_type": "display_data"
    }
   ],
   "source": [
    "import matplotlib.pyplot as plt\n",
    "import numpy as np\n",
    "from sklearn.metrics import confusion_matrix\n",
    "\n",
    "# Dummy actual and predicted labels for demonstration\n",
    "# In a real scenario, replace these with your model's actual and predicted labels\n",
    "actual_labels = np.random.randint(0, 2, size=100)\n",
    "predicted_labels = np.random.randint(0, 2, size=100)\n",
    "\n",
    "# Calculate the confusion matrix\n",
    "cm = confusion_matrix(actual_labels, predicted_labels)\n",
    "\n",
    "# Plotting the confusion matrix\n",
    "fig, ax = plt.subplots(figsize=(5, 5))  # Set the size of the figure\n",
    "cax = ax.matshow(cm, cmap=plt.cm.Blues)  # Choose the color map\n",
    "\n",
    "plt.title('Confusion Matrix')\n",
    "plt.xlabel('Predicted')\n",
    "plt.ylabel('Actual')\n",
    "\n",
    "# Add color bar\n",
    "plt.colorbar(cax)\n",
    "\n",
    "# Add text annotations\n",
    "for (i, j), val in np.ndenumerate(cm):\n",
    "    ax.text(j, i, f'{val}', ha='center', va='center', color='black')\n",
    "\n",
    "# Set tick marks for classes\n",
    "classes = ['Class 0', 'Class 1']\n",
    "ax.set_xticklabels([''] + classes)\n",
    "ax.set_yticklabels([''] + classes)\n",
    "\n",
    "# Optional: Set grid lines for better visual separation of cells\n",
    "ax.set_xticks(np.arange(cm.shape[1]+1)-.5, minor=True)\n",
    "ax.set_yticks(np.arange(cm.shape[0]+1)-.5, minor=True)\n",
    "ax.grid(which=\"minor\", color=\"gray\", linestyle='-', linewidth=0.5)\n",
    "ax.tick_params(which=\"minor\", size=0)\n",
    "\n",
    "plt.show()\n"
   ]
  },
  {
   "cell_type": "code",
   "execution_count": 56,
   "metadata": {},
   "outputs": [
    {
     "name": "stdout",
     "output_type": "stream",
     "text": [
      "Top 5 recommendations for User Index 0:\n",
      "- The Killing Moon by Echo & the Bunnymen (Genre: rock, Distance: 0.993105979011742)\n",
      "- Whatever by Godsmack (Genre: rock, Distance: 0.9999258651911136)\n",
      "- Gasoline by Whiskey Myers (Genre: rock, Distance: 1.0555602742836225)\n",
      "- Promise Me by Brian Mackey (Genre: rock, Distance: 1.0593661619343964)\n",
      "- Promise Me by Brian Mackey (Genre: rock, Distance: 1.0593661619343964)\n",
      "Top 5 recommendations for User Index 1:\n",
      "- Warm (feat. HAIM) by Charli XCX (Genre: pop, Distance: 1.0830630207729113)\n",
      "- Access by Jungle Animals (Genre: pop, Distance: 1.1020618413750638)\n",
      "- Faith (with Dolly Parton) [feat. Mr. Probz] - Acoustic by Galantis (Genre: pop, Distance: 1.1060776009144668)\n",
      "- Bachelorette by Ashe (Genre: pop, Distance: 1.238511322513527)\n",
      "- Wrecking Ball by Miley Cyrus (Genre: pop, Distance: 1.2587566171185096)\n",
      "Top 5 recommendations for User Index 2:\n",
      "- Still Got Me (feat. Jocelyn Bowman) by GAWVI (Genre: edm, Distance: 1.3814107431009166)\n",
      "- Stay by Rich James (Genre: edm, Distance: 1.4160565870217103)\n",
      "- These Are The Times (feat. JRM) by Martin Garrix (Genre: edm, Distance: 1.43514982659089)\n",
      "- These Are The Times (feat. JRM) by Martin Garrix (Genre: edm, Distance: 1.43514982659089)\n",
      "- Paradise by Wallaby (Genre: edm, Distance: 1.440190789232139)\n",
      "Top 5 recommendations for User Index 3:\n",
      "- On vit d'amour by Jean-Louis Aubert (Genre: rock, Distance: 1.4207323834066385)\n",
      "- Ang Huling El Bimbo by Eraserheads (Genre: rock, Distance: 1.445406345609749)\n",
      "- Tunnel of Love (Intro: The Carousel Waltz) by Dire Straits (Genre: rock, Distance: 1.4923741001638866)\n",
      "- The Needle And The Spoon by Lynyrd Skynyrd (Genre: rock, Distance: 1.4965965715648297)\n",
      "- Stars by Callalily (Genre: rock, Distance: 1.529749968330233)\n",
      "Top 5 recommendations for User Index 4:\n",
      "- Away by The Bolshoi (Genre: rock, Distance: 1.1057729103335951)\n",
      "- Good Times Roll by The Cars (Genre: rock, Distance: 1.2029408852560972)\n",
      "- 867-5309 / Jenny by Tommy Tutone (Genre: rock, Distance: 1.2613402459432832)\n",
      "- Pinball Wizard by The Who (Genre: rock, Distance: 1.2782489491598967)\n",
      "- Pinball Wizard by The Who (Genre: rock, Distance: 1.2782489491598967)\n"
     ]
    },
    {
     "data": {
      "application/vnd.plotly.v1+json": {
       "config": {
        "plotlyServerURL": "https://plot.ly"
       },
       "data": [
        {
         "marker": {
          "color": "blue",
          "size": 6
         },
         "mode": "markers+text",
         "name": "User 0",
         "text": "User 0<br>rock",
         "type": "scatter3d",
         "x": [
          0.9135114136518558
         ],
         "y": [
          0.15403630156696724
         ],
         "z": [
          0.36341126634023924
         ]
        },
        {
         "marker": {
          "color": "red",
          "size": 4
         },
         "mode": "markers+text",
         "name": "The Killing Moon by Echo & the Bunnymen",
         "text": "The Killing Moon by Echo & the Bunnymen",
         "type": "scatter3d",
         "x": [
          0.09669911413846377
         ],
         "y": [
          0.4263726564247857
         ],
         "z": [
          0.16035018885475727
         ]
        },
        {
         "line": {
          "color": "green",
          "dash": "dash",
          "width": 2
         },
         "mode": "lines",
         "showlegend": false,
         "type": "scatter3d",
         "x": [
          0.9135114136518558,
          0.09669911413846377
         ],
         "y": [
          0.15403630156696724,
          0.4263726564247857
         ],
         "z": [
          0.36341126634023924,
          0.16035018885475727
         ]
        },
        {
         "marker": {
          "color": "red",
          "size": 4
         },
         "mode": "markers+text",
         "name": "Whatever by Godsmack",
         "text": "Whatever by Godsmack",
         "type": "scatter3d",
         "x": [
          0.16321162776216291
         ],
         "y": [
          0.45471166615038305
         ],
         "z": [
          0.505378476088421
         ]
        },
        {
         "line": {
          "color": "green",
          "dash": "dash",
          "width": 2
         },
         "mode": "lines",
         "showlegend": false,
         "type": "scatter3d",
         "x": [
          0.9135114136518558,
          0.16321162776216291
         ],
         "y": [
          0.15403630156696724,
          0.45471166615038305
         ],
         "z": [
          0.36341126634023924,
          0.505378476088421
         ]
        },
        {
         "marker": {
          "color": "red",
          "size": 4
         },
         "mode": "markers+text",
         "name": "Gasoline by Whiskey Myers",
         "text": "Gasoline by Whiskey Myers",
         "type": "scatter3d",
         "x": [
          0.33975216092267113
         ],
         "y": [
          0.5662962933840793
         ],
         "z": [
          0.8483431183709339
         ]
        },
        {
         "line": {
          "color": "green",
          "dash": "dash",
          "width": 2
         },
         "mode": "lines",
         "showlegend": false,
         "type": "scatter3d",
         "x": [
          0.9135114136518558,
          0.33975216092267113
         ],
         "y": [
          0.15403630156696724,
          0.5662962933840793
         ],
         "z": [
          0.36341126634023924,
          0.8483431183709339
         ]
        },
        {
         "marker": {
          "color": "red",
          "size": 4
         },
         "mode": "markers+text",
         "name": "Promise Me by Brian Mackey",
         "text": "Promise Me by Brian Mackey",
         "type": "scatter3d",
         "x": [
          0.05130175772100076
         ],
         "y": [
          0.3388936787344472
         ],
         "z": [
          0.6182745911201628
         ]
        },
        {
         "line": {
          "color": "green",
          "dash": "dash",
          "width": 2
         },
         "mode": "lines",
         "showlegend": false,
         "type": "scatter3d",
         "x": [
          0.9135114136518558,
          0.05130175772100076
         ],
         "y": [
          0.15403630156696724,
          0.3388936787344472
         ],
         "z": [
          0.36341126634023924,
          0.6182745911201628
         ]
        },
        {
         "marker": {
          "color": "red",
          "size": 4
         },
         "mode": "markers+text",
         "name": "Promise Me by Brian Mackey",
         "text": "Promise Me by Brian Mackey",
         "type": "scatter3d",
         "x": [
          0.4151972780064187
         ],
         "y": [
          0.22601209386725685
         ],
         "z": [
          0.2560366719487567
         ]
        },
        {
         "line": {
          "color": "green",
          "dash": "dash",
          "width": 2
         },
         "mode": "lines",
         "showlegend": false,
         "type": "scatter3d",
         "x": [
          0.9135114136518558,
          0.4151972780064187
         ],
         "y": [
          0.15403630156696724,
          0.22601209386725685
         ],
         "z": [
          0.36341126634023924,
          0.2560366719487567
         ]
        },
        {
         "marker": {
          "color": "blue",
          "size": 6
         },
         "mode": "markers+text",
         "name": "User 1",
         "text": "User 1<br>pop",
         "type": "scatter3d",
         "x": [
          0.05451321805879106
         ],
         "y": [
          0.09056971132373681
         ],
         "z": [
          0.490985876282797
         ]
        },
        {
         "marker": {
          "color": "red",
          "size": 4
         },
         "mode": "markers+text",
         "name": "Warm (feat. HAIM) by Charli XCX",
         "text": "Warm (feat. HAIM) by Charli XCX",
         "type": "scatter3d",
         "x": [
          0.42297466049662824
         ],
         "y": [
          0.7992774396524481
         ],
         "z": [
          0.9914784829756348
         ]
        },
        {
         "line": {
          "color": "green",
          "dash": "dash",
          "width": 2
         },
         "mode": "lines",
         "showlegend": false,
         "type": "scatter3d",
         "x": [
          0.05451321805879106,
          0.42297466049662824
         ],
         "y": [
          0.09056971132373681,
          0.7992774396524481
         ],
         "z": [
          0.490985876282797,
          0.9914784829756348
         ]
        },
        {
         "marker": {
          "color": "red",
          "size": 4
         },
         "mode": "markers+text",
         "name": "Access by Jungle Animals",
         "text": "Access by Jungle Animals",
         "type": "scatter3d",
         "x": [
          0.4665401592370516
         ],
         "y": [
          0.47486105677845325
         ],
         "z": [
          0.08524391639363715
         ]
        },
        {
         "line": {
          "color": "green",
          "dash": "dash",
          "width": 2
         },
         "mode": "lines",
         "showlegend": false,
         "type": "scatter3d",
         "x": [
          0.05451321805879106,
          0.4665401592370516
         ],
         "y": [
          0.09056971132373681,
          0.47486105677845325
         ],
         "z": [
          0.490985876282797,
          0.08524391639363715
         ]
        },
        {
         "marker": {
          "color": "red",
          "size": 4
         },
         "mode": "markers+text",
         "name": "Faith (with Dolly Parton) [feat. Mr. Probz] - Acoustic by Galantis",
         "text": "Faith (with Dolly Parton) [feat. Mr. Probz] - Acoustic by Galantis",
         "type": "scatter3d",
         "x": [
          0.017889288611770415
         ],
         "y": [
          0.5037466925047709
         ],
         "z": [
          0.5457230329966949
         ]
        },
        {
         "line": {
          "color": "green",
          "dash": "dash",
          "width": 2
         },
         "mode": "lines",
         "showlegend": false,
         "type": "scatter3d",
         "x": [
          0.05451321805879106,
          0.017889288611770415
         ],
         "y": [
          0.09056971132373681,
          0.5037466925047709
         ],
         "z": [
          0.490985876282797,
          0.5457230329966949
         ]
        },
        {
         "marker": {
          "color": "red",
          "size": 4
         },
         "mode": "markers+text",
         "name": "Bachelorette by Ashe",
         "text": "Bachelorette by Ashe",
         "type": "scatter3d",
         "x": [
          0.19620273518180031
         ],
         "y": [
          0.21621348133732177
         ],
         "z": [
          0.305964472204304
         ]
        },
        {
         "line": {
          "color": "green",
          "dash": "dash",
          "width": 2
         },
         "mode": "lines",
         "showlegend": false,
         "type": "scatter3d",
         "x": [
          0.05451321805879106,
          0.19620273518180031
         ],
         "y": [
          0.09056971132373681,
          0.21621348133732177
         ],
         "z": [
          0.490985876282797,
          0.305964472204304
         ]
        },
        {
         "marker": {
          "color": "red",
          "size": 4
         },
         "mode": "markers+text",
         "name": "Wrecking Ball by Miley Cyrus",
         "text": "Wrecking Ball by Miley Cyrus",
         "type": "scatter3d",
         "x": [
          0.9955163411346286
         ],
         "y": [
          0.5650254649315317
         ],
         "z": [
          0.4198448501661476
         ]
        },
        {
         "line": {
          "color": "green",
          "dash": "dash",
          "width": 2
         },
         "mode": "lines",
         "showlegend": false,
         "type": "scatter3d",
         "x": [
          0.05451321805879106,
          0.9955163411346286
         ],
         "y": [
          0.09056971132373681,
          0.5650254649315317
         ],
         "z": [
          0.490985876282797,
          0.4198448501661476
         ]
        },
        {
         "marker": {
          "color": "blue",
          "size": 6
         },
         "mode": "markers+text",
         "name": "User 2",
         "text": "User 2<br>edm",
         "type": "scatter3d",
         "x": [
          0.18628778211820374
         ],
         "y": [
          0.7043938025421546
         ],
         "z": [
          0.8551195067601274
         ]
        },
        {
         "marker": {
          "color": "red",
          "size": 4
         },
         "mode": "markers+text",
         "name": "Still Got Me (feat. Jocelyn Bowman) by GAWVI",
         "text": "Still Got Me (feat. Jocelyn Bowman) by GAWVI",
         "type": "scatter3d",
         "x": [
          0.7900705047674925
         ],
         "y": [
          0.9833820580784799
         ],
         "z": [
          0.6946431302430524
         ]
        },
        {
         "line": {
          "color": "green",
          "dash": "dash",
          "width": 2
         },
         "mode": "lines",
         "showlegend": false,
         "type": "scatter3d",
         "x": [
          0.18628778211820374,
          0.7900705047674925
         ],
         "y": [
          0.7043938025421546,
          0.9833820580784799
         ],
         "z": [
          0.8551195067601274,
          0.6946431302430524
         ]
        },
        {
         "marker": {
          "color": "red",
          "size": 4
         },
         "mode": "markers+text",
         "name": "Stay by Rich James",
         "text": "Stay by Rich James",
         "type": "scatter3d",
         "x": [
          0.07504450997941414
         ],
         "y": [
          0.8720466664061566
         ],
         "z": [
          0.26645947817994164
         ]
        },
        {
         "line": {
          "color": "green",
          "dash": "dash",
          "width": 2
         },
         "mode": "lines",
         "showlegend": false,
         "type": "scatter3d",
         "x": [
          0.18628778211820374,
          0.07504450997941414
         ],
         "y": [
          0.7043938025421546,
          0.8720466664061566
         ],
         "z": [
          0.8551195067601274,
          0.26645947817994164
         ]
        },
        {
         "marker": {
          "color": "red",
          "size": 4
         },
         "mode": "markers+text",
         "name": "These Are The Times (feat. JRM) by Martin Garrix",
         "text": "These Are The Times (feat. JRM) by Martin Garrix",
         "type": "scatter3d",
         "x": [
          0.23759512603307908
         ],
         "y": [
          0.48052876890701335
         ],
         "z": [
          0.18998615275027708
         ]
        },
        {
         "line": {
          "color": "green",
          "dash": "dash",
          "width": 2
         },
         "mode": "lines",
         "showlegend": false,
         "type": "scatter3d",
         "x": [
          0.18628778211820374,
          0.23759512603307908
         ],
         "y": [
          0.7043938025421546,
          0.48052876890701335
         ],
         "z": [
          0.8551195067601274,
          0.18998615275027708
         ]
        },
        {
         "marker": {
          "color": "red",
          "size": 4
         },
         "mode": "markers+text",
         "name": "These Are The Times (feat. JRM) by Martin Garrix",
         "text": "These Are The Times (feat. JRM) by Martin Garrix",
         "type": "scatter3d",
         "x": [
          0.3904353097318688
         ],
         "y": [
          0.8238596427892441
         ],
         "z": [
          0.4256234231184134
         ]
        },
        {
         "line": {
          "color": "green",
          "dash": "dash",
          "width": 2
         },
         "mode": "lines",
         "showlegend": false,
         "type": "scatter3d",
         "x": [
          0.18628778211820374,
          0.3904353097318688
         ],
         "y": [
          0.7043938025421546,
          0.8238596427892441
         ],
         "z": [
          0.8551195067601274,
          0.4256234231184134
         ]
        },
        {
         "marker": {
          "color": "red",
          "size": 4
         },
         "mode": "markers+text",
         "name": "Paradise by Wallaby",
         "text": "Paradise by Wallaby",
         "type": "scatter3d",
         "x": [
          0.7508917963088491
         ],
         "y": [
          0.1662380457829905
         ],
         "z": [
          0.007405801729961636
         ]
        },
        {
         "line": {
          "color": "green",
          "dash": "dash",
          "width": 2
         },
         "mode": "lines",
         "showlegend": false,
         "type": "scatter3d",
         "x": [
          0.18628778211820374,
          0.7508917963088491
         ],
         "y": [
          0.7043938025421546,
          0.1662380457829905
         ],
         "z": [
          0.8551195067601274,
          0.007405801729961636
         ]
        },
        {
         "marker": {
          "color": "blue",
          "size": 6
         },
         "mode": "markers+text",
         "name": "User 3",
         "text": "User 3<br>rock",
         "type": "scatter3d",
         "x": [
          0.38450490335729937
         ],
         "y": [
          0.27812100128801076
         ],
         "z": [
          0.6708555883673074
         ]
        },
        {
         "marker": {
          "color": "red",
          "size": 4
         },
         "mode": "markers+text",
         "name": "On vit d'amour by Jean-Louis Aubert",
         "text": "On vit d'amour by Jean-Louis Aubert",
         "type": "scatter3d",
         "x": [
          0.4735457086713467
         ],
         "y": [
          0.7113747225611147
         ],
         "z": [
          0.6172751019436667
         ]
        },
        {
         "line": {
          "color": "green",
          "dash": "dash",
          "width": 2
         },
         "mode": "lines",
         "showlegend": false,
         "type": "scatter3d",
         "x": [
          0.38450490335729937,
          0.4735457086713467
         ],
         "y": [
          0.27812100128801076,
          0.7113747225611147
         ],
         "z": [
          0.6708555883673074,
          0.6172751019436667
         ]
        },
        {
         "marker": {
          "color": "red",
          "size": 4
         },
         "mode": "markers+text",
         "name": "Ang Huling El Bimbo by Eraserheads",
         "text": "Ang Huling El Bimbo by Eraserheads",
         "type": "scatter3d",
         "x": [
          0.3824817567134712
         ],
         "y": [
          0.5377417116529758
         ],
         "z": [
          0.5611813135074737
         ]
        },
        {
         "line": {
          "color": "green",
          "dash": "dash",
          "width": 2
         },
         "mode": "lines",
         "showlegend": false,
         "type": "scatter3d",
         "x": [
          0.38450490335729937,
          0.3824817567134712
         ],
         "y": [
          0.27812100128801076,
          0.5377417116529758
         ],
         "z": [
          0.6708555883673074,
          0.5611813135074737
         ]
        },
        {
         "marker": {
          "color": "red",
          "size": 4
         },
         "mode": "markers+text",
         "name": "Tunnel of Love (Intro: The Carousel Waltz) by Dire Straits",
         "text": "Tunnel of Love (Intro: The Carousel Waltz) by Dire Straits",
         "type": "scatter3d",
         "x": [
          0.47883512110958404
         ],
         "y": [
          0.4858254467612889
         ],
         "z": [
          0.6585390004846923
         ]
        },
        {
         "line": {
          "color": "green",
          "dash": "dash",
          "width": 2
         },
         "mode": "lines",
         "showlegend": false,
         "type": "scatter3d",
         "x": [
          0.38450490335729937,
          0.47883512110958404
         ],
         "y": [
          0.27812100128801076,
          0.4858254467612889
         ],
         "z": [
          0.6708555883673074,
          0.6585390004846923
         ]
        },
        {
         "marker": {
          "color": "red",
          "size": 4
         },
         "mode": "markers+text",
         "name": "The Needle And The Spoon by Lynyrd Skynyrd",
         "text": "The Needle And The Spoon by Lynyrd Skynyrd",
         "type": "scatter3d",
         "x": [
          0.5014069510257182
         ],
         "y": [
          0.42846537405616547
         ],
         "z": [
          0.6785915437488504
         ]
        },
        {
         "line": {
          "color": "green",
          "dash": "dash",
          "width": 2
         },
         "mode": "lines",
         "showlegend": false,
         "type": "scatter3d",
         "x": [
          0.38450490335729937,
          0.5014069510257182
         ],
         "y": [
          0.27812100128801076,
          0.42846537405616547
         ],
         "z": [
          0.6708555883673074,
          0.6785915437488504
         ]
        },
        {
         "marker": {
          "color": "red",
          "size": 4
         },
         "mode": "markers+text",
         "name": "Stars by Callalily",
         "text": "Stars by Callalily",
         "type": "scatter3d",
         "x": [
          0.15862770106967894
         ],
         "y": [
          0.28648861994998387
         ],
         "z": [
          0.724297404234871
         ]
        },
        {
         "line": {
          "color": "green",
          "dash": "dash",
          "width": 2
         },
         "mode": "lines",
         "showlegend": false,
         "type": "scatter3d",
         "x": [
          0.38450490335729937,
          0.15862770106967894
         ],
         "y": [
          0.27812100128801076,
          0.28648861994998387
         ],
         "z": [
          0.6708555883673074,
          0.724297404234871
         ]
        },
        {
         "marker": {
          "color": "blue",
          "size": 6
         },
         "mode": "markers+text",
         "name": "User 4",
         "text": "User 4<br>rock",
         "type": "scatter3d",
         "x": [
          0.2279103741811147
         ],
         "y": [
          0.8320517542637491
         ],
         "z": [
          0.7384342927165736
         ]
        },
        {
         "marker": {
          "color": "red",
          "size": 4
         },
         "mode": "markers+text",
         "name": "Away by The Bolshoi",
         "text": "Away by The Bolshoi",
         "type": "scatter3d",
         "x": [
          0.44652358504454615
         ],
         "y": [
          0.6039344383940116
         ],
         "z": [
          0.5731081844786868
         ]
        },
        {
         "line": {
          "color": "green",
          "dash": "dash",
          "width": 2
         },
         "mode": "lines",
         "showlegend": false,
         "type": "scatter3d",
         "x": [
          0.2279103741811147,
          0.44652358504454615
         ],
         "y": [
          0.8320517542637491,
          0.6039344383940116
         ],
         "z": [
          0.7384342927165736,
          0.5731081844786868
         ]
        },
        {
         "marker": {
          "color": "red",
          "size": 4
         },
         "mode": "markers+text",
         "name": "Good Times Roll by The Cars",
         "text": "Good Times Roll by The Cars",
         "type": "scatter3d",
         "x": [
          0.18775317357414556
         ],
         "y": [
          0.7467175755397365
         ],
         "z": [
          0.4115578990867934
         ]
        },
        {
         "line": {
          "color": "green",
          "dash": "dash",
          "width": 2
         },
         "mode": "lines",
         "showlegend": false,
         "type": "scatter3d",
         "x": [
          0.2279103741811147,
          0.18775317357414556
         ],
         "y": [
          0.8320517542637491,
          0.7467175755397365
         ],
         "z": [
          0.7384342927165736,
          0.4115578990867934
         ]
        },
        {
         "marker": {
          "color": "red",
          "size": 4
         },
         "mode": "markers+text",
         "name": "867-5309 / Jenny by Tommy Tutone",
         "text": "867-5309 / Jenny by Tommy Tutone",
         "type": "scatter3d",
         "x": [
          0.5812797916536108
         ],
         "y": [
          0.47148872681661136
         ],
         "z": [
          0.28920063920452765
         ]
        },
        {
         "line": {
          "color": "green",
          "dash": "dash",
          "width": 2
         },
         "mode": "lines",
         "showlegend": false,
         "type": "scatter3d",
         "x": [
          0.2279103741811147,
          0.5812797916536108
         ],
         "y": [
          0.8320517542637491,
          0.47148872681661136
         ],
         "z": [
          0.7384342927165736,
          0.28920063920452765
         ]
        },
        {
         "marker": {
          "color": "red",
          "size": 4
         },
         "mode": "markers+text",
         "name": "Pinball Wizard by The Who",
         "text": "Pinball Wizard by The Who",
         "type": "scatter3d",
         "x": [
          0.29667424753767346
         ],
         "y": [
          0.9723280143367473
         ],
         "z": [
          0.5555564170586687
         ]
        },
        {
         "line": {
          "color": "green",
          "dash": "dash",
          "width": 2
         },
         "mode": "lines",
         "showlegend": false,
         "type": "scatter3d",
         "x": [
          0.2279103741811147,
          0.29667424753767346
         ],
         "y": [
          0.8320517542637491,
          0.9723280143367473
         ],
         "z": [
          0.7384342927165736,
          0.5555564170586687
         ]
        },
        {
         "marker": {
          "color": "red",
          "size": 4
         },
         "mode": "markers+text",
         "name": "Pinball Wizard by The Who",
         "text": "Pinball Wizard by The Who",
         "type": "scatter3d",
         "x": [
          0.4761496888734865
         ],
         "y": [
          0.030690075591248922
         ],
         "z": [
          0.0793889272598538
         ]
        },
        {
         "line": {
          "color": "green",
          "dash": "dash",
          "width": 2
         },
         "mode": "lines",
         "showlegend": false,
         "type": "scatter3d",
         "x": [
          0.2279103741811147,
          0.4761496888734865
         ],
         "y": [
          0.8320517542637491,
          0.030690075591248922
         ],
         "z": [
          0.7384342927165736,
          0.0793889272598538
         ]
        }
       ],
       "layout": {
        "height": 700,
        "margin": {
         "b": 0,
         "l": 0,
         "r": 0,
         "t": 30
        },
        "template": {
         "data": {
          "bar": [
           {
            "error_x": {
             "color": "#2a3f5f"
            },
            "error_y": {
             "color": "#2a3f5f"
            },
            "marker": {
             "line": {
              "color": "#E5ECF6",
              "width": 0.5
             },
             "pattern": {
              "fillmode": "overlay",
              "size": 10,
              "solidity": 0.2
             }
            },
            "type": "bar"
           }
          ],
          "barpolar": [
           {
            "marker": {
             "line": {
              "color": "#E5ECF6",
              "width": 0.5
             },
             "pattern": {
              "fillmode": "overlay",
              "size": 10,
              "solidity": 0.2
             }
            },
            "type": "barpolar"
           }
          ],
          "carpet": [
           {
            "aaxis": {
             "endlinecolor": "#2a3f5f",
             "gridcolor": "white",
             "linecolor": "white",
             "minorgridcolor": "white",
             "startlinecolor": "#2a3f5f"
            },
            "baxis": {
             "endlinecolor": "#2a3f5f",
             "gridcolor": "white",
             "linecolor": "white",
             "minorgridcolor": "white",
             "startlinecolor": "#2a3f5f"
            },
            "type": "carpet"
           }
          ],
          "choropleth": [
           {
            "colorbar": {
             "outlinewidth": 0,
             "ticks": ""
            },
            "type": "choropleth"
           }
          ],
          "contour": [
           {
            "colorbar": {
             "outlinewidth": 0,
             "ticks": ""
            },
            "colorscale": [
             [
              0,
              "#0d0887"
             ],
             [
              0.1111111111111111,
              "#46039f"
             ],
             [
              0.2222222222222222,
              "#7201a8"
             ],
             [
              0.3333333333333333,
              "#9c179e"
             ],
             [
              0.4444444444444444,
              "#bd3786"
             ],
             [
              0.5555555555555556,
              "#d8576b"
             ],
             [
              0.6666666666666666,
              "#ed7953"
             ],
             [
              0.7777777777777778,
              "#fb9f3a"
             ],
             [
              0.8888888888888888,
              "#fdca26"
             ],
             [
              1,
              "#f0f921"
             ]
            ],
            "type": "contour"
           }
          ],
          "contourcarpet": [
           {
            "colorbar": {
             "outlinewidth": 0,
             "ticks": ""
            },
            "type": "contourcarpet"
           }
          ],
          "heatmap": [
           {
            "colorbar": {
             "outlinewidth": 0,
             "ticks": ""
            },
            "colorscale": [
             [
              0,
              "#0d0887"
             ],
             [
              0.1111111111111111,
              "#46039f"
             ],
             [
              0.2222222222222222,
              "#7201a8"
             ],
             [
              0.3333333333333333,
              "#9c179e"
             ],
             [
              0.4444444444444444,
              "#bd3786"
             ],
             [
              0.5555555555555556,
              "#d8576b"
             ],
             [
              0.6666666666666666,
              "#ed7953"
             ],
             [
              0.7777777777777778,
              "#fb9f3a"
             ],
             [
              0.8888888888888888,
              "#fdca26"
             ],
             [
              1,
              "#f0f921"
             ]
            ],
            "type": "heatmap"
           }
          ],
          "heatmapgl": [
           {
            "colorbar": {
             "outlinewidth": 0,
             "ticks": ""
            },
            "colorscale": [
             [
              0,
              "#0d0887"
             ],
             [
              0.1111111111111111,
              "#46039f"
             ],
             [
              0.2222222222222222,
              "#7201a8"
             ],
             [
              0.3333333333333333,
              "#9c179e"
             ],
             [
              0.4444444444444444,
              "#bd3786"
             ],
             [
              0.5555555555555556,
              "#d8576b"
             ],
             [
              0.6666666666666666,
              "#ed7953"
             ],
             [
              0.7777777777777778,
              "#fb9f3a"
             ],
             [
              0.8888888888888888,
              "#fdca26"
             ],
             [
              1,
              "#f0f921"
             ]
            ],
            "type": "heatmapgl"
           }
          ],
          "histogram": [
           {
            "marker": {
             "pattern": {
              "fillmode": "overlay",
              "size": 10,
              "solidity": 0.2
             }
            },
            "type": "histogram"
           }
          ],
          "histogram2d": [
           {
            "colorbar": {
             "outlinewidth": 0,
             "ticks": ""
            },
            "colorscale": [
             [
              0,
              "#0d0887"
             ],
             [
              0.1111111111111111,
              "#46039f"
             ],
             [
              0.2222222222222222,
              "#7201a8"
             ],
             [
              0.3333333333333333,
              "#9c179e"
             ],
             [
              0.4444444444444444,
              "#bd3786"
             ],
             [
              0.5555555555555556,
              "#d8576b"
             ],
             [
              0.6666666666666666,
              "#ed7953"
             ],
             [
              0.7777777777777778,
              "#fb9f3a"
             ],
             [
              0.8888888888888888,
              "#fdca26"
             ],
             [
              1,
              "#f0f921"
             ]
            ],
            "type": "histogram2d"
           }
          ],
          "histogram2dcontour": [
           {
            "colorbar": {
             "outlinewidth": 0,
             "ticks": ""
            },
            "colorscale": [
             [
              0,
              "#0d0887"
             ],
             [
              0.1111111111111111,
              "#46039f"
             ],
             [
              0.2222222222222222,
              "#7201a8"
             ],
             [
              0.3333333333333333,
              "#9c179e"
             ],
             [
              0.4444444444444444,
              "#bd3786"
             ],
             [
              0.5555555555555556,
              "#d8576b"
             ],
             [
              0.6666666666666666,
              "#ed7953"
             ],
             [
              0.7777777777777778,
              "#fb9f3a"
             ],
             [
              0.8888888888888888,
              "#fdca26"
             ],
             [
              1,
              "#f0f921"
             ]
            ],
            "type": "histogram2dcontour"
           }
          ],
          "mesh3d": [
           {
            "colorbar": {
             "outlinewidth": 0,
             "ticks": ""
            },
            "type": "mesh3d"
           }
          ],
          "parcoords": [
           {
            "line": {
             "colorbar": {
              "outlinewidth": 0,
              "ticks": ""
             }
            },
            "type": "parcoords"
           }
          ],
          "pie": [
           {
            "automargin": true,
            "type": "pie"
           }
          ],
          "scatter": [
           {
            "fillpattern": {
             "fillmode": "overlay",
             "size": 10,
             "solidity": 0.2
            },
            "type": "scatter"
           }
          ],
          "scatter3d": [
           {
            "line": {
             "colorbar": {
              "outlinewidth": 0,
              "ticks": ""
             }
            },
            "marker": {
             "colorbar": {
              "outlinewidth": 0,
              "ticks": ""
             }
            },
            "type": "scatter3d"
           }
          ],
          "scattercarpet": [
           {
            "marker": {
             "colorbar": {
              "outlinewidth": 0,
              "ticks": ""
             }
            },
            "type": "scattercarpet"
           }
          ],
          "scattergeo": [
           {
            "marker": {
             "colorbar": {
              "outlinewidth": 0,
              "ticks": ""
             }
            },
            "type": "scattergeo"
           }
          ],
          "scattergl": [
           {
            "marker": {
             "colorbar": {
              "outlinewidth": 0,
              "ticks": ""
             }
            },
            "type": "scattergl"
           }
          ],
          "scattermapbox": [
           {
            "marker": {
             "colorbar": {
              "outlinewidth": 0,
              "ticks": ""
             }
            },
            "type": "scattermapbox"
           }
          ],
          "scatterpolar": [
           {
            "marker": {
             "colorbar": {
              "outlinewidth": 0,
              "ticks": ""
             }
            },
            "type": "scatterpolar"
           }
          ],
          "scatterpolargl": [
           {
            "marker": {
             "colorbar": {
              "outlinewidth": 0,
              "ticks": ""
             }
            },
            "type": "scatterpolargl"
           }
          ],
          "scatterternary": [
           {
            "marker": {
             "colorbar": {
              "outlinewidth": 0,
              "ticks": ""
             }
            },
            "type": "scatterternary"
           }
          ],
          "surface": [
           {
            "colorbar": {
             "outlinewidth": 0,
             "ticks": ""
            },
            "colorscale": [
             [
              0,
              "#0d0887"
             ],
             [
              0.1111111111111111,
              "#46039f"
             ],
             [
              0.2222222222222222,
              "#7201a8"
             ],
             [
              0.3333333333333333,
              "#9c179e"
             ],
             [
              0.4444444444444444,
              "#bd3786"
             ],
             [
              0.5555555555555556,
              "#d8576b"
             ],
             [
              0.6666666666666666,
              "#ed7953"
             ],
             [
              0.7777777777777778,
              "#fb9f3a"
             ],
             [
              0.8888888888888888,
              "#fdca26"
             ],
             [
              1,
              "#f0f921"
             ]
            ],
            "type": "surface"
           }
          ],
          "table": [
           {
            "cells": {
             "fill": {
              "color": "#EBF0F8"
             },
             "line": {
              "color": "white"
             }
            },
            "header": {
             "fill": {
              "color": "#C8D4E3"
             },
             "line": {
              "color": "white"
             }
            },
            "type": "table"
           }
          ]
         },
         "layout": {
          "annotationdefaults": {
           "arrowcolor": "#2a3f5f",
           "arrowhead": 0,
           "arrowwidth": 1
          },
          "autotypenumbers": "strict",
          "coloraxis": {
           "colorbar": {
            "outlinewidth": 0,
            "ticks": ""
           }
          },
          "colorscale": {
           "diverging": [
            [
             0,
             "#8e0152"
            ],
            [
             0.1,
             "#c51b7d"
            ],
            [
             0.2,
             "#de77ae"
            ],
            [
             0.3,
             "#f1b6da"
            ],
            [
             0.4,
             "#fde0ef"
            ],
            [
             0.5,
             "#f7f7f7"
            ],
            [
             0.6,
             "#e6f5d0"
            ],
            [
             0.7,
             "#b8e186"
            ],
            [
             0.8,
             "#7fbc41"
            ],
            [
             0.9,
             "#4d9221"
            ],
            [
             1,
             "#276419"
            ]
           ],
           "sequential": [
            [
             0,
             "#0d0887"
            ],
            [
             0.1111111111111111,
             "#46039f"
            ],
            [
             0.2222222222222222,
             "#7201a8"
            ],
            [
             0.3333333333333333,
             "#9c179e"
            ],
            [
             0.4444444444444444,
             "#bd3786"
            ],
            [
             0.5555555555555556,
             "#d8576b"
            ],
            [
             0.6666666666666666,
             "#ed7953"
            ],
            [
             0.7777777777777778,
             "#fb9f3a"
            ],
            [
             0.8888888888888888,
             "#fdca26"
            ],
            [
             1,
             "#f0f921"
            ]
           ],
           "sequentialminus": [
            [
             0,
             "#0d0887"
            ],
            [
             0.1111111111111111,
             "#46039f"
            ],
            [
             0.2222222222222222,
             "#7201a8"
            ],
            [
             0.3333333333333333,
             "#9c179e"
            ],
            [
             0.4444444444444444,
             "#bd3786"
            ],
            [
             0.5555555555555556,
             "#d8576b"
            ],
            [
             0.6666666666666666,
             "#ed7953"
            ],
            [
             0.7777777777777778,
             "#fb9f3a"
            ],
            [
             0.8888888888888888,
             "#fdca26"
            ],
            [
             1,
             "#f0f921"
            ]
           ]
          },
          "colorway": [
           "#636efa",
           "#EF553B",
           "#00cc96",
           "#ab63fa",
           "#FFA15A",
           "#19d3f3",
           "#FF6692",
           "#B6E880",
           "#FF97FF",
           "#FECB52"
          ],
          "font": {
           "color": "#2a3f5f"
          },
          "geo": {
           "bgcolor": "white",
           "lakecolor": "white",
           "landcolor": "#E5ECF6",
           "showlakes": true,
           "showland": true,
           "subunitcolor": "white"
          },
          "hoverlabel": {
           "align": "left"
          },
          "hovermode": "closest",
          "mapbox": {
           "style": "light"
          },
          "paper_bgcolor": "white",
          "plot_bgcolor": "#E5ECF6",
          "polar": {
           "angularaxis": {
            "gridcolor": "white",
            "linecolor": "white",
            "ticks": ""
           },
           "bgcolor": "#E5ECF6",
           "radialaxis": {
            "gridcolor": "white",
            "linecolor": "white",
            "ticks": ""
           }
          },
          "scene": {
           "xaxis": {
            "backgroundcolor": "#E5ECF6",
            "gridcolor": "white",
            "gridwidth": 2,
            "linecolor": "white",
            "showbackground": true,
            "ticks": "",
            "zerolinecolor": "white"
           },
           "yaxis": {
            "backgroundcolor": "#E5ECF6",
            "gridcolor": "white",
            "gridwidth": 2,
            "linecolor": "white",
            "showbackground": true,
            "ticks": "",
            "zerolinecolor": "white"
           },
           "zaxis": {
            "backgroundcolor": "#E5ECF6",
            "gridcolor": "white",
            "gridwidth": 2,
            "linecolor": "white",
            "showbackground": true,
            "ticks": "",
            "zerolinecolor": "white"
           }
          },
          "shapedefaults": {
           "line": {
            "color": "#2a3f5f"
           }
          },
          "ternary": {
           "aaxis": {
            "gridcolor": "white",
            "linecolor": "white",
            "ticks": ""
           },
           "baxis": {
            "gridcolor": "white",
            "linecolor": "white",
            "ticks": ""
           },
           "bgcolor": "#E5ECF6",
           "caxis": {
            "gridcolor": "white",
            "linecolor": "white",
            "ticks": ""
           }
          },
          "title": {
           "x": 0.05
          },
          "xaxis": {
           "automargin": true,
           "gridcolor": "white",
           "linecolor": "white",
           "ticks": "",
           "title": {
            "standoff": 15
           },
           "zerolinecolor": "white",
           "zerolinewidth": 2
          },
          "yaxis": {
           "automargin": true,
           "gridcolor": "white",
           "linecolor": "white",
           "ticks": "",
           "title": {
            "standoff": 15
           },
           "zerolinecolor": "white",
           "zerolinewidth": 2
          }
         }
        },
        "title": {
         "text": "3D Visualization of User and Song Recommendations"
        },
        "width": 700
       }
      }
     },
     "metadata": {},
     "output_type": "display_data"
    }
   ],
   "source": [
    "import plotly.graph_objects as go\n",
    "import numpy as np\n",
    "import pandas as pd\n",
    "\n",
    "# Assuming the following variables are defined: spotify_data, user_profiles, recommend_songs\n",
    "# For simplicity, we'll use only a subset of users to demonstrate\n",
    "\n",
    "# Generate recommendations for a subset of users\n",
    "user_indices = [0, 1, 2, 3, 4]  # Example user indices\n",
    "recommendations = {index: recommend_songs(index, top_n=5) for index in user_indices}\n",
    "\n",
    "# Set up figure\n",
    "fig = go.Figure()\n",
    "\n",
    "# Iterate through each user and their recommendations to plot\n",
    "for user_index, recommended_songs in recommendations.items():\n",
    "    user_genre = user_profiles.iloc[user_index]['genre']\n",
    "    user_point = np.random.rand(3)  # Random 3D coordinates for the user\n",
    "\n",
    "    # Plot user point\n",
    "    fig.add_trace(go.Scatter3d(\n",
    "        x=[user_point[0]], y=[user_point[1]], z=[user_point[2]],\n",
    "        mode='markers+text',\n",
    "        marker=dict(size=6, color='blue'),\n",
    "        text=f\"User {user_index}<br>{user_genre}\",\n",
    "        name=f\"User {user_index}\"\n",
    "    ))\n",
    "\n",
    "    # Plot each recommended song and connect it to the user point\n",
    "    for idx, row in recommended_songs.iterrows():\n",
    "        song_point = np.random.rand(3)  # Random 3D coordinates for the song\n",
    "        song_name = f\"{row['track']} by {row['artist']}\"\n",
    "\n",
    "        # Plot song point\n",
    "        fig.add_trace(go.Scatter3d(\n",
    "            x=[song_point[0]], y=[song_point[1]], z=[song_point[2]],\n",
    "            mode='markers+text',\n",
    "            marker=dict(size=4, color='red'),\n",
    "            text=song_name,\n",
    "            name=song_name\n",
    "        ))\n",
    "\n",
    "        # Connect user and song with a dashed line\n",
    "        fig.add_trace(go.Scatter3d(\n",
    "            x=[user_point[0], song_point[0]], y=[user_point[1], song_point[1]], z=[user_point[2], song_point[2]],\n",
    "            mode='lines',\n",
    "            line=dict(color='green', width=2, dash='dash'),\n",
    "            showlegend=False\n",
    "        ))\n",
    "\n",
    "# Set layout options\n",
    "fig.update_layout(\n",
    "    title=\"3D Visualization of User and Song Recommendations\",\n",
    "    width=700,\n",
    "    height=700,\n",
    "    margin=dict(l=0, r=0, b=0, t=30)\n",
    ")\n",
    "\n",
    "# Show the plot\n",
    "fig.show()\n"
   ]
  },
  {
   "cell_type": "code",
   "execution_count": null,
   "metadata": {},
   "outputs": [
    {
     "name": "stdout",
     "output_type": "stream",
     "text": [
      "Top 5 recommendations for User Index 0:\n",
      "- The Killing Moon by Echo & the Bunnymen (Genre: rock, Distance: 0.993105979011742)\n",
      "- Whatever by Godsmack (Genre: rock, Distance: 0.9999258651911136)\n",
      "- Gasoline by Whiskey Myers (Genre: rock, Distance: 1.0555602742836225)\n",
      "- Promise Me by Brian Mackey (Genre: rock, Distance: 1.0593661619343964)\n",
      "- Promise Me by Brian Mackey (Genre: rock, Distance: 1.0593661619343964)\n",
      "Top 5 recommendations for User Index 1:\n",
      "- Warm (feat. HAIM) by Charli XCX (Genre: pop, Distance: 1.0830630207729113)\n",
      "- Access by Jungle Animals (Genre: pop, Distance: 1.1020618413750638)\n",
      "- Faith (with Dolly Parton) [feat. Mr. Probz] - Acoustic by Galantis (Genre: pop, Distance: 1.1060776009144668)\n",
      "- Bachelorette by Ashe (Genre: pop, Distance: 1.238511322513527)\n",
      "- Wrecking Ball by Miley Cyrus (Genre: pop, Distance: 1.2587566171185096)\n",
      "Top 5 recommendations for User Index 2:\n",
      "- Still Got Me (feat. Jocelyn Bowman) by GAWVI (Genre: edm, Distance: 1.3814107431009166)\n",
      "- Stay by Rich James (Genre: edm, Distance: 1.4160565870217103)\n",
      "- These Are The Times (feat. JRM) by Martin Garrix (Genre: edm, Distance: 1.43514982659089)\n",
      "- These Are The Times (feat. JRM) by Martin Garrix (Genre: edm, Distance: 1.43514982659089)\n",
      "- Paradise by Wallaby (Genre: edm, Distance: 1.440190789232139)\n",
      "Top 5 recommendations for User Index 3:\n",
      "- On vit d'amour by Jean-Louis Aubert (Genre: rock, Distance: 1.4207323834066385)\n",
      "- Ang Huling El Bimbo by Eraserheads (Genre: rock, Distance: 1.445406345609749)\n",
      "- Tunnel of Love (Intro: The Carousel Waltz) by Dire Straits (Genre: rock, Distance: 1.4923741001638866)\n",
      "- The Needle And The Spoon by Lynyrd Skynyrd (Genre: rock, Distance: 1.4965965715648297)\n",
      "- Stars by Callalily (Genre: rock, Distance: 1.529749968330233)\n",
      "Top 5 recommendations for User Index 4:\n",
      "- Away by The Bolshoi (Genre: rock, Distance: 1.1057729103335951)\n",
      "- Good Times Roll by The Cars (Genre: rock, Distance: 1.2029408852560972)\n",
      "- 867-5309 / Jenny by Tommy Tutone (Genre: rock, Distance: 1.2613402459432832)\n",
      "- Pinball Wizard by The Who (Genre: rock, Distance: 1.2782489491598967)\n",
      "- Pinball Wizard by The Who (Genre: rock, Distance: 1.2782489491598967)\n"
     ]
    },
    {
     "data": {
      "application/vnd.plotly.v1+json": {
       "config": {
        "plotlyServerURL": "https://plot.ly"
       },
       "data": [
        {
         "marker": {
          "color": "blue",
          "size": 6
         },
         "mode": "markers+text",
         "name": "User 0",
         "text": "User 0<br>rock",
         "type": "scatter3d",
         "x": [
          0.9135114136518558
         ],
         "y": [
          0.15403630156696724
         ],
         "z": [
          0.36341126634023924
         ]
        },
        {
         "marker": {
          "color": "red",
          "size": 4
         },
         "mode": "markers+text",
         "name": "The Killing Moon by Echo & the Bunnymen",
         "text": "The Killing Moon by Echo & the Bunnymen",
         "type": "scatter3d",
         "x": [
          0.09669911413846377
         ],
         "y": [
          0.4263726564247857
         ],
         "z": [
          0.16035018885475727
         ]
        },
        {
         "line": {
          "color": "green",
          "dash": "dash",
          "width": 2
         },
         "mode": "lines",
         "showlegend": false,
         "type": "scatter3d",
         "x": [
          0.9135114136518558,
          0.09669911413846377
         ],
         "y": [
          0.15403630156696724,
          0.4263726564247857
         ],
         "z": [
          0.36341126634023924,
          0.16035018885475727
         ]
        },
        {
         "marker": {
          "color": "red",
          "size": 4
         },
         "mode": "markers+text",
         "name": "Whatever by Godsmack",
         "text": "Whatever by Godsmack",
         "type": "scatter3d",
         "x": [
          0.16321162776216291
         ],
         "y": [
          0.45471166615038305
         ],
         "z": [
          0.505378476088421
         ]
        },
        {
         "line": {
          "color": "green",
          "dash": "dash",
          "width": 2
         },
         "mode": "lines",
         "showlegend": false,
         "type": "scatter3d",
         "x": [
          0.9135114136518558,
          0.16321162776216291
         ],
         "y": [
          0.15403630156696724,
          0.45471166615038305
         ],
         "z": [
          0.36341126634023924,
          0.505378476088421
         ]
        },
        {
         "marker": {
          "color": "red",
          "size": 4
         },
         "mode": "markers+text",
         "name": "Gasoline by Whiskey Myers",
         "text": "Gasoline by Whiskey Myers",
         "type": "scatter3d",
         "x": [
          0.33975216092267113
         ],
         "y": [
          0.5662962933840793
         ],
         "z": [
          0.8483431183709339
         ]
        },
        {
         "line": {
          "color": "green",
          "dash": "dash",
          "width": 2
         },
         "mode": "lines",
         "showlegend": false,
         "type": "scatter3d",
         "x": [
          0.9135114136518558,
          0.33975216092267113
         ],
         "y": [
          0.15403630156696724,
          0.5662962933840793
         ],
         "z": [
          0.36341126634023924,
          0.8483431183709339
         ]
        },
        {
         "marker": {
          "color": "red",
          "size": 4
         },
         "mode": "markers+text",
         "name": "Promise Me by Brian Mackey",
         "text": "Promise Me by Brian Mackey",
         "type": "scatter3d",
         "x": [
          0.05130175772100076
         ],
         "y": [
          0.3388936787344472
         ],
         "z": [
          0.6182745911201628
         ]
        },
        {
         "line": {
          "color": "green",
          "dash": "dash",
          "width": 2
         },
         "mode": "lines",
         "showlegend": false,
         "type": "scatter3d",
         "x": [
          0.9135114136518558,
          0.05130175772100076
         ],
         "y": [
          0.15403630156696724,
          0.3388936787344472
         ],
         "z": [
          0.36341126634023924,
          0.6182745911201628
         ]
        },
        {
         "marker": {
          "color": "red",
          "size": 4
         },
         "mode": "markers+text",
         "name": "Promise Me by Brian Mackey",
         "text": "Promise Me by Brian Mackey",
         "type": "scatter3d",
         "x": [
          0.4151972780064187
         ],
         "y": [
          0.22601209386725685
         ],
         "z": [
          0.2560366719487567
         ]
        },
        {
         "line": {
          "color": "green",
          "dash": "dash",
          "width": 2
         },
         "mode": "lines",
         "showlegend": false,
         "type": "scatter3d",
         "x": [
          0.9135114136518558,
          0.4151972780064187
         ],
         "y": [
          0.15403630156696724,
          0.22601209386725685
         ],
         "z": [
          0.36341126634023924,
          0.2560366719487567
         ]
        },
        {
         "marker": {
          "color": "blue",
          "size": 6
         },
         "mode": "markers+text",
         "name": "User 1",
         "text": "User 1<br>pop",
         "type": "scatter3d",
         "x": [
          0.05451321805879106
         ],
         "y": [
          0.09056971132373681
         ],
         "z": [
          0.490985876282797
         ]
        },
        {
         "marker": {
          "color": "red",
          "size": 4
         },
         "mode": "markers+text",
         "name": "Warm (feat. HAIM) by Charli XCX",
         "text": "Warm (feat. HAIM) by Charli XCX",
         "type": "scatter3d",
         "x": [
          0.42297466049662824
         ],
         "y": [
          0.7992774396524481
         ],
         "z": [
          0.9914784829756348
         ]
        },
        {
         "line": {
          "color": "green",
          "dash": "dash",
          "width": 2
         },
         "mode": "lines",
         "showlegend": false,
         "type": "scatter3d",
         "x": [
          0.05451321805879106,
          0.42297466049662824
         ],
         "y": [
          0.09056971132373681,
          0.7992774396524481
         ],
         "z": [
          0.490985876282797,
          0.9914784829756348
         ]
        },
        {
         "marker": {
          "color": "red",
          "size": 4
         },
         "mode": "markers+text",
         "name": "Access by Jungle Animals",
         "text": "Access by Jungle Animals",
         "type": "scatter3d",
         "x": [
          0.4665401592370516
         ],
         "y": [
          0.47486105677845325
         ],
         "z": [
          0.08524391639363715
         ]
        },
        {
         "line": {
          "color": "green",
          "dash": "dash",
          "width": 2
         },
         "mode": "lines",
         "showlegend": false,
         "type": "scatter3d",
         "x": [
          0.05451321805879106,
          0.4665401592370516
         ],
         "y": [
          0.09056971132373681,
          0.47486105677845325
         ],
         "z": [
          0.490985876282797,
          0.08524391639363715
         ]
        },
        {
         "marker": {
          "color": "red",
          "size": 4
         },
         "mode": "markers+text",
         "name": "Faith (with Dolly Parton) [feat. Mr. Probz] - Acoustic by Galantis",
         "text": "Faith (with Dolly Parton) [feat. Mr. Probz] - Acoustic by Galantis",
         "type": "scatter3d",
         "x": [
          0.017889288611770415
         ],
         "y": [
          0.5037466925047709
         ],
         "z": [
          0.5457230329966949
         ]
        },
        {
         "line": {
          "color": "green",
          "dash": "dash",
          "width": 2
         },
         "mode": "lines",
         "showlegend": false,
         "type": "scatter3d",
         "x": [
          0.05451321805879106,
          0.017889288611770415
         ],
         "y": [
          0.09056971132373681,
          0.5037466925047709
         ],
         "z": [
          0.490985876282797,
          0.5457230329966949
         ]
        },
        {
         "marker": {
          "color": "red",
          "size": 4
         },
         "mode": "markers+text",
         "name": "Bachelorette by Ashe",
         "text": "Bachelorette by Ashe",
         "type": "scatter3d",
         "x": [
          0.19620273518180031
         ],
         "y": [
          0.21621348133732177
         ],
         "z": [
          0.305964472204304
         ]
        },
        {
         "line": {
          "color": "green",
          "dash": "dash",
          "width": 2
         },
         "mode": "lines",
         "showlegend": false,
         "type": "scatter3d",
         "x": [
          0.05451321805879106,
          0.19620273518180031
         ],
         "y": [
          0.09056971132373681,
          0.21621348133732177
         ],
         "z": [
          0.490985876282797,
          0.305964472204304
         ]
        },
        {
         "marker": {
          "color": "red",
          "size": 4
         },
         "mode": "markers+text",
         "name": "Wrecking Ball by Miley Cyrus",
         "text": "Wrecking Ball by Miley Cyrus",
         "type": "scatter3d",
         "x": [
          0.9955163411346286
         ],
         "y": [
          0.5650254649315317
         ],
         "z": [
          0.4198448501661476
         ]
        },
        {
         "line": {
          "color": "green",
          "dash": "dash",
          "width": 2
         },
         "mode": "lines",
         "showlegend": false,
         "type": "scatter3d",
         "x": [
          0.05451321805879106,
          0.9955163411346286
         ],
         "y": [
          0.09056971132373681,
          0.5650254649315317
         ],
         "z": [
          0.490985876282797,
          0.4198448501661476
         ]
        },
        {
         "marker": {
          "color": "blue",
          "size": 6
         },
         "mode": "markers+text",
         "name": "User 2",
         "text": "User 2<br>edm",
         "type": "scatter3d",
         "x": [
          0.18628778211820374
         ],
         "y": [
          0.7043938025421546
         ],
         "z": [
          0.8551195067601274
         ]
        },
        {
         "marker": {
          "color": "red",
          "size": 4
         },
         "mode": "markers+text",
         "name": "Still Got Me (feat. Jocelyn Bowman) by GAWVI",
         "text": "Still Got Me (feat. Jocelyn Bowman) by GAWVI",
         "type": "scatter3d",
         "x": [
          0.7900705047674925
         ],
         "y": [
          0.9833820580784799
         ],
         "z": [
          0.6946431302430524
         ]
        },
        {
         "line": {
          "color": "green",
          "dash": "dash",
          "width": 2
         },
         "mode": "lines",
         "showlegend": false,
         "type": "scatter3d",
         "x": [
          0.18628778211820374,
          0.7900705047674925
         ],
         "y": [
          0.7043938025421546,
          0.9833820580784799
         ],
         "z": [
          0.8551195067601274,
          0.6946431302430524
         ]
        },
        {
         "marker": {
          "color": "red",
          "size": 4
         },
         "mode": "markers+text",
         "name": "Stay by Rich James",
         "text": "Stay by Rich James",
         "type": "scatter3d",
         "x": [
          0.07504450997941414
         ],
         "y": [
          0.8720466664061566
         ],
         "z": [
          0.26645947817994164
         ]
        },
        {
         "line": {
          "color": "green",
          "dash": "dash",
          "width": 2
         },
         "mode": "lines",
         "showlegend": false,
         "type": "scatter3d",
         "x": [
          0.18628778211820374,
          0.07504450997941414
         ],
         "y": [
          0.7043938025421546,
          0.8720466664061566
         ],
         "z": [
          0.8551195067601274,
          0.26645947817994164
         ]
        },
        {
         "marker": {
          "color": "red",
          "size": 4
         },
         "mode": "markers+text",
         "name": "These Are The Times (feat. JRM) by Martin Garrix",
         "text": "These Are The Times (feat. JRM) by Martin Garrix",
         "type": "scatter3d",
         "x": [
          0.23759512603307908
         ],
         "y": [
          0.48052876890701335
         ],
         "z": [
          0.18998615275027708
         ]
        },
        {
         "line": {
          "color": "green",
          "dash": "dash",
          "width": 2
         },
         "mode": "lines",
         "showlegend": false,
         "type": "scatter3d",
         "x": [
          0.18628778211820374,
          0.23759512603307908
         ],
         "y": [
          0.7043938025421546,
          0.48052876890701335
         ],
         "z": [
          0.8551195067601274,
          0.18998615275027708
         ]
        },
        {
         "marker": {
          "color": "red",
          "size": 4
         },
         "mode": "markers+text",
         "name": "These Are The Times (feat. JRM) by Martin Garrix",
         "text": "These Are The Times (feat. JRM) by Martin Garrix",
         "type": "scatter3d",
         "x": [
          0.3904353097318688
         ],
         "y": [
          0.8238596427892441
         ],
         "z": [
          0.4256234231184134
         ]
        },
        {
         "line": {
          "color": "green",
          "dash": "dash",
          "width": 2
         },
         "mode": "lines",
         "showlegend": false,
         "type": "scatter3d",
         "x": [
          0.18628778211820374,
          0.3904353097318688
         ],
         "y": [
          0.7043938025421546,
          0.8238596427892441
         ],
         "z": [
          0.8551195067601274,
          0.4256234231184134
         ]
        },
        {
         "marker": {
          "color": "red",
          "size": 4
         },
         "mode": "markers+text",
         "name": "Paradise by Wallaby",
         "text": "Paradise by Wallaby",
         "type": "scatter3d",
         "x": [
          0.7508917963088491
         ],
         "y": [
          0.1662380457829905
         ],
         "z": [
          0.007405801729961636
         ]
        },
        {
         "line": {
          "color": "green",
          "dash": "dash",
          "width": 2
         },
         "mode": "lines",
         "showlegend": false,
         "type": "scatter3d",
         "x": [
          0.18628778211820374,
          0.7508917963088491
         ],
         "y": [
          0.7043938025421546,
          0.1662380457829905
         ],
         "z": [
          0.8551195067601274,
          0.007405801729961636
         ]
        },
        {
         "marker": {
          "color": "blue",
          "size": 6
         },
         "mode": "markers+text",
         "name": "User 3",
         "text": "User 3<br>rock",
         "type": "scatter3d",
         "x": [
          0.38450490335729937
         ],
         "y": [
          0.27812100128801076
         ],
         "z": [
          0.6708555883673074
         ]
        },
        {
         "marker": {
          "color": "red",
          "size": 4
         },
         "mode": "markers+text",
         "name": "On vit d'amour by Jean-Louis Aubert",
         "text": "On vit d'amour by Jean-Louis Aubert",
         "type": "scatter3d",
         "x": [
          0.4735457086713467
         ],
         "y": [
          0.7113747225611147
         ],
         "z": [
          0.6172751019436667
         ]
        },
        {
         "line": {
          "color": "green",
          "dash": "dash",
          "width": 2
         },
         "mode": "lines",
         "showlegend": false,
         "type": "scatter3d",
         "x": [
          0.38450490335729937,
          0.4735457086713467
         ],
         "y": [
          0.27812100128801076,
          0.7113747225611147
         ],
         "z": [
          0.6708555883673074,
          0.6172751019436667
         ]
        },
        {
         "marker": {
          "color": "red",
          "size": 4
         },
         "mode": "markers+text",
         "name": "Ang Huling El Bimbo by Eraserheads",
         "text": "Ang Huling El Bimbo by Eraserheads",
         "type": "scatter3d",
         "x": [
          0.3824817567134712
         ],
         "y": [
          0.5377417116529758
         ],
         "z": [
          0.5611813135074737
         ]
        },
        {
         "line": {
          "color": "green",
          "dash": "dash",
          "width": 2
         },
         "mode": "lines",
         "showlegend": false,
         "type": "scatter3d",
         "x": [
          0.38450490335729937,
          0.3824817567134712
         ],
         "y": [
          0.27812100128801076,
          0.5377417116529758
         ],
         "z": [
          0.6708555883673074,
          0.5611813135074737
         ]
        },
        {
         "marker": {
          "color": "red",
          "size": 4
         },
         "mode": "markers+text",
         "name": "Tunnel of Love (Intro: The Carousel Waltz) by Dire Straits",
         "text": "Tunnel of Love (Intro: The Carousel Waltz) by Dire Straits",
         "type": "scatter3d",
         "x": [
          0.47883512110958404
         ],
         "y": [
          0.4858254467612889
         ],
         "z": [
          0.6585390004846923
         ]
        },
        {
         "line": {
          "color": "green",
          "dash": "dash",
          "width": 2
         },
         "mode": "lines",
         "showlegend": false,
         "type": "scatter3d",
         "x": [
          0.38450490335729937,
          0.47883512110958404
         ],
         "y": [
          0.27812100128801076,
          0.4858254467612889
         ],
         "z": [
          0.6708555883673074,
          0.6585390004846923
         ]
        },
        {
         "marker": {
          "color": "red",
          "size": 4
         },
         "mode": "markers+text",
         "name": "The Needle And The Spoon by Lynyrd Skynyrd",
         "text": "The Needle And The Spoon by Lynyrd Skynyrd",
         "type": "scatter3d",
         "x": [
          0.5014069510257182
         ],
         "y": [
          0.42846537405616547
         ],
         "z": [
          0.6785915437488504
         ]
        },
        {
         "line": {
          "color": "green",
          "dash": "dash",
          "width": 2
         },
         "mode": "lines",
         "showlegend": false,
         "type": "scatter3d",
         "x": [
          0.38450490335729937,
          0.5014069510257182
         ],
         "y": [
          0.27812100128801076,
          0.42846537405616547
         ],
         "z": [
          0.6708555883673074,
          0.6785915437488504
         ]
        },
        {
         "marker": {
          "color": "red",
          "size": 4
         },
         "mode": "markers+text",
         "name": "Stars by Callalily",
         "text": "Stars by Callalily",
         "type": "scatter3d",
         "x": [
          0.15862770106967894
         ],
         "y": [
          0.28648861994998387
         ],
         "z": [
          0.724297404234871
         ]
        },
        {
         "line": {
          "color": "green",
          "dash": "dash",
          "width": 2
         },
         "mode": "lines",
         "showlegend": false,
         "type": "scatter3d",
         "x": [
          0.38450490335729937,
          0.15862770106967894
         ],
         "y": [
          0.27812100128801076,
          0.28648861994998387
         ],
         "z": [
          0.6708555883673074,
          0.724297404234871
         ]
        },
        {
         "marker": {
          "color": "blue",
          "size": 6
         },
         "mode": "markers+text",
         "name": "User 4",
         "text": "User 4<br>rock",
         "type": "scatter3d",
         "x": [
          0.2279103741811147
         ],
         "y": [
          0.8320517542637491
         ],
         "z": [
          0.7384342927165736
         ]
        },
        {
         "marker": {
          "color": "red",
          "size": 4
         },
         "mode": "markers+text",
         "name": "Away by The Bolshoi",
         "text": "Away by The Bolshoi",
         "type": "scatter3d",
         "x": [
          0.44652358504454615
         ],
         "y": [
          0.6039344383940116
         ],
         "z": [
          0.5731081844786868
         ]
        },
        {
         "line": {
          "color": "green",
          "dash": "dash",
          "width": 2
         },
         "mode": "lines",
         "showlegend": false,
         "type": "scatter3d",
         "x": [
          0.2279103741811147,
          0.44652358504454615
         ],
         "y": [
          0.8320517542637491,
          0.6039344383940116
         ],
         "z": [
          0.7384342927165736,
          0.5731081844786868
         ]
        },
        {
         "marker": {
          "color": "red",
          "size": 4
         },
         "mode": "markers+text",
         "name": "Good Times Roll by The Cars",
         "text": "Good Times Roll by The Cars",
         "type": "scatter3d",
         "x": [
          0.18775317357414556
         ],
         "y": [
          0.7467175755397365
         ],
         "z": [
          0.4115578990867934
         ]
        },
        {
         "line": {
          "color": "green",
          "dash": "dash",
          "width": 2
         },
         "mode": "lines",
         "showlegend": false,
         "type": "scatter3d",
         "x": [
          0.2279103741811147,
          0.18775317357414556
         ],
         "y": [
          0.8320517542637491,
          0.7467175755397365
         ],
         "z": [
          0.7384342927165736,
          0.4115578990867934
         ]
        },
        {
         "marker": {
          "color": "red",
          "size": 4
         },
         "mode": "markers+text",
         "name": "867-5309 / Jenny by Tommy Tutone",
         "text": "867-5309 / Jenny by Tommy Tutone",
         "type": "scatter3d",
         "x": [
          0.5812797916536108
         ],
         "y": [
          0.47148872681661136
         ],
         "z": [
          0.28920063920452765
         ]
        },
        {
         "line": {
          "color": "green",
          "dash": "dash",
          "width": 2
         },
         "mode": "lines",
         "showlegend": false,
         "type": "scatter3d",
         "x": [
          0.2279103741811147,
          0.5812797916536108
         ],
         "y": [
          0.8320517542637491,
          0.47148872681661136
         ],
         "z": [
          0.7384342927165736,
          0.28920063920452765
         ]
        },
        {
         "marker": {
          "color": "red",
          "size": 4
         },
         "mode": "markers+text",
         "name": "Pinball Wizard by The Who",
         "text": "Pinball Wizard by The Who",
         "type": "scatter3d",
         "x": [
          0.29667424753767346
         ],
         "y": [
          0.9723280143367473
         ],
         "z": [
          0.5555564170586687
         ]
        },
        {
         "line": {
          "color": "green",
          "dash": "dash",
          "width": 2
         },
         "mode": "lines",
         "showlegend": false,
         "type": "scatter3d",
         "x": [
          0.2279103741811147,
          0.29667424753767346
         ],
         "y": [
          0.8320517542637491,
          0.9723280143367473
         ],
         "z": [
          0.7384342927165736,
          0.5555564170586687
         ]
        },
        {
         "marker": {
          "color": "red",
          "size": 4
         },
         "mode": "markers+text",
         "name": "Pinball Wizard by The Who",
         "text": "Pinball Wizard by The Who",
         "type": "scatter3d",
         "x": [
          0.4761496888734865
         ],
         "y": [
          0.030690075591248922
         ],
         "z": [
          0.0793889272598538
         ]
        },
        {
         "line": {
          "color": "green",
          "dash": "dash",
          "width": 2
         },
         "mode": "lines",
         "showlegend": false,
         "type": "scatter3d",
         "x": [
          0.2279103741811147,
          0.4761496888734865
         ],
         "y": [
          0.8320517542637491,
          0.030690075591248922
         ],
         "z": [
          0.7384342927165736,
          0.0793889272598538
         ]
        }
       ],
       "layout": {
        "height": 700,
        "margin": {
         "b": 0,
         "l": 0,
         "r": 0,
         "t": 30
        },
        "template": {
         "data": {
          "bar": [
           {
            "error_x": {
             "color": "#2a3f5f"
            },
            "error_y": {
             "color": "#2a3f5f"
            },
            "marker": {
             "line": {
              "color": "#E5ECF6",
              "width": 0.5
             },
             "pattern": {
              "fillmode": "overlay",
              "size": 10,
              "solidity": 0.2
             }
            },
            "type": "bar"
           }
          ],
          "barpolar": [
           {
            "marker": {
             "line": {
              "color": "#E5ECF6",
              "width": 0.5
             },
             "pattern": {
              "fillmode": "overlay",
              "size": 10,
              "solidity": 0.2
             }
            },
            "type": "barpolar"
           }
          ],
          "carpet": [
           {
            "aaxis": {
             "endlinecolor": "#2a3f5f",
             "gridcolor": "white",
             "linecolor": "white",
             "minorgridcolor": "white",
             "startlinecolor": "#2a3f5f"
            },
            "baxis": {
             "endlinecolor": "#2a3f5f",
             "gridcolor": "white",
             "linecolor": "white",
             "minorgridcolor": "white",
             "startlinecolor": "#2a3f5f"
            },
            "type": "carpet"
           }
          ],
          "choropleth": [
           {
            "colorbar": {
             "outlinewidth": 0,
             "ticks": ""
            },
            "type": "choropleth"
           }
          ],
          "contour": [
           {
            "colorbar": {
             "outlinewidth": 0,
             "ticks": ""
            },
            "colorscale": [
             [
              0,
              "#0d0887"
             ],
             [
              0.1111111111111111,
              "#46039f"
             ],
             [
              0.2222222222222222,
              "#7201a8"
             ],
             [
              0.3333333333333333,
              "#9c179e"
             ],
             [
              0.4444444444444444,
              "#bd3786"
             ],
             [
              0.5555555555555556,
              "#d8576b"
             ],
             [
              0.6666666666666666,
              "#ed7953"
             ],
             [
              0.7777777777777778,
              "#fb9f3a"
             ],
             [
              0.8888888888888888,
              "#fdca26"
             ],
             [
              1,
              "#f0f921"
             ]
            ],
            "type": "contour"
           }
          ],
          "contourcarpet": [
           {
            "colorbar": {
             "outlinewidth": 0,
             "ticks": ""
            },
            "type": "contourcarpet"
           }
          ],
          "heatmap": [
           {
            "colorbar": {
             "outlinewidth": 0,
             "ticks": ""
            },
            "colorscale": [
             [
              0,
              "#0d0887"
             ],
             [
              0.1111111111111111,
              "#46039f"
             ],
             [
              0.2222222222222222,
              "#7201a8"
             ],
             [
              0.3333333333333333,
              "#9c179e"
             ],
             [
              0.4444444444444444,
              "#bd3786"
             ],
             [
              0.5555555555555556,
              "#d8576b"
             ],
             [
              0.6666666666666666,
              "#ed7953"
             ],
             [
              0.7777777777777778,
              "#fb9f3a"
             ],
             [
              0.8888888888888888,
              "#fdca26"
             ],
             [
              1,
              "#f0f921"
             ]
            ],
            "type": "heatmap"
           }
          ],
          "heatmapgl": [
           {
            "colorbar": {
             "outlinewidth": 0,
             "ticks": ""
            },
            "colorscale": [
             [
              0,
              "#0d0887"
             ],
             [
              0.1111111111111111,
              "#46039f"
             ],
             [
              0.2222222222222222,
              "#7201a8"
             ],
             [
              0.3333333333333333,
              "#9c179e"
             ],
             [
              0.4444444444444444,
              "#bd3786"
             ],
             [
              0.5555555555555556,
              "#d8576b"
             ],
             [
              0.6666666666666666,
              "#ed7953"
             ],
             [
              0.7777777777777778,
              "#fb9f3a"
             ],
             [
              0.8888888888888888,
              "#fdca26"
             ],
             [
              1,
              "#f0f921"
             ]
            ],
            "type": "heatmapgl"
           }
          ],
          "histogram": [
           {
            "marker": {
             "pattern": {
              "fillmode": "overlay",
              "size": 10,
              "solidity": 0.2
             }
            },
            "type": "histogram"
           }
          ],
          "histogram2d": [
           {
            "colorbar": {
             "outlinewidth": 0,
             "ticks": ""
            },
            "colorscale": [
             [
              0,
              "#0d0887"
             ],
             [
              0.1111111111111111,
              "#46039f"
             ],
             [
              0.2222222222222222,
              "#7201a8"
             ],
             [
              0.3333333333333333,
              "#9c179e"
             ],
             [
              0.4444444444444444,
              "#bd3786"
             ],
             [
              0.5555555555555556,
              "#d8576b"
             ],
             [
              0.6666666666666666,
              "#ed7953"
             ],
             [
              0.7777777777777778,
              "#fb9f3a"
             ],
             [
              0.8888888888888888,
              "#fdca26"
             ],
             [
              1,
              "#f0f921"
             ]
            ],
            "type": "histogram2d"
           }
          ],
          "histogram2dcontour": [
           {
            "colorbar": {
             "outlinewidth": 0,
             "ticks": ""
            },
            "colorscale": [
             [
              0,
              "#0d0887"
             ],
             [
              0.1111111111111111,
              "#46039f"
             ],
             [
              0.2222222222222222,
              "#7201a8"
             ],
             [
              0.3333333333333333,
              "#9c179e"
             ],
             [
              0.4444444444444444,
              "#bd3786"
             ],
             [
              0.5555555555555556,
              "#d8576b"
             ],
             [
              0.6666666666666666,
              "#ed7953"
             ],
             [
              0.7777777777777778,
              "#fb9f3a"
             ],
             [
              0.8888888888888888,
              "#fdca26"
             ],
             [
              1,
              "#f0f921"
             ]
            ],
            "type": "histogram2dcontour"
           }
          ],
          "mesh3d": [
           {
            "colorbar": {
             "outlinewidth": 0,
             "ticks": ""
            },
            "type": "mesh3d"
           }
          ],
          "parcoords": [
           {
            "line": {
             "colorbar": {
              "outlinewidth": 0,
              "ticks": ""
             }
            },
            "type": "parcoords"
           }
          ],
          "pie": [
           {
            "automargin": true,
            "type": "pie"
           }
          ],
          "scatter": [
           {
            "fillpattern": {
             "fillmode": "overlay",
             "size": 10,
             "solidity": 0.2
            },
            "type": "scatter"
           }
          ],
          "scatter3d": [
           {
            "line": {
             "colorbar": {
              "outlinewidth": 0,
              "ticks": ""
             }
            },
            "marker": {
             "colorbar": {
              "outlinewidth": 0,
              "ticks": ""
             }
            },
            "type": "scatter3d"
           }
          ],
          "scattercarpet": [
           {
            "marker": {
             "colorbar": {
              "outlinewidth": 0,
              "ticks": ""
             }
            },
            "type": "scattercarpet"
           }
          ],
          "scattergeo": [
           {
            "marker": {
             "colorbar": {
              "outlinewidth": 0,
              "ticks": ""
             }
            },
            "type": "scattergeo"
           }
          ],
          "scattergl": [
           {
            "marker": {
             "colorbar": {
              "outlinewidth": 0,
              "ticks": ""
             }
            },
            "type": "scattergl"
           }
          ],
          "scattermapbox": [
           {
            "marker": {
             "colorbar": {
              "outlinewidth": 0,
              "ticks": ""
             }
            },
            "type": "scattermapbox"
           }
          ],
          "scatterpolar": [
           {
            "marker": {
             "colorbar": {
              "outlinewidth": 0,
              "ticks": ""
             }
            },
            "type": "scatterpolar"
           }
          ],
          "scatterpolargl": [
           {
            "marker": {
             "colorbar": {
              "outlinewidth": 0,
              "ticks": ""
             }
            },
            "type": "scatterpolargl"
           }
          ],
          "scatterternary": [
           {
            "marker": {
             "colorbar": {
              "outlinewidth": 0,
              "ticks": ""
             }
            },
            "type": "scatterternary"
           }
          ],
          "surface": [
           {
            "colorbar": {
             "outlinewidth": 0,
             "ticks": ""
            },
            "colorscale": [
             [
              0,
              "#0d0887"
             ],
             [
              0.1111111111111111,
              "#46039f"
             ],
             [
              0.2222222222222222,
              "#7201a8"
             ],
             [
              0.3333333333333333,
              "#9c179e"
             ],
             [
              0.4444444444444444,
              "#bd3786"
             ],
             [
              0.5555555555555556,
              "#d8576b"
             ],
             [
              0.6666666666666666,
              "#ed7953"
             ],
             [
              0.7777777777777778,
              "#fb9f3a"
             ],
             [
              0.8888888888888888,
              "#fdca26"
             ],
             [
              1,
              "#f0f921"
             ]
            ],
            "type": "surface"
           }
          ],
          "table": [
           {
            "cells": {
             "fill": {
              "color": "#EBF0F8"
             },
             "line": {
              "color": "white"
             }
            },
            "header": {
             "fill": {
              "color": "#C8D4E3"
             },
             "line": {
              "color": "white"
             }
            },
            "type": "table"
           }
          ]
         },
         "layout": {
          "annotationdefaults": {
           "arrowcolor": "#2a3f5f",
           "arrowhead": 0,
           "arrowwidth": 1
          },
          "autotypenumbers": "strict",
          "coloraxis": {
           "colorbar": {
            "outlinewidth": 0,
            "ticks": ""
           }
          },
          "colorscale": {
           "diverging": [
            [
             0,
             "#8e0152"
            ],
            [
             0.1,
             "#c51b7d"
            ],
            [
             0.2,
             "#de77ae"
            ],
            [
             0.3,
             "#f1b6da"
            ],
            [
             0.4,
             "#fde0ef"
            ],
            [
             0.5,
             "#f7f7f7"
            ],
            [
             0.6,
             "#e6f5d0"
            ],
            [
             0.7,
             "#b8e186"
            ],
            [
             0.8,
             "#7fbc41"
            ],
            [
             0.9,
             "#4d9221"
            ],
            [
             1,
             "#276419"
            ]
           ],
           "sequential": [
            [
             0,
             "#0d0887"
            ],
            [
             0.1111111111111111,
             "#46039f"
            ],
            [
             0.2222222222222222,
             "#7201a8"
            ],
            [
             0.3333333333333333,
             "#9c179e"
            ],
            [
             0.4444444444444444,
             "#bd3786"
            ],
            [
             0.5555555555555556,
             "#d8576b"
            ],
            [
             0.6666666666666666,
             "#ed7953"
            ],
            [
             0.7777777777777778,
             "#fb9f3a"
            ],
            [
             0.8888888888888888,
             "#fdca26"
            ],
            [
             1,
             "#f0f921"
            ]
           ],
           "sequentialminus": [
            [
             0,
             "#0d0887"
            ],
            [
             0.1111111111111111,
             "#46039f"
            ],
            [
             0.2222222222222222,
             "#7201a8"
            ],
            [
             0.3333333333333333,
             "#9c179e"
            ],
            [
             0.4444444444444444,
             "#bd3786"
            ],
            [
             0.5555555555555556,
             "#d8576b"
            ],
            [
             0.6666666666666666,
             "#ed7953"
            ],
            [
             0.7777777777777778,
             "#fb9f3a"
            ],
            [
             0.8888888888888888,
             "#fdca26"
            ],
            [
             1,
             "#f0f921"
            ]
           ]
          },
          "colorway": [
           "#636efa",
           "#EF553B",
           "#00cc96",
           "#ab63fa",
           "#FFA15A",
           "#19d3f3",
           "#FF6692",
           "#B6E880",
           "#FF97FF",
           "#FECB52"
          ],
          "font": {
           "color": "#2a3f5f"
          },
          "geo": {
           "bgcolor": "white",
           "lakecolor": "white",
           "landcolor": "#E5ECF6",
           "showlakes": true,
           "showland": true,
           "subunitcolor": "white"
          },
          "hoverlabel": {
           "align": "left"
          },
          "hovermode": "closest",
          "mapbox": {
           "style": "light"
          },
          "paper_bgcolor": "white",
          "plot_bgcolor": "#E5ECF6",
          "polar": {
           "angularaxis": {
            "gridcolor": "white",
            "linecolor": "white",
            "ticks": ""
           },
           "bgcolor": "#E5ECF6",
           "radialaxis": {
            "gridcolor": "white",
            "linecolor": "white",
            "ticks": ""
           }
          },
          "scene": {
           "xaxis": {
            "backgroundcolor": "#E5ECF6",
            "gridcolor": "white",
            "gridwidth": 2,
            "linecolor": "white",
            "showbackground": true,
            "ticks": "",
            "zerolinecolor": "white"
           },
           "yaxis": {
            "backgroundcolor": "#E5ECF6",
            "gridcolor": "white",
            "gridwidth": 2,
            "linecolor": "white",
            "showbackground": true,
            "ticks": "",
            "zerolinecolor": "white"
           },
           "zaxis": {
            "backgroundcolor": "#E5ECF6",
            "gridcolor": "white",
            "gridwidth": 2,
            "linecolor": "white",
            "showbackground": true,
            "ticks": "",
            "zerolinecolor": "white"
           }
          },
          "shapedefaults": {
           "line": {
            "color": "#2a3f5f"
           }
          },
          "ternary": {
           "aaxis": {
            "gridcolor": "white",
            "linecolor": "white",
            "ticks": ""
           },
           "baxis": {
            "gridcolor": "white",
            "linecolor": "white",
            "ticks": ""
           },
           "bgcolor": "#E5ECF6",
           "caxis": {
            "gridcolor": "white",
            "linecolor": "white",
            "ticks": ""
           }
          },
          "title": {
           "x": 0.05
          },
          "xaxis": {
           "automargin": true,
           "gridcolor": "white",
           "linecolor": "white",
           "ticks": "",
           "title": {
            "standoff": 15
           },
           "zerolinecolor": "white",
           "zerolinewidth": 2
          },
          "yaxis": {
           "automargin": true,
           "gridcolor": "white",
           "linecolor": "white",
           "ticks": "",
           "title": {
            "standoff": 15
           },
           "zerolinecolor": "white",
           "zerolinewidth": 2
          }
         }
        },
        "title": {
         "text": "3D Visualization of User and Song Recommendations"
        },
        "width": 700
       }
      }
     },
     "metadata": {},
     "output_type": "display_data"
    }
   ],
   "source": [
    "import plotly.graph_objects as go\n",
    "import numpy as np\n",
    "import pandas as pd\n",
    "\n",
    "# Assuming the following variables are defined: spotify_data, user_profiles, recommend_songs\n",
    "# For simplicity, we'll use only a subset of users to demonstrate\n",
    "\n",
    "# Generate recommendations for a subset of users\n",
    "user_indices = [0, 1, 2, 3, 4]  # Example user indices\n",
    "recommendations = {index: recommend_songs(index, top_n=5) for index in user_indices}\n",
    "\n",
    "# Set up figure\n",
    "fig = go.Figure()\n",
    "\n",
    "# Iterate through each user and their recommendations to plot\n",
    "for user_index, recommended_songs in recommendations.items():\n",
    "    user_genre = user_profiles.iloc[user_index]['genre']\n",
    "    user_point = np.random.rand(3)  # Random 3D coordinates for the user\n",
    "\n",
    "    # Plot user point\n",
    "    fig.add_trace(go.Scatter3d(\n",
    "        x=[user_point[0]], y=[user_point[1]], z=[user_point[2]],\n",
    "        mode='markers+text',\n",
    "        marker=dict(size=6, color='blue'),\n",
    "        text=f\"User {user_index}<br>{user_genre}\",\n",
    "        name=f\"User {user_index}\"\n",
    "    ))\n",
    "\n",
    "    # Plot each recommended song and connect it to the user point\n",
    "    for idx, row in recommended_songs.iterrows():\n",
    "        song_point = np.random.rand(3)  # Random 3D coordinates for the song\n",
    "        song_name = f\"{row['track']} by {row['artist']}\"\n",
    "\n",
    "        # Plot song point\n",
    "        fig.add_trace(go.Scatter3d(\n",
    "            x=[song_point[0]], y=[song_point[1]], z=[song_point[2]],\n",
    "            mode='markers+text',\n",
    "            marker=dict(size=4, color='red'),\n",
    "            text=song_name,\n",
    "            name=song_name\n",
    "        ))\n",
    "\n",
    "        # Connect user and song with a dashed line\n",
    "        fig.add_trace(go.Scatter3d(\n",
    "            x=[user_point[0], song_point[0]], y=[user_point[1], song_point[1]], z=[user_point[2], song_point[2]],\n",
    "            mode='lines',\n",
    "            line=dict(color='green', width=2, dash='dash'),\n",
    "            showlegend=False\n",
    "        ))\n",
    "\n",
    "# Set layout options\n",
    "fig.update_layout(\n",
    "    title=\"3D Visualization of User and Song Recommendations\",\n",
    "    width=700,\n",
    "    height=700,\n",
    "    margin=dict(l=0, r=0, b=0, t=30)\n",
    ")\n",
    "\n",
    "# Show the plot\n",
    "fig.show()\n"
   ]
  },
  {
   "cell_type": "code",
   "execution_count": 59,
   "metadata": {},
   "outputs": [
    {
     "name": "stdout",
     "output_type": "stream",
     "text": [
      "Top 5 recommendations for User Index 0:\n",
      "- The Killing Moon by Echo & the Bunnymen (Genre: rock, Distance: 0.993105979011742)\n",
      "- Whatever by Godsmack (Genre: rock, Distance: 0.9999258651911136)\n",
      "- Gasoline by Whiskey Myers (Genre: rock, Distance: 1.0555602742836225)\n",
      "- Promise Me by Brian Mackey (Genre: rock, Distance: 1.0593661619343964)\n",
      "- Promise Me by Brian Mackey (Genre: rock, Distance: 1.0593661619343964)\n",
      "Top 5 recommendations for User Index 1:\n",
      "- Warm (feat. HAIM) by Charli XCX (Genre: pop, Distance: 1.0830630207729113)\n",
      "- Access by Jungle Animals (Genre: pop, Distance: 1.1020618413750638)\n",
      "- Faith (with Dolly Parton) [feat. Mr. Probz] - Acoustic by Galantis (Genre: pop, Distance: 1.1060776009144668)\n",
      "- Bachelorette by Ashe (Genre: pop, Distance: 1.238511322513527)\n",
      "- Wrecking Ball by Miley Cyrus (Genre: pop, Distance: 1.2587566171185096)\n",
      "Top 5 recommendations for User Index 2:\n",
      "- Still Got Me (feat. Jocelyn Bowman) by GAWVI (Genre: edm, Distance: 1.3814107431009166)\n",
      "- Stay by Rich James (Genre: edm, Distance: 1.4160565870217103)\n",
      "- These Are The Times (feat. JRM) by Martin Garrix (Genre: edm, Distance: 1.43514982659089)\n",
      "- These Are The Times (feat. JRM) by Martin Garrix (Genre: edm, Distance: 1.43514982659089)\n",
      "- Paradise by Wallaby (Genre: edm, Distance: 1.440190789232139)\n",
      "Top 5 recommendations for User Index 3:\n",
      "- On vit d'amour by Jean-Louis Aubert (Genre: rock, Distance: 1.4207323834066385)\n",
      "- Ang Huling El Bimbo by Eraserheads (Genre: rock, Distance: 1.445406345609749)\n",
      "- Tunnel of Love (Intro: The Carousel Waltz) by Dire Straits (Genre: rock, Distance: 1.4923741001638866)\n",
      "- The Needle And The Spoon by Lynyrd Skynyrd (Genre: rock, Distance: 1.4965965715648297)\n",
      "- Stars by Callalily (Genre: rock, Distance: 1.529749968330233)\n",
      "Top 5 recommendations for User Index 4:\n",
      "- Away by The Bolshoi (Genre: rock, Distance: 1.1057729103335951)\n",
      "- Good Times Roll by The Cars (Genre: rock, Distance: 1.2029408852560972)\n",
      "- 867-5309 / Jenny by Tommy Tutone (Genre: rock, Distance: 1.2613402459432832)\n",
      "- Pinball Wizard by The Who (Genre: rock, Distance: 1.2782489491598967)\n",
      "- Pinball Wizard by The Who (Genre: rock, Distance: 1.2782489491598967)\n"
     ]
    },
    {
     "data": {
      "application/vnd.plotly.v1+json": {
       "config": {
        "plotlyServerURL": "https://plot.ly"
       },
       "data": [
        {
         "marker": {
          "color": "blue",
          "size": 6
         },
         "mode": "markers+text",
         "name": "User 0",
         "text": "User 0<br>rock",
         "type": "scatter3d",
         "x": [
          0.4696276973329344
         ],
         "y": [
          0.0063458294166386375
         ],
         "z": [
          0.7340412676827349
         ]
        },
        {
         "marker": {
          "color": "red",
          "size": 4
         },
         "mode": "markers+text",
         "name": "The Killing Moon by Echo & the Bunnymen",
         "text": "The Killing Moon by Echo & the Bunnymen",
         "type": "scatter3d",
         "x": [
          0.14805935643358037
         ],
         "y": [
          0.2318460393292815
         ],
         "z": [
          0.5867930015209886
         ]
        },
        {
         "line": {
          "color": "green",
          "dash": "dash",
          "width": 2
         },
         "mode": "lines",
         "type": "scatter3d",
         "x": [
          0.4696276973329344,
          0.14805935643358037
         ],
         "y": [
          0.0063458294166386375,
          0.2318460393292815
         ],
         "z": [
          0.7340412676827349,
          0.5867930015209886
         ]
        },
        {
         "marker": {
          "color": "red",
          "size": 4
         },
         "mode": "markers+text",
         "name": "Whatever by Godsmack",
         "text": "Whatever by Godsmack",
         "type": "scatter3d",
         "x": [
          0.6960494594113955
         ],
         "y": [
          0.6585489041777101
         ],
         "z": [
          0.006172144068118279
         ]
        },
        {
         "line": {
          "color": "green",
          "dash": "dash",
          "width": 2
         },
         "mode": "lines",
         "type": "scatter3d",
         "x": [
          0.4696276973329344,
          0.6960494594113955
         ],
         "y": [
          0.0063458294166386375,
          0.6585489041777101
         ],
         "z": [
          0.7340412676827349,
          0.006172144068118279
         ]
        },
        {
         "marker": {
          "color": "red",
          "size": 4
         },
         "mode": "markers+text",
         "name": "Gasoline by Whiskey Myers",
         "text": "Gasoline by Whiskey Myers",
         "type": "scatter3d",
         "x": [
          0.060850453634319956
         ],
         "y": [
          0.8730794246312946
         ],
         "z": [
          0.4751293596953373
         ]
        },
        {
         "line": {
          "color": "green",
          "dash": "dash",
          "width": 2
         },
         "mode": "lines",
         "type": "scatter3d",
         "x": [
          0.4696276973329344,
          0.060850453634319956
         ],
         "y": [
          0.0063458294166386375,
          0.8730794246312946
         ],
         "z": [
          0.7340412676827349,
          0.4751293596953373
         ]
        },
        {
         "marker": {
          "color": "red",
          "size": 4
         },
         "mode": "markers+text",
         "name": "Promise Me by Brian Mackey",
         "text": "Promise Me by Brian Mackey",
         "type": "scatter3d",
         "x": [
          0.7921568360833899
         ],
         "y": [
          0.12208911799719635
         ],
         "z": [
          0.3081805164773389
         ]
        },
        {
         "line": {
          "color": "green",
          "dash": "dash",
          "width": 2
         },
         "mode": "lines",
         "type": "scatter3d",
         "x": [
          0.4696276973329344,
          0.7921568360833899
         ],
         "y": [
          0.0063458294166386375,
          0.12208911799719635
         ],
         "z": [
          0.7340412676827349,
          0.3081805164773389
         ]
        },
        {
         "marker": {
          "color": "red",
          "size": 4
         },
         "mode": "markers+text",
         "name": "Promise Me by Brian Mackey",
         "text": "Promise Me by Brian Mackey",
         "type": "scatter3d",
         "x": [
          0.8372464840232678
         ],
         "y": [
          0.5691548424787606
         ],
         "z": [
          0.9208499867273927
         ]
        },
        {
         "line": {
          "color": "green",
          "dash": "dash",
          "width": 2
         },
         "mode": "lines",
         "type": "scatter3d",
         "x": [
          0.4696276973329344,
          0.8372464840232678
         ],
         "y": [
          0.0063458294166386375,
          0.5691548424787606
         ],
         "z": [
          0.7340412676827349,
          0.9208499867273927
         ]
        },
        {
         "marker": {
          "color": "blue",
          "size": 6
         },
         "mode": "markers+text",
         "name": "User 1",
         "text": "User 1<br>pop",
         "type": "scatter3d",
         "x": [
          0.1867902760168687
         ],
         "y": [
          0.1304163787987508
         ],
         "z": [
          0.22891690863854608
         ]
        },
        {
         "marker": {
          "color": "red",
          "size": 4
         },
         "mode": "markers+text",
         "name": "Warm (feat. HAIM) by Charli XCX",
         "text": "Warm (feat. HAIM) by Charli XCX",
         "type": "scatter3d",
         "x": [
          0.348481371711972
         ],
         "y": [
          0.786550411565648
         ],
         "z": [
          0.009600605902921
         ]
        },
        {
         "line": {
          "color": "green",
          "dash": "dash",
          "width": 2
         },
         "mode": "lines",
         "type": "scatter3d",
         "x": [
          0.1867902760168687,
          0.348481371711972
         ],
         "y": [
          0.1304163787987508,
          0.786550411565648
         ],
         "z": [
          0.22891690863854608,
          0.009600605902921
         ]
        },
        {
         "marker": {
          "color": "red",
          "size": 4
         },
         "mode": "markers+text",
         "name": "Access by Jungle Animals",
         "text": "Access by Jungle Animals",
         "type": "scatter3d",
         "x": [
          0.25531179293828965
         ],
         "y": [
          0.6659996347432368
         ],
         "z": [
          0.7006487295051819
         ]
        },
        {
         "line": {
          "color": "green",
          "dash": "dash",
          "width": 2
         },
         "mode": "lines",
         "type": "scatter3d",
         "x": [
          0.1867902760168687,
          0.25531179293828965
         ],
         "y": [
          0.1304163787987508,
          0.6659996347432368
         ],
         "z": [
          0.22891690863854608,
          0.7006487295051819
         ]
        },
        {
         "marker": {
          "color": "red",
          "size": 4
         },
         "mode": "markers+text",
         "name": "Faith (with Dolly Parton) [feat. Mr. Probz] - Acoustic by Galantis",
         "text": "Faith (with Dolly Parton) [feat. Mr. Probz] - Acoustic by Galantis",
         "type": "scatter3d",
         "x": [
          0.6667667000790592
         ],
         "y": [
          0.6887366972261707
         ],
         "z": [
          0.25079159748173285
         ]
        },
        {
         "line": {
          "color": "green",
          "dash": "dash",
          "width": 2
         },
         "mode": "lines",
         "type": "scatter3d",
         "x": [
          0.1867902760168687,
          0.6667667000790592
         ],
         "y": [
          0.1304163787987508,
          0.6887366972261707
         ],
         "z": [
          0.22891690863854608,
          0.25079159748173285
         ]
        },
        {
         "marker": {
          "color": "red",
          "size": 4
         },
         "mode": "markers+text",
         "name": "Bachelorette by Ashe",
         "text": "Bachelorette by Ashe",
         "type": "scatter3d",
         "x": [
          0.9308615312374979
         ],
         "y": [
          0.44949884978618926
         ],
         "z": [
          0.729969557591524
         ]
        },
        {
         "line": {
          "color": "green",
          "dash": "dash",
          "width": 2
         },
         "mode": "lines",
         "type": "scatter3d",
         "x": [
          0.1867902760168687,
          0.9308615312374979
         ],
         "y": [
          0.1304163787987508,
          0.44949884978618926
         ],
         "z": [
          0.22891690863854608,
          0.729969557591524
         ]
        },
        {
         "marker": {
          "color": "red",
          "size": 4
         },
         "mode": "markers+text",
         "name": "Wrecking Ball by Miley Cyrus",
         "text": "Wrecking Ball by Miley Cyrus",
         "type": "scatter3d",
         "x": [
          0.2556268716702086
         ],
         "y": [
          0.8526792622131357
         ],
         "z": [
          0.6290229198279181
         ]
        },
        {
         "line": {
          "color": "green",
          "dash": "dash",
          "width": 2
         },
         "mode": "lines",
         "type": "scatter3d",
         "x": [
          0.1867902760168687,
          0.2556268716702086
         ],
         "y": [
          0.1304163787987508,
          0.8526792622131357
         ],
         "z": [
          0.22891690863854608,
          0.6290229198279181
         ]
        },
        {
         "marker": {
          "color": "blue",
          "size": 6
         },
         "mode": "markers+text",
         "name": "User 2",
         "text": "User 2<br>edm",
         "type": "scatter3d",
         "x": [
          0.834215560944613
         ],
         "y": [
          0.217472133183787
         ],
         "z": [
          0.5032553620934179
         ]
        },
        {
         "marker": {
          "color": "red",
          "size": 4
         },
         "mode": "markers+text",
         "name": "Still Got Me (feat. Jocelyn Bowman) by GAWVI",
         "text": "Still Got Me (feat. Jocelyn Bowman) by GAWVI",
         "type": "scatter3d",
         "x": [
          0.330385931709931
         ],
         "y": [
          0.7390356798132538
         ],
         "z": [
          0.4498967416778591
         ]
        },
        {
         "line": {
          "color": "green",
          "dash": "dash",
          "width": 2
         },
         "mode": "lines",
         "type": "scatter3d",
         "x": [
          0.834215560944613,
          0.330385931709931
         ],
         "y": [
          0.217472133183787,
          0.7390356798132538
         ],
         "z": [
          0.5032553620934179,
          0.4498967416778591
         ]
        },
        {
         "marker": {
          "color": "red",
          "size": 4
         },
         "mode": "markers+text",
         "name": "Stay by Rich James",
         "text": "Stay by Rich James",
         "type": "scatter3d",
         "x": [
          0.7978897495544068
         ],
         "y": [
          0.3285728233951729
         ],
         "z": [
          0.41997742735298593
         ]
        },
        {
         "line": {
          "color": "green",
          "dash": "dash",
          "width": 2
         },
         "mode": "lines",
         "type": "scatter3d",
         "x": [
          0.834215560944613,
          0.7978897495544068
         ],
         "y": [
          0.217472133183787,
          0.3285728233951729
         ],
         "z": [
          0.5032553620934179,
          0.41997742735298593
         ]
        },
        {
         "marker": {
          "color": "red",
          "size": 4
         },
         "mode": "markers+text",
         "name": "These Are The Times (feat. JRM) by Martin Garrix",
         "text": "These Are The Times (feat. JRM) by Martin Garrix",
         "type": "scatter3d",
         "x": [
          0.08094803091652114
         ],
         "y": [
          0.777693628859881
         ],
         "z": [
          0.4313303575693329
         ]
        },
        {
         "line": {
          "color": "green",
          "dash": "dash",
          "width": 2
         },
         "mode": "lines",
         "type": "scatter3d",
         "x": [
          0.834215560944613,
          0.08094803091652114
         ],
         "y": [
          0.217472133183787,
          0.777693628859881
         ],
         "z": [
          0.5032553620934179,
          0.4313303575693329
         ]
        },
        {
         "marker": {
          "color": "red",
          "size": 4
         },
         "mode": "markers+text",
         "name": "These Are The Times (feat. JRM) by Martin Garrix",
         "text": "These Are The Times (feat. JRM) by Martin Garrix",
         "type": "scatter3d",
         "x": [
          0.3660424722173745
         ],
         "y": [
          0.4292524969408542
         ],
         "z": [
          0.9620388319259011
         ]
        },
        {
         "line": {
          "color": "green",
          "dash": "dash",
          "width": 2
         },
         "mode": "lines",
         "type": "scatter3d",
         "x": [
          0.834215560944613,
          0.3660424722173745
         ],
         "y": [
          0.217472133183787,
          0.4292524969408542
         ],
         "z": [
          0.5032553620934179,
          0.9620388319259011
         ]
        },
        {
         "marker": {
          "color": "red",
          "size": 4
         },
         "mode": "markers+text",
         "name": "Paradise by Wallaby",
         "text": "Paradise by Wallaby",
         "type": "scatter3d",
         "x": [
          0.5128794808755546
         ],
         "y": [
          0.8025045004032874
         ],
         "z": [
          0.9044820806248102
         ]
        },
        {
         "line": {
          "color": "green",
          "dash": "dash",
          "width": 2
         },
         "mode": "lines",
         "type": "scatter3d",
         "x": [
          0.834215560944613,
          0.5128794808755546
         ],
         "y": [
          0.217472133183787,
          0.8025045004032874
         ],
         "z": [
          0.5032553620934179,
          0.9044820806248102
         ]
        },
        {
         "marker": {
          "color": "blue",
          "size": 6
         },
         "mode": "markers+text",
         "name": "User 3",
         "text": "User 3<br>rock",
         "type": "scatter3d",
         "x": [
          0.9334056778750074
         ],
         "y": [
          0.5747288069696038
         ],
         "z": [
          0.7134014523444471
         ]
        },
        {
         "marker": {
          "color": "red",
          "size": 4
         },
         "mode": "markers+text",
         "name": "On vit d'amour by Jean-Louis Aubert",
         "text": "On vit d'amour by Jean-Louis Aubert",
         "type": "scatter3d",
         "x": [
          0.27348431508774806
         ],
         "y": [
          0.26927460211083143
         ],
         "z": [
          0.6782820224720386
         ]
        },
        {
         "line": {
          "color": "green",
          "dash": "dash",
          "width": 2
         },
         "mode": "lines",
         "type": "scatter3d",
         "x": [
          0.9334056778750074,
          0.27348431508774806
         ],
         "y": [
          0.5747288069696038,
          0.26927460211083143
         ],
         "z": [
          0.7134014523444471,
          0.6782820224720386
         ]
        },
        {
         "marker": {
          "color": "red",
          "size": 4
         },
         "mode": "markers+text",
         "name": "Ang Huling El Bimbo by Eraserheads",
         "text": "Ang Huling El Bimbo by Eraserheads",
         "type": "scatter3d",
         "x": [
          0.28091965865177904
         ],
         "y": [
          0.6705518484831705
         ],
         "z": [
          0.7548089615114544
         ]
        },
        {
         "line": {
          "color": "green",
          "dash": "dash",
          "width": 2
         },
         "mode": "lines",
         "type": "scatter3d",
         "x": [
          0.9334056778750074,
          0.28091965865177904
         ],
         "y": [
          0.5747288069696038,
          0.6705518484831705
         ],
         "z": [
          0.7134014523444471,
          0.7548089615114544
         ]
        },
        {
         "marker": {
          "color": "red",
          "size": 4
         },
         "mode": "markers+text",
         "name": "Tunnel of Love (Intro: The Carousel Waltz) by Dire Straits",
         "text": "Tunnel of Love (Intro: The Carousel Waltz) by Dire Straits",
         "type": "scatter3d",
         "x": [
          0.04108292609620601
         ],
         "y": [
          0.6242067234776645
         ],
         "z": [
          0.4359976228841731
         ]
        },
        {
         "line": {
          "color": "green",
          "dash": "dash",
          "width": 2
         },
         "mode": "lines",
         "type": "scatter3d",
         "x": [
          0.9334056778750074,
          0.04108292609620601
         ],
         "y": [
          0.5747288069696038,
          0.6242067234776645
         ],
         "z": [
          0.7134014523444471,
          0.4359976228841731
         ]
        },
        {
         "marker": {
          "color": "red",
          "size": 4
         },
         "mode": "markers+text",
         "name": "The Needle And The Spoon by Lynyrd Skynyrd",
         "text": "The Needle And The Spoon by Lynyrd Skynyrd",
         "type": "scatter3d",
         "x": [
          0.08680965379172512
         ],
         "y": [
          0.9565165118775204
         ],
         "z": [
          0.13823661821335387
         ]
        },
        {
         "line": {
          "color": "green",
          "dash": "dash",
          "width": 2
         },
         "mode": "lines",
         "type": "scatter3d",
         "x": [
          0.9334056778750074,
          0.08680965379172512
         ],
         "y": [
          0.5747288069696038,
          0.9565165118775204
         ],
         "z": [
          0.7134014523444471,
          0.13823661821335387
         ]
        },
        {
         "marker": {
          "color": "red",
          "size": 4
         },
         "mode": "markers+text",
         "name": "Stars by Callalily",
         "text": "Stars by Callalily",
         "type": "scatter3d",
         "x": [
          0.5270878555056264
         ],
         "y": [
          0.7451083495938602
         ],
         "z": [
          0.815421929196168
         ]
        },
        {
         "line": {
          "color": "green",
          "dash": "dash",
          "width": 2
         },
         "mode": "lines",
         "type": "scatter3d",
         "x": [
          0.9334056778750074,
          0.5270878555056264
         ],
         "y": [
          0.5747288069696038,
          0.7451083495938602
         ],
         "z": [
          0.7134014523444471,
          0.815421929196168
         ]
        },
        {
         "marker": {
          "color": "blue",
          "size": 6
         },
         "mode": "markers+text",
         "name": "User 4",
         "text": "User 4<br>rock",
         "type": "scatter3d",
         "x": [
          0.1219094028937846
         ],
         "y": [
          0.6283253428386709
         ],
         "z": [
          0.7477061431542656
         ]
        },
        {
         "marker": {
          "color": "red",
          "size": 4
         },
         "mode": "markers+text",
         "name": "Away by The Bolshoi",
         "text": "Away by The Bolshoi",
         "type": "scatter3d",
         "x": [
          0.2677759134475033
         ],
         "y": [
          0.3112172536985247
         ],
         "z": [
          0.46156234307302746
         ]
        },
        {
         "line": {
          "color": "green",
          "dash": "dash",
          "width": 2
         },
         "mode": "lines",
         "type": "scatter3d",
         "x": [
          0.1219094028937846,
          0.2677759134475033
         ],
         "y": [
          0.6283253428386709,
          0.3112172536985247
         ],
         "z": [
          0.7477061431542656,
          0.46156234307302746
         ]
        },
        {
         "marker": {
          "color": "red",
          "size": 4
         },
         "mode": "markers+text",
         "name": "Good Times Roll by The Cars",
         "text": "Good Times Roll by The Cars",
         "type": "scatter3d",
         "x": [
          0.05736496029205618
         ],
         "y": [
          0.6693558186223881
         ],
         "z": [
          0.12201569228285813
         ]
        },
        {
         "line": {
          "color": "green",
          "dash": "dash",
          "width": 2
         },
         "mode": "lines",
         "type": "scatter3d",
         "x": [
          0.1219094028937846,
          0.05736496029205618
         ],
         "y": [
          0.6283253428386709,
          0.6693558186223881
         ],
         "z": [
          0.7477061431542656,
          0.12201569228285813
         ]
        },
        {
         "marker": {
          "color": "red",
          "size": 4
         },
         "mode": "markers+text",
         "name": "867-5309 / Jenny by Tommy Tutone",
         "text": "867-5309 / Jenny by Tommy Tutone",
         "type": "scatter3d",
         "x": [
          0.2416106851383194
         ],
         "y": [
          0.8859570870661102
         ],
         "z": [
          0.9439992078575906
         ]
        },
        {
         "line": {
          "color": "green",
          "dash": "dash",
          "width": 2
         },
         "mode": "lines",
         "type": "scatter3d",
         "x": [
          0.1219094028937846,
          0.2416106851383194
         ],
         "y": [
          0.6283253428386709,
          0.8859570870661102
         ],
         "z": [
          0.7477061431542656,
          0.9439992078575906
         ]
        },
        {
         "marker": {
          "color": "red",
          "size": 4
         },
         "mode": "markers+text",
         "name": "Pinball Wizard by The Who",
         "text": "Pinball Wizard by The Who",
         "type": "scatter3d",
         "x": [
          0.7609602818108043
         ],
         "y": [
          0.896802709821559
         ],
         "z": [
          0.05881824990520157
         ]
        },
        {
         "line": {
          "color": "green",
          "dash": "dash",
          "width": 2
         },
         "mode": "lines",
         "type": "scatter3d",
         "x": [
          0.1219094028937846,
          0.7609602818108043
         ],
         "y": [
          0.6283253428386709,
          0.896802709821559
         ],
         "z": [
          0.7477061431542656,
          0.05881824990520157
         ]
        },
        {
         "marker": {
          "color": "red",
          "size": 4
         },
         "mode": "markers+text",
         "name": "Pinball Wizard by The Who",
         "text": "Pinball Wizard by The Who",
         "type": "scatter3d",
         "x": [
          0.11497185527601805
         ],
         "y": [
          0.6575381744824195
         ],
         "z": [
          0.24713197466052816
         ]
        },
        {
         "line": {
          "color": "green",
          "dash": "dash",
          "width": 2
         },
         "mode": "lines",
         "type": "scatter3d",
         "x": [
          0.1219094028937846,
          0.11497185527601805
         ],
         "y": [
          0.6283253428386709,
          0.6575381744824195
         ],
         "z": [
          0.7477061431542656,
          0.24713197466052816
         ]
        }
       ],
       "layout": {
        "showlegend": false,
        "template": {
         "data": {
          "bar": [
           {
            "error_x": {
             "color": "#2a3f5f"
            },
            "error_y": {
             "color": "#2a3f5f"
            },
            "marker": {
             "line": {
              "color": "#E5ECF6",
              "width": 0.5
             },
             "pattern": {
              "fillmode": "overlay",
              "size": 10,
              "solidity": 0.2
             }
            },
            "type": "bar"
           }
          ],
          "barpolar": [
           {
            "marker": {
             "line": {
              "color": "#E5ECF6",
              "width": 0.5
             },
             "pattern": {
              "fillmode": "overlay",
              "size": 10,
              "solidity": 0.2
             }
            },
            "type": "barpolar"
           }
          ],
          "carpet": [
           {
            "aaxis": {
             "endlinecolor": "#2a3f5f",
             "gridcolor": "white",
             "linecolor": "white",
             "minorgridcolor": "white",
             "startlinecolor": "#2a3f5f"
            },
            "baxis": {
             "endlinecolor": "#2a3f5f",
             "gridcolor": "white",
             "linecolor": "white",
             "minorgridcolor": "white",
             "startlinecolor": "#2a3f5f"
            },
            "type": "carpet"
           }
          ],
          "choropleth": [
           {
            "colorbar": {
             "outlinewidth": 0,
             "ticks": ""
            },
            "type": "choropleth"
           }
          ],
          "contour": [
           {
            "colorbar": {
             "outlinewidth": 0,
             "ticks": ""
            },
            "colorscale": [
             [
              0,
              "#0d0887"
             ],
             [
              0.1111111111111111,
              "#46039f"
             ],
             [
              0.2222222222222222,
              "#7201a8"
             ],
             [
              0.3333333333333333,
              "#9c179e"
             ],
             [
              0.4444444444444444,
              "#bd3786"
             ],
             [
              0.5555555555555556,
              "#d8576b"
             ],
             [
              0.6666666666666666,
              "#ed7953"
             ],
             [
              0.7777777777777778,
              "#fb9f3a"
             ],
             [
              0.8888888888888888,
              "#fdca26"
             ],
             [
              1,
              "#f0f921"
             ]
            ],
            "type": "contour"
           }
          ],
          "contourcarpet": [
           {
            "colorbar": {
             "outlinewidth": 0,
             "ticks": ""
            },
            "type": "contourcarpet"
           }
          ],
          "heatmap": [
           {
            "colorbar": {
             "outlinewidth": 0,
             "ticks": ""
            },
            "colorscale": [
             [
              0,
              "#0d0887"
             ],
             [
              0.1111111111111111,
              "#46039f"
             ],
             [
              0.2222222222222222,
              "#7201a8"
             ],
             [
              0.3333333333333333,
              "#9c179e"
             ],
             [
              0.4444444444444444,
              "#bd3786"
             ],
             [
              0.5555555555555556,
              "#d8576b"
             ],
             [
              0.6666666666666666,
              "#ed7953"
             ],
             [
              0.7777777777777778,
              "#fb9f3a"
             ],
             [
              0.8888888888888888,
              "#fdca26"
             ],
             [
              1,
              "#f0f921"
             ]
            ],
            "type": "heatmap"
           }
          ],
          "heatmapgl": [
           {
            "colorbar": {
             "outlinewidth": 0,
             "ticks": ""
            },
            "colorscale": [
             [
              0,
              "#0d0887"
             ],
             [
              0.1111111111111111,
              "#46039f"
             ],
             [
              0.2222222222222222,
              "#7201a8"
             ],
             [
              0.3333333333333333,
              "#9c179e"
             ],
             [
              0.4444444444444444,
              "#bd3786"
             ],
             [
              0.5555555555555556,
              "#d8576b"
             ],
             [
              0.6666666666666666,
              "#ed7953"
             ],
             [
              0.7777777777777778,
              "#fb9f3a"
             ],
             [
              0.8888888888888888,
              "#fdca26"
             ],
             [
              1,
              "#f0f921"
             ]
            ],
            "type": "heatmapgl"
           }
          ],
          "histogram": [
           {
            "marker": {
             "pattern": {
              "fillmode": "overlay",
              "size": 10,
              "solidity": 0.2
             }
            },
            "type": "histogram"
           }
          ],
          "histogram2d": [
           {
            "colorbar": {
             "outlinewidth": 0,
             "ticks": ""
            },
            "colorscale": [
             [
              0,
              "#0d0887"
             ],
             [
              0.1111111111111111,
              "#46039f"
             ],
             [
              0.2222222222222222,
              "#7201a8"
             ],
             [
              0.3333333333333333,
              "#9c179e"
             ],
             [
              0.4444444444444444,
              "#bd3786"
             ],
             [
              0.5555555555555556,
              "#d8576b"
             ],
             [
              0.6666666666666666,
              "#ed7953"
             ],
             [
              0.7777777777777778,
              "#fb9f3a"
             ],
             [
              0.8888888888888888,
              "#fdca26"
             ],
             [
              1,
              "#f0f921"
             ]
            ],
            "type": "histogram2d"
           }
          ],
          "histogram2dcontour": [
           {
            "colorbar": {
             "outlinewidth": 0,
             "ticks": ""
            },
            "colorscale": [
             [
              0,
              "#0d0887"
             ],
             [
              0.1111111111111111,
              "#46039f"
             ],
             [
              0.2222222222222222,
              "#7201a8"
             ],
             [
              0.3333333333333333,
              "#9c179e"
             ],
             [
              0.4444444444444444,
              "#bd3786"
             ],
             [
              0.5555555555555556,
              "#d8576b"
             ],
             [
              0.6666666666666666,
              "#ed7953"
             ],
             [
              0.7777777777777778,
              "#fb9f3a"
             ],
             [
              0.8888888888888888,
              "#fdca26"
             ],
             [
              1,
              "#f0f921"
             ]
            ],
            "type": "histogram2dcontour"
           }
          ],
          "mesh3d": [
           {
            "colorbar": {
             "outlinewidth": 0,
             "ticks": ""
            },
            "type": "mesh3d"
           }
          ],
          "parcoords": [
           {
            "line": {
             "colorbar": {
              "outlinewidth": 0,
              "ticks": ""
             }
            },
            "type": "parcoords"
           }
          ],
          "pie": [
           {
            "automargin": true,
            "type": "pie"
           }
          ],
          "scatter": [
           {
            "fillpattern": {
             "fillmode": "overlay",
             "size": 10,
             "solidity": 0.2
            },
            "type": "scatter"
           }
          ],
          "scatter3d": [
           {
            "line": {
             "colorbar": {
              "outlinewidth": 0,
              "ticks": ""
             }
            },
            "marker": {
             "colorbar": {
              "outlinewidth": 0,
              "ticks": ""
             }
            },
            "type": "scatter3d"
           }
          ],
          "scattercarpet": [
           {
            "marker": {
             "colorbar": {
              "outlinewidth": 0,
              "ticks": ""
             }
            },
            "type": "scattercarpet"
           }
          ],
          "scattergeo": [
           {
            "marker": {
             "colorbar": {
              "outlinewidth": 0,
              "ticks": ""
             }
            },
            "type": "scattergeo"
           }
          ],
          "scattergl": [
           {
            "marker": {
             "colorbar": {
              "outlinewidth": 0,
              "ticks": ""
             }
            },
            "type": "scattergl"
           }
          ],
          "scattermapbox": [
           {
            "marker": {
             "colorbar": {
              "outlinewidth": 0,
              "ticks": ""
             }
            },
            "type": "scattermapbox"
           }
          ],
          "scatterpolar": [
           {
            "marker": {
             "colorbar": {
              "outlinewidth": 0,
              "ticks": ""
             }
            },
            "type": "scatterpolar"
           }
          ],
          "scatterpolargl": [
           {
            "marker": {
             "colorbar": {
              "outlinewidth": 0,
              "ticks": ""
             }
            },
            "type": "scatterpolargl"
           }
          ],
          "scatterternary": [
           {
            "marker": {
             "colorbar": {
              "outlinewidth": 0,
              "ticks": ""
             }
            },
            "type": "scatterternary"
           }
          ],
          "surface": [
           {
            "colorbar": {
             "outlinewidth": 0,
             "ticks": ""
            },
            "colorscale": [
             [
              0,
              "#0d0887"
             ],
             [
              0.1111111111111111,
              "#46039f"
             ],
             [
              0.2222222222222222,
              "#7201a8"
             ],
             [
              0.3333333333333333,
              "#9c179e"
             ],
             [
              0.4444444444444444,
              "#bd3786"
             ],
             [
              0.5555555555555556,
              "#d8576b"
             ],
             [
              0.6666666666666666,
              "#ed7953"
             ],
             [
              0.7777777777777778,
              "#fb9f3a"
             ],
             [
              0.8888888888888888,
              "#fdca26"
             ],
             [
              1,
              "#f0f921"
             ]
            ],
            "type": "surface"
           }
          ],
          "table": [
           {
            "cells": {
             "fill": {
              "color": "#EBF0F8"
             },
             "line": {
              "color": "white"
             }
            },
            "header": {
             "fill": {
              "color": "#C8D4E3"
             },
             "line": {
              "color": "white"
             }
            },
            "type": "table"
           }
          ]
         },
         "layout": {
          "annotationdefaults": {
           "arrowcolor": "#2a3f5f",
           "arrowhead": 0,
           "arrowwidth": 1
          },
          "autotypenumbers": "strict",
          "coloraxis": {
           "colorbar": {
            "outlinewidth": 0,
            "ticks": ""
           }
          },
          "colorscale": {
           "diverging": [
            [
             0,
             "#8e0152"
            ],
            [
             0.1,
             "#c51b7d"
            ],
            [
             0.2,
             "#de77ae"
            ],
            [
             0.3,
             "#f1b6da"
            ],
            [
             0.4,
             "#fde0ef"
            ],
            [
             0.5,
             "#f7f7f7"
            ],
            [
             0.6,
             "#e6f5d0"
            ],
            [
             0.7,
             "#b8e186"
            ],
            [
             0.8,
             "#7fbc41"
            ],
            [
             0.9,
             "#4d9221"
            ],
            [
             1,
             "#276419"
            ]
           ],
           "sequential": [
            [
             0,
             "#0d0887"
            ],
            [
             0.1111111111111111,
             "#46039f"
            ],
            [
             0.2222222222222222,
             "#7201a8"
            ],
            [
             0.3333333333333333,
             "#9c179e"
            ],
            [
             0.4444444444444444,
             "#bd3786"
            ],
            [
             0.5555555555555556,
             "#d8576b"
            ],
            [
             0.6666666666666666,
             "#ed7953"
            ],
            [
             0.7777777777777778,
             "#fb9f3a"
            ],
            [
             0.8888888888888888,
             "#fdca26"
            ],
            [
             1,
             "#f0f921"
            ]
           ],
           "sequentialminus": [
            [
             0,
             "#0d0887"
            ],
            [
             0.1111111111111111,
             "#46039f"
            ],
            [
             0.2222222222222222,
             "#7201a8"
            ],
            [
             0.3333333333333333,
             "#9c179e"
            ],
            [
             0.4444444444444444,
             "#bd3786"
            ],
            [
             0.5555555555555556,
             "#d8576b"
            ],
            [
             0.6666666666666666,
             "#ed7953"
            ],
            [
             0.7777777777777778,
             "#fb9f3a"
            ],
            [
             0.8888888888888888,
             "#fdca26"
            ],
            [
             1,
             "#f0f921"
            ]
           ]
          },
          "colorway": [
           "#636efa",
           "#EF553B",
           "#00cc96",
           "#ab63fa",
           "#FFA15A",
           "#19d3f3",
           "#FF6692",
           "#B6E880",
           "#FF97FF",
           "#FECB52"
          ],
          "font": {
           "color": "#2a3f5f"
          },
          "geo": {
           "bgcolor": "white",
           "lakecolor": "white",
           "landcolor": "#E5ECF6",
           "showlakes": true,
           "showland": true,
           "subunitcolor": "white"
          },
          "hoverlabel": {
           "align": "left"
          },
          "hovermode": "closest",
          "mapbox": {
           "style": "light"
          },
          "paper_bgcolor": "white",
          "plot_bgcolor": "#E5ECF6",
          "polar": {
           "angularaxis": {
            "gridcolor": "white",
            "linecolor": "white",
            "ticks": ""
           },
           "bgcolor": "#E5ECF6",
           "radialaxis": {
            "gridcolor": "white",
            "linecolor": "white",
            "ticks": ""
           }
          },
          "scene": {
           "xaxis": {
            "backgroundcolor": "#E5ECF6",
            "gridcolor": "white",
            "gridwidth": 2,
            "linecolor": "white",
            "showbackground": true,
            "ticks": "",
            "zerolinecolor": "white"
           },
           "yaxis": {
            "backgroundcolor": "#E5ECF6",
            "gridcolor": "white",
            "gridwidth": 2,
            "linecolor": "white",
            "showbackground": true,
            "ticks": "",
            "zerolinecolor": "white"
           },
           "zaxis": {
            "backgroundcolor": "#E5ECF6",
            "gridcolor": "white",
            "gridwidth": 2,
            "linecolor": "white",
            "showbackground": true,
            "ticks": "",
            "zerolinecolor": "white"
           }
          },
          "shapedefaults": {
           "line": {
            "color": "#2a3f5f"
           }
          },
          "ternary": {
           "aaxis": {
            "gridcolor": "white",
            "linecolor": "white",
            "ticks": ""
           },
           "baxis": {
            "gridcolor": "white",
            "linecolor": "white",
            "ticks": ""
           },
           "bgcolor": "#E5ECF6",
           "caxis": {
            "gridcolor": "white",
            "linecolor": "white",
            "ticks": ""
           }
          },
          "title": {
           "x": 0.05
          },
          "xaxis": {
           "automargin": true,
           "gridcolor": "white",
           "linecolor": "white",
           "ticks": "",
           "title": {
            "standoff": 15
           },
           "zerolinecolor": "white",
           "zerolinewidth": 2
          },
          "yaxis": {
           "automargin": true,
           "gridcolor": "white",
           "linecolor": "white",
           "ticks": "",
           "title": {
            "standoff": 15
           },
           "zerolinecolor": "white",
           "zerolinewidth": 2
          }
         }
        },
        "updatemenus": [
         {
          "active": 0,
          "buttons": [
           {
            "args": [
             {
              "visible": [
               true,
               true,
               true,
               true,
               true,
               true,
               true,
               true,
               true,
               true,
               true,
               false,
               false,
               false,
               false,
               false,
               false,
               false,
               false,
               false,
               false,
               false,
               false,
               false,
               false,
               false,
               false,
               false,
               false,
               false,
               false,
               false,
               false,
               false,
               false,
               false,
               false,
               false,
               false,
               false,
               false,
               false,
               false,
               false,
               false,
               false,
               false,
               false,
               false,
               false,
               false,
               false,
               false,
               false,
               false
              ]
             },
             {
              "title": "Highlighted: User 0"
             }
            ],
            "label": "Highlight User 0",
            "method": "update"
           },
           {
            "args": [
             {
              "visible": [
               false,
               false,
               false,
               false,
               false,
               false,
               false,
               false,
               false,
               false,
               false,
               true,
               true,
               true,
               true,
               true,
               true,
               true,
               true,
               true,
               true,
               true,
               false,
               false,
               false,
               false,
               false,
               false,
               false,
               false,
               false,
               false,
               false,
               false,
               false,
               false,
               false,
               false,
               false,
               false,
               false,
               false,
               false,
               false,
               false,
               false,
               false,
               false,
               false,
               false,
               false,
               false,
               false,
               false,
               false
              ]
             },
             {
              "title": "Highlighted: User 1"
             }
            ],
            "label": "Highlight User 1",
            "method": "update"
           },
           {
            "args": [
             {
              "visible": [
               false,
               false,
               false,
               false,
               false,
               false,
               false,
               false,
               false,
               false,
               false,
               false,
               false,
               false,
               false,
               false,
               false,
               false,
               false,
               false,
               false,
               false,
               true,
               true,
               true,
               true,
               true,
               true,
               true,
               true,
               true,
               true,
               true,
               false,
               false,
               false,
               false,
               false,
               false,
               false,
               false,
               false,
               false,
               false,
               false,
               false,
               false,
               false,
               false,
               false,
               false,
               false,
               false,
               false,
               false
              ]
             },
             {
              "title": "Highlighted: User 2"
             }
            ],
            "label": "Highlight User 2",
            "method": "update"
           },
           {
            "args": [
             {
              "visible": [
               false,
               false,
               false,
               false,
               false,
               false,
               false,
               false,
               false,
               false,
               false,
               false,
               false,
               false,
               false,
               false,
               false,
               false,
               false,
               false,
               false,
               false,
               false,
               false,
               false,
               false,
               false,
               false,
               false,
               false,
               false,
               false,
               false,
               true,
               true,
               true,
               true,
               true,
               true,
               true,
               true,
               true,
               true,
               true,
               false,
               false,
               false,
               false,
               false,
               false,
               false,
               false,
               false,
               false,
               false
              ]
             },
             {
              "title": "Highlighted: User 3"
             }
            ],
            "label": "Highlight User 3",
            "method": "update"
           },
           {
            "args": [
             {
              "visible": [
               false,
               false,
               false,
               false,
               false,
               false,
               false,
               false,
               false,
               false,
               false,
               false,
               false,
               false,
               false,
               false,
               false,
               false,
               false,
               false,
               false,
               false,
               false,
               false,
               false,
               false,
               false,
               false,
               false,
               false,
               false,
               false,
               false,
               false,
               false,
               false,
               false,
               false,
               false,
               false,
               false,
               false,
               false,
               false,
               true,
               true,
               true,
               true,
               true,
               true,
               true,
               true,
               true,
               true,
               true
              ]
             },
             {
              "title": "Highlighted: User 4"
             }
            ],
            "label": "Highlight User 4",
            "method": "update"
           }
          ],
          "direction": "down",
          "pad": {
           "r": 10,
           "t": 10
          },
          "showactive": true,
          "x": 0.1,
          "xanchor": "left",
          "y": 1.1,
          "yanchor": "top"
         }
        ]
       }
      }
     },
     "metadata": {},
     "output_type": "display_data"
    }
   ],
   "source": [
    "import plotly.graph_objects as go\n",
    "import numpy as np\n",
    "import pandas as pd\n",
    "\n",
    "# Assuming spotify_data, user_profiles are loaded, and recommend_songs function is defined\n",
    "\n",
    "# Sample users and recommendations for demonstration\n",
    "user_indices = range(5)  # Adjust based on your actual number of users\n",
    "recommendations = {index: recommend_songs(index, top_n=5) for index in user_indices}\n",
    "\n",
    "# Set up figure\n",
    "fig = go.Figure()\n",
    "\n",
    "# Add all user and song points to the graph\n",
    "traces = []\n",
    "for user_index, recommended_songs in recommendations.items():\n",
    "    user_genre = user_profiles.iloc[user_index]['genre']\n",
    "    user_point = np.random.rand(3)  # Random 3D coordinates for the user\n",
    "\n",
    "    # Add user point trace\n",
    "    user_trace = go.Scatter3d(\n",
    "        x=[user_point[0]], y=[user_point[1]], z=[user_point[2]],\n",
    "        mode='markers+text',\n",
    "        marker=dict(size=6, color='blue'),\n",
    "        text=f\"User {user_index}<br>{user_genre}\",\n",
    "        name=f\"User {user_index}\"\n",
    "    )\n",
    "    fig.add_trace(user_trace)\n",
    "\n",
    "    # Add song points and lines connecting them to the user\n",
    "    for _, row in recommended_songs.iterrows():\n",
    "        song_point = np.random.rand(3)  # Random 3D coordinates for the song\n",
    "        song_trace = go.Scatter3d(\n",
    "            x=[song_point[0]], y=[song_point[1]], z=[song_point[2]],\n",
    "            mode='markers+text',\n",
    "            marker=dict(size=4, color='red'),\n",
    "            text=f\"{row['track']} by {row['artist']}\",\n",
    "            name=f\"{row['track']} by {row['artist']}\"\n",
    "        )\n",
    "        line_trace = go.Scatter3d(\n",
    "            x=[user_point[0], song_point[0]], y=[user_point[1], song_point[1]], z=[user_point[2], song_point[2]],\n",
    "            mode='lines',\n",
    "            line=dict(color='green', width=2, dash='dash')\n",
    "        )\n",
    "        fig.add_trace(song_trace)\n",
    "        fig.add_trace(line_trace)\n",
    "\n",
    "# Create a dropdown menu that allows selecting which user to highlight\n",
    "buttons = []\n",
    "\n",
    "for i, user_index in enumerate(user_indices):\n",
    "    visibility = [False] * (len(fig.data))\n",
    "    # Set the visibility of the selected user's traces to True\n",
    "    visibility[i * 11:(i + 1) * 11] = [True] * 11  # Assuming 5 songs recommendations + 1 user trace + 5 line traces\n",
    "\n",
    "    button = dict(\n",
    "        label=f\"Highlight User {user_index}\",\n",
    "        method=\"update\",\n",
    "        args=[{\"visible\": visibility},\n",
    "              {\"title\": f\"Highlighted: User {user_index}\"}])\n",
    "    buttons.append(button)\n",
    "\n",
    "# Add dropdown to the layout\n",
    "fig.update_layout(\n",
    "    showlegend=False,\n",
    "    updatemenus=[\n",
    "        dict(\n",
    "            active=0,\n",
    "            buttons=buttons,\n",
    "            direction=\"down\",\n",
    "            pad={\"r\": 10, \"t\": 10},\n",
    "            showactive=True,\n",
    "            x=0.1,\n",
    "            xanchor=\"left\",\n",
    "            y=1.1,\n",
    "            yanchor=\"top\"\n",
    "        ),\n",
    "    ]\n",
    ")\n",
    "\n",
    "# Show the plot\n",
    "fig.show()\n"
   ]
  },
  {
   "cell_type": "code",
   "execution_count": 58,
   "metadata": {},
   "outputs": [
    {
     "name": "stderr",
     "output_type": "stream",
     "text": [
      "C:\\Users\\Student\\AppData\\Local\\Temp\\ipykernel_32000\\1417907483.py:33: UserWarning:\n",
      "\n",
      "set_ticklabels() should only be used with a fixed number of ticks, i.e. after set_ticks() or using a FixedLocator.\n",
      "\n",
      "C:\\Users\\Student\\AppData\\Local\\Temp\\ipykernel_32000\\1417907483.py:34: UserWarning:\n",
      "\n",
      "set_ticklabels() should only be used with a fixed number of ticks, i.e. after set_ticks() or using a FixedLocator.\n",
      "\n"
     ]
    },
    {
     "data": {
      "image/png": "[encoded data removed]",
      "text/plain": [
       "<Figure size 500x500 with 2 Axes>"
      ]
     },
     "metadata": {},
     "output_type": "display_data"
    }
   ],
   "source": [
    "import matplotlib.pyplot as plt\n",
    "import numpy as np\n",
    "from sklearn.metrics import confusion_matrix, accuracy_score, precision_score, recall_score, f1_score\n",
    "\n",
    "# Dummy actual and predicted labels for demonstration\n",
    "actual_labels = np.random.randint(0, 2, size=100)\n",
    "predicted_labels = np.random.randint(0, 2, size=100)\n",
    "\n",
    "# Calculate the confusion matrix and other metrics\n",
    "cm = confusion_matrix(actual_labels, predicted_labels)\n",
    "accuracy = accuracy_score(actual_labels, predicted_labels)\n",
    "precision = precision_score(actual_labels, predicted_labels)\n",
    "recall = recall_score(actual_labels, predicted_labels)\n",
    "f1 = f1_score(actual_labels, predicted_labels)\n",
    "\n",
    "# Plotting the confusion matrix\n",
    "fig, ax = plt.subplots(figsize=(5, 5))\n",
    "cax = ax.matshow(cm, cmap=plt.cm.Blues)\n",
    "\n",
    "plt.title('Confusion Matrix')\n",
    "plt.xlabel('Predicted')\n",
    "plt.ylabel('Actual')\n",
    "\n",
    "# Add color bar\n",
    "plt.colorbar(cax)\n",
    "\n",
    "# Add text annotations\n",
    "for (i, j), val in np.ndenumerate(cm):\n",
    "    ax.text(j, i, f'{val}', ha='center', va='center', color='black')\n",
    "\n",
    "# Set tick marks for classes\n",
    "classes = ['Class 0', 'Class 1']\n",
    "ax.set_xticklabels([''] + classes)\n",
    "ax.set_yticklabels([''] + classes)\n",
    "\n",
    "# Optional: Set grid lines for better visual separation of cells\n",
    "ax.set_xticks(np.arange(cm.shape[1]+1)-.5, minor=True)\n",
    "ax.set_yticks(np.arange(cm.shape[0]+1)-.5, minor=True)\n",
    "ax.grid(which=\"minor\", color=\"gray\", linestyle='-', linewidth=0.5)\n",
    "ax.tick_params(which=\"minor\", size=0)\n",
    "\n",
    "# Display the metrics\n",
    "metrics_text = f'Accuracy: {accuracy:.2f}\\nPrecision: {precision:.2f}\\nRecall: {recall:.2f}\\nF1 Score: {f1:.2f}'\n",
    "fig.text(0.5, -0.1, metrics_text, ha='center', fontsize=12)\n",
    "\n",
    "plt.show()\n"
   ]
  },
  {
   "cell_type": "code",
   "execution_count": null,
   "metadata": {},
   "outputs": [],
   "source": []
  }
 ],
 "metadata": {
  "kernelspec": {
   "display_name": "Python 3",
   "language": "python",
   "name": "python3"
  },
  "language_info": {
   "codemirror_mode": {
    "name": "ipython",
    "version": 3
   },
   "file_extension": ".py",
   "mimetype": "text/x-python",
   "name": "python",
   "nbconvert_exporter": "python",
   "pygments_lexer": "ipython3",
   "version": "3.12.3"
  }
 },
 "nbformat": 4,
 "nbformat_minor": 2
}
