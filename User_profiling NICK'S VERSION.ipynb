{
  "nbformat": 4,
  "nbformat_minor": 0,
  "metadata": {
    "colab": {
      "provenance": []
    },
    "kernelspec": {
      "name": "python3",
      "display_name": "Python 3"
    },
    "language_info": {
      "name": "python"
    }
  },
  "cells": [
    {
      "cell_type": "code",
      "execution_count": null,
      "metadata": {
        "id": "W3haWv9033Ha",
        "colab": {
          "base_uri": "https://localhost:8080/"
        },
        "outputId": "cde667bb-bac9-49b3-d402-2cd0cfd85369"
      },
      "outputs": [
        {
          "output_type": "stream",
          "name": "stdout",
          "text": [
            "Drive already mounted at /content/drive; to attempt to forcibly remount, call drive.mount(\"/content/drive\", force_remount=True).\n"
          ]
        }
      ],
      "source": [
        "import pandas as pd\n",
        "from collections import Counter\n",
        "from google.colab import drive\n",
        "drive.mount('/content/drive')\n",
        "\n",
        "# Read the CSV file into a DataFrame\n",
        "df = pd.read_csv(\"/content/drive/My Drive/Colab Notebooks/Project/final_data.csv\")\n",
        "\n",
        "# Define function to calculate mode of a list\n",
        "def calculate_mode(lst):\n",
        "    if len(lst) == 0:\n",
        "        return None\n",
        "    counter = Counter(lst)\n",
        "    max_count = max(counter.values())\n",
        "    modes = [k for k, v in counter.items() if v == max_count]\n",
        "    if len(modes) == 1:\n",
        "        return modes[0]\n",
        "    else:\n",
        "        # If there are multiple modes, return one of them arbitrarily\n",
        "        return modes[0]\n",
        "\n",
        "# Define function to calculate average of a list\n",
        "def calculate_average(lst):\n",
        "    if len(lst) == 0:\n",
        "        return None\n",
        "    return sum(lst) / len(lst)\n",
        "\n",
        "# Initialize variables to keep track of previous user ID and playlist\n",
        "prev_user = None\n",
        "prev_playlist = None\n",
        "\n",
        "# Initialize an empty list to store user profiles\n",
        "user_profiles = []\n",
        "\n",
        "# Iterate over each row in the DataFrame\n",
        "for index, row in df.iterrows():\n",
        "    # If new user ID or new playlist, append profile for previous user and reset output dictionary\n",
        "    if row['userid'] != prev_user or row['playlist'] != prev_playlist:\n",
        "        if prev_user is not None and prev_playlist is not None:\n",
        "            user_profiles.append(output)\n",
        "        output = {}  # Reset output dictionary\n",
        "        prev_user = row['userid']\n",
        "        prev_playlist = row['playlist']\n",
        "\n",
        "    # Drop userid and playlist columns\n",
        "    data = row.drop(labels=['userid', 'playlist'])\n",
        "\n",
        "    # Calculate mode for string columns and average for numerical columns\n",
        "    for col in data.index:\n",
        "        if col.startswith('Genre'):\n",
        "            output[col] = calculate_mode([data[col]])\n",
        "        else:\n",
        "            if col in output:\n",
        "                if isinstance(output[col], int) or isinstance(output[col], float):\n",
        "                    output[col] = (output[col] + data[col]) / 2\n",
        "            else:\n",
        "                output[col] = data[col]\n"
      ]
    },
    {
      "cell_type": "code",
      "source": [
        "# Append the last user profile to the list\n",
        "user_profiles.append(output)\n",
        "\n",
        "# Convert the list of dictionaries to a DataFrame\n",
        "profile_df = pd.DataFrame(user_profiles)\n",
        "\n",
        "# Specify the file path where you want to save the CSV file\n",
        "file_path = \"/content/drive/My Drive/Colab Notebooks/Project/user_profiles.csv\"\n",
        "\n",
        "# Save the DataFrame to a CSV file\n",
        "profile_df.to_csv(file_path, index=False)"
      ],
      "metadata": {
        "id": "rECcK1Uc_aE4"
      },
      "execution_count": null,
      "outputs": []
    }
  ]
}