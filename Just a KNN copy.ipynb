{
 "cells": [
  {
   "cell_type": "code",
   "execution_count": 96,
   "metadata": {},
   "outputs": [
    {
     "name": "stdout",
     "output_type": "stream",
     "text": [
      "Spotify Data Sample:\n",
      "                                               track            artist genre  \\\n",
      "0  I Don't Care (with Justin Bieber) - Loud Luxur...        Ed Sheeran   pop   \n",
      "1                    Memories - Dillon Francis Remix          Maroon 5   pop   \n",
      "2                    All the Time - Don Diablo Remix      Zara Larsson   pop   \n",
      "3                  Call You Mine - Keanu Silva Remix  The Chainsmokers   pop   \n",
      "4            Someone You Loved - Future Humans Remix     Lewis Capaldi   pop   \n",
      "\n",
      "   danceability  energy  key  loudness  mode  speechiness  acousticness  \\\n",
      "0         0.748   0.916    6    -2.634     1       0.0583        0.1020   \n",
      "1         0.726   0.815   11    -4.969     1       0.0373        0.0724   \n",
      "2         0.675   0.931    1    -3.432     0       0.0742        0.0794   \n",
      "3         0.718   0.930    7    -3.778     1       0.1020        0.0287   \n",
      "4         0.650   0.833    1    -4.672     1       0.0359        0.0803   \n",
      "\n",
      "   instrumentalness  liveness  valence    tempo  duration_ms  \n",
      "0          0.000000    0.0653    0.518  122.036       194754  \n",
      "1          0.004210    0.3570    0.693   99.972       162600  \n",
      "2          0.000023    0.1100    0.613  124.008       176616  \n",
      "3          0.000009    0.2040    0.277  121.956       169093  \n",
      "4          0.000000    0.0833    0.725  123.976       189052  \n",
      "\n",
      "Spotify Data Info:\n"
     ]
    }
   ],
   "source": [
    "import pandas as pd\n",
    "\n",
    "# Load Data\n",
    "spotify_data = pd.read_csv('cleaned_spotify_data.csv')\n",
    "user_profiles = pd.read_csv('cleaned_user_profiles.csv')\n",
    "\n",
    "# Display the first few rows of each dataset\n",
    "print(\"Spotify Data Sample:\")\n",
    "print(spotify_data.head())\n",
    "print(\"\\nSpotify Data Info:\")"
   ]
  },
  {
   "cell_type": "code",
   "execution_count": 97,
   "metadata": {},
   "outputs": [
    {
     "name": "stdout",
     "output_type": "stream",
     "text": [
      "\n",
      "Spotify Data Info:\n",
      "<class 'pandas.core.frame.DataFrame'>\n",
      "RangeIndex: 32833 entries, 0 to 32832\n",
      "Data columns (total 15 columns):\n",
      " #   Column            Non-Null Count  Dtype  \n",
      "---  ------            --------------  -----  \n",
      " 0   track             32828 non-null  object \n",
      " 1   artist            32828 non-null  object \n",
      " 2   genre             32833 non-null  object \n",
      " 3   danceability      32833 non-null  float64\n",
      " 4   energy            32833 non-null  float64\n",
      " 5   key               32833 non-null  int64  \n",
      " 6   loudness          32833 non-null  float64\n",
      " 7   mode              32833 non-null  int64  \n",
      " 8   speechiness       32833 non-null  float64\n",
      " 9   acousticness      32833 non-null  float64\n",
      " 10  instrumentalness  32833 non-null  float64\n",
      " 11  liveness          32833 non-null  float64\n",
      " 12  valence           32833 non-null  float64\n",
      " 13  tempo             32833 non-null  float64\n",
      " 14  duration_ms       32833 non-null  int64  \n",
      "dtypes: float64(9), int64(3), object(3)\n",
      "memory usage: 3.8+ MB\n",
      "None\n"
     ]
    }
   ],
   "source": [
    "print(\"\\nSpotify Data Info:\")\n",
    "print(spotify_data.info())"
   ]
  },
  {
   "cell_type": "code",
   "execution_count": 98,
   "metadata": {},
   "outputs": [
    {
     "name": "stdout",
     "output_type": "stream",
     "text": [
      "\n",
      "Spotify Data Description:\n",
      "       danceability        energy           key      loudness          mode  \\\n",
      "count  32833.000000  32833.000000  32833.000000  32833.000000  32833.000000   \n",
      "mean       0.654850      0.698619      5.374471     -6.719499      0.565711   \n",
      "std        0.145085      0.180910      3.611657      2.988436      0.495671   \n",
      "min        0.000000      0.000175      0.000000    -46.448000      0.000000   \n",
      "25%        0.563000      0.581000      2.000000     -8.171000      0.000000   \n",
      "50%        0.672000      0.721000      6.000000     -6.166000      1.000000   \n",
      "75%        0.761000      0.840000      9.000000     -4.645000      1.000000   \n",
      "max        0.983000      1.000000     11.000000      1.275000      1.000000   \n",
      "\n",
      "        speechiness  acousticness  instrumentalness      liveness  \\\n",
      "count  32833.000000  32833.000000      32833.000000  32833.000000   \n",
      "mean       0.107068      0.175334          0.084747      0.190176   \n",
      "std        0.101314      0.219633          0.224230      0.154317   \n",
      "min        0.000000      0.000000          0.000000      0.000000   \n",
      "25%        0.041000      0.015100          0.000000      0.092700   \n",
      "50%        0.062500      0.080400          0.000016      0.127000   \n",
      "75%        0.132000      0.255000          0.004830      0.248000   \n",
      "max        0.918000      0.994000          0.994000      0.996000   \n",
      "\n",
      "            valence         tempo    duration_ms  \n",
      "count  32833.000000  32833.000000   32833.000000  \n",
      "mean       0.510561    120.881132  225799.811622  \n",
      "std        0.233146     26.903624   59834.006182  \n",
      "min        0.000000      0.000000    4000.000000  \n",
      "25%        0.331000     99.960000  187819.000000  \n",
      "50%        0.512000    121.984000  216000.000000  \n",
      "75%        0.693000    133.918000  253585.000000  \n",
      "max        0.991000    239.440000  517810.000000  \n"
     ]
    }
   ],
   "source": [
    "print(\"\\nSpotify Data Description:\")\n",
    "print(spotify_data.describe())"
   ]
  },
  {
   "cell_type": "code",
   "execution_count": 99,
   "metadata": {},
   "outputs": [
    {
     "name": "stdout",
     "output_type": "stream",
     "text": [
      "\n",
      "User Profiles Sample:\n",
      "                             userid           artist  danceability    energy  \\\n",
      "0  00055176fea33f6e027cd3302289378b        Green Day      0.528600  0.780033   \n",
      "1  0007f3dd09c91198371454c608d47f22       Ed Sheeran      0.503923  0.552474   \n",
      "2  000c11a16c89aa4b14b328080f5954ee            Drake      0.604992  0.648232   \n",
      "3  00123e0f544dee3ab006aa7f1e5725a7        Tom Waits      0.545406  0.635927   \n",
      "4  00139e9cb50fb309549e1561b476226d  The Cranberries      0.576247  0.672661   \n",
      "\n",
      "        key  loudness      mode  speechiness  acousticness  instrumentalness  \\\n",
      "0  4.800000 -5.466067  0.933333     0.067063      0.097408          0.002713   \n",
      "1  4.410256 -8.301244  0.769231     0.043521      0.359119          0.033772   \n",
      "2  4.896000 -7.674204  0.660000     0.058918      0.199622          0.077143   \n",
      "3  5.483384 -8.870202  0.703927     0.058784      0.267978          0.145345   \n",
      "4  5.086207 -8.727075  0.724138     0.060335      0.123039          0.049472   \n",
      "\n",
      "   liveness   valence       tempo    duration_ms  time_signature genre  \n",
      "0  0.279387  0.601667  119.757400  217063.966667             4.0  rock  \n",
      "1  0.131090  0.336121  107.436705  255803.807692             4.0   pop  \n",
      "2  0.175239  0.519824  119.436044  249030.780000             4.0   edm  \n",
      "3  0.204341  0.514726  116.258459  244649.264350             4.0  rock  \n",
      "4  0.210118  0.521477  121.206897  248683.040230             4.0  rock  \n"
     ]
    }
   ],
   "source": [
    "print(\"\\nUser Profiles Sample:\")\n",
    "print(user_profiles.head())\n"
   ]
  },
  {
   "cell_type": "code",
   "execution_count": 100,
   "metadata": {},
   "outputs": [
    {
     "name": "stdout",
     "output_type": "stream",
     "text": [
      "\n",
      "User Profiles Info:\n",
      "<class 'pandas.core.frame.DataFrame'>\n",
      "RangeIndex: 12945 entries, 0 to 12944\n",
      "Data columns (total 16 columns):\n",
      " #   Column            Non-Null Count  Dtype  \n",
      "---  ------            --------------  -----  \n",
      " 0   userid            12945 non-null  object \n",
      " 1   artist            12945 non-null  object \n",
      " 2   danceability      12945 non-null  float64\n",
      " 3   energy            12945 non-null  float64\n",
      " 4   key               12945 non-null  float64\n",
      " 5   loudness          12945 non-null  float64\n",
      " 6   mode              12945 non-null  float64\n",
      " 7   speechiness       12945 non-null  float64\n",
      " 8   acousticness      12945 non-null  float64\n",
      " 9   instrumentalness  12945 non-null  float64\n",
      " 10  liveness          12945 non-null  float64\n",
      " 11  valence           12945 non-null  float64\n",
      " 12  tempo             12945 non-null  float64\n",
      " 13  duration_ms       12945 non-null  float64\n",
      " 14  time_signature    12945 non-null  float64\n",
      " 15  genre             12945 non-null  object \n",
      "dtypes: float64(13), object(3)\n",
      "memory usage: 1.6+ MB\n",
      "None\n"
     ]
    }
   ],
   "source": [
    "print(\"\\nUser Profiles Info:\")\n",
    "print(user_profiles.info())\n"
   ]
  },
  {
   "cell_type": "code",
   "execution_count": 101,
   "metadata": {},
   "outputs": [
    {
     "name": "stdout",
     "output_type": "stream",
     "text": [
      "\n",
      "User Profiles Description:\n",
      "       danceability        energy           key      loudness          mode  \\\n",
      "count  12945.000000  12945.000000  12945.000000  12945.000000  12945.000000   \n",
      "mean       0.567561      0.685438      5.167127     -7.344614      0.664086   \n",
      "std        0.068152      0.091276      1.243674      1.562287      0.171015   \n",
      "min        0.210000      0.052500      0.000000    -24.100000      0.000000   \n",
      "25%        0.529017      0.639826      4.681579     -8.097759      0.591623   \n",
      "50%        0.564417      0.690187      5.178571     -7.251000      0.667883   \n",
      "75%        0.604441      0.738021      5.658915     -6.447972      0.750000   \n",
      "max        0.979000      0.998000     11.000000     -1.609000      1.000000   \n",
      "\n",
      "        speechiness  acousticness  instrumentalness      liveness  \\\n",
      "count  12945.000000  12945.000000      12945.000000  12945.000000   \n",
      "mean       0.069307      0.191769          0.096689      0.186387   \n",
      "std        0.031526      0.115062          0.097106      0.053801   \n",
      "min        0.023800      0.000002          0.000000      0.024400   \n",
      "25%        0.052008      0.117254          0.032971      0.160929   \n",
      "50%        0.061711      0.174997          0.076922      0.182770   \n",
      "75%        0.076105      0.242671          0.132082      0.204639   \n",
      "max        0.406000      0.991000          0.951000      0.973000   \n",
      "\n",
      "            valence         tempo    duration_ms  time_signature  \n",
      "count  12945.000000  12945.000000   12945.000000    12945.000000  \n",
      "mean       0.486348    120.743206  245934.802632        3.996601  \n",
      "std        0.098956      9.344720   25136.832859        0.078542  \n",
      "min        0.039500     67.898000  104113.000000        1.000000  \n",
      "25%        0.434400    116.654337  234796.290850        4.000000  \n",
      "50%        0.483468    120.633712  244475.100000        4.000000  \n",
      "75%        0.537098    124.586903  255018.856863        4.000000  \n",
      "max        0.966000    189.286000  698173.000000        5.000000  \n"
     ]
    }
   ],
   "source": [
    "print(\"\\nUser Profiles Description:\")\n",
    "print(user_profiles.describe())"
   ]
  },
  {
   "cell_type": "code",
   "execution_count": 102,
   "metadata": {},
   "outputs": [],
   "source": [
    "import numpy as np\n",
    "import pandas as pd\n",
    "from sklearn.preprocessing import MinMaxScaler, StandardScaler\n",
    "from sklearn.neighbors import NearestNeighbors\n",
    "\n",
    "scaler = MinMaxScaler()\n",
    "spotify_data[['loudness', 'tempo']] = scaler.fit_transform(spotify_data[['loudness', 'tempo']])\n",
    "user_profiles[['loudness', 'tempo']] = scaler.transform(user_profiles[['loudness', 'tempo']])\n"
   ]
  },
  {
   "cell_type": "code",
   "execution_count": 103,
   "metadata": {},
   "outputs": [
    {
     "name": "stdout",
     "output_type": "stream",
     "text": [
      "Top 11 recommendations for User 4 (UserID: 00139e9cb50fb309549e1561b476226d, Genre: rock):\n",
      "- Crash into Me by Dave Matthews Band (Genre: rock, Distance: 0.3349651973459137)\n",
      "- Ang Huling El Bimbo by Eraserheads (Genre: rock, Distance: 0.3459538771437707)\n",
      "- Hypocrites by Dave Kerzner (Genre: rock, Distance: 0.3469881265036693)\n",
      "- Simple Man by Lynyrd Skynyrd (Genre: rock, Distance: 0.3480356860485167)\n",
      "- Never Stop Loving You Ft. Terrace Martin & Talib Kweli by 9th Wonder (Genre: r&b, Distance: 0.3501761488946319)\n",
      "- Light of the Day by Werner Mill (Genre: edm, Distance: 0.35079716779469516)\n",
      "- Tunnel of Love (Intro: The Carousel Waltz) by Dire Straits (Genre: rock, Distance: 0.3576466316750204)\n",
      "- Are 'Friends' Electric? by Tubeway Army (Genre: rock, Distance: 0.3591064253086611)\n",
      "- Poca Tela by Jaycob Duque (Genre: latin, Distance: 0.35957801278185475)\n",
      "- For The Turnstiles by The Be Good Tanyas (Genre: r&b, Distance: 0.36592409401805254)\n",
      "- Bold by Greenish (Genre: edm, Distance: 0.36596770527864264)\n"
     ]
    },
    {
     "data": {
      "text/html": [
       "<div>\n",
       "<style scoped>\n",
       "    .dataframe tbody tr th:only-of-type {\n",
       "        vertical-align: middle;\n",
       "    }\n",
       "\n",
       "    .dataframe tbody tr th {\n",
       "        vertical-align: top;\n",
       "    }\n",
       "\n",
       "    .dataframe thead th {\n",
       "        text-align: right;\n",
       "    }\n",
       "</style>\n",
       "<table border=\"1\" class=\"dataframe\">\n",
       "  <thead>\n",
       "    <tr style=\"text-align: right;\">\n",
       "      <th></th>\n",
       "      <th>track</th>\n",
       "      <th>artist</th>\n",
       "      <th>genre</th>\n",
       "      <th>danceability</th>\n",
       "      <th>energy</th>\n",
       "      <th>key</th>\n",
       "      <th>loudness</th>\n",
       "      <th>mode</th>\n",
       "      <th>speechiness</th>\n",
       "      <th>acousticness</th>\n",
       "      <th>instrumentalness</th>\n",
       "      <th>liveness</th>\n",
       "      <th>valence</th>\n",
       "      <th>tempo</th>\n",
       "      <th>duration_ms</th>\n",
       "    </tr>\n",
       "  </thead>\n",
       "  <tbody>\n",
       "    <tr>\n",
       "      <th>13990</th>\n",
       "      <td>Crash into Me</td>\n",
       "      <td>Dave Matthews Band</td>\n",
       "      <td>rock</td>\n",
       "      <td>0.541</td>\n",
       "      <td>0.677</td>\n",
       "      <td>4</td>\n",
       "      <td>0.747732</td>\n",
       "      <td>1</td>\n",
       "      <td>0.0373</td>\n",
       "      <td>0.12200</td>\n",
       "      <td>0.019100</td>\n",
       "      <td>0.0938</td>\n",
       "      <td>0.555</td>\n",
       "      <td>0.422235</td>\n",
       "      <td>316467</td>\n",
       "    </tr>\n",
       "    <tr>\n",
       "      <th>12597</th>\n",
       "      <td>Ang Huling El Bimbo</td>\n",
       "      <td>Eraserheads</td>\n",
       "      <td>rock</td>\n",
       "      <td>0.521</td>\n",
       "      <td>0.626</td>\n",
       "      <td>6</td>\n",
       "      <td>0.802464</td>\n",
       "      <td>1</td>\n",
       "      <td>0.0243</td>\n",
       "      <td>0.19400</td>\n",
       "      <td>0.000000</td>\n",
       "      <td>0.2270</td>\n",
       "      <td>0.479</td>\n",
       "      <td>0.377284</td>\n",
       "      <td>450333</td>\n",
       "    </tr>\n",
       "    <tr>\n",
       "      <th>11681</th>\n",
       "      <td>Hypocrites</td>\n",
       "      <td>Dave Kerzner</td>\n",
       "      <td>rock</td>\n",
       "      <td>0.487</td>\n",
       "      <td>0.610</td>\n",
       "      <td>4</td>\n",
       "      <td>0.680762</td>\n",
       "      <td>1</td>\n",
       "      <td>0.0442</td>\n",
       "      <td>0.02130</td>\n",
       "      <td>0.102000</td>\n",
       "      <td>0.2510</td>\n",
       "      <td>0.517</td>\n",
       "      <td>0.555500</td>\n",
       "      <td>508725</td>\n",
       "    </tr>\n",
       "    <tr>\n",
       "      <th>12823</th>\n",
       "      <td>Simple Man</td>\n",
       "      <td>Lynyrd Skynyrd</td>\n",
       "      <td>rock</td>\n",
       "      <td>0.464</td>\n",
       "      <td>0.718</td>\n",
       "      <td>6</td>\n",
       "      <td>0.770174</td>\n",
       "      <td>1</td>\n",
       "      <td>0.0328</td>\n",
       "      <td>0.00395</td>\n",
       "      <td>0.004000</td>\n",
       "      <td>0.1700</td>\n",
       "      <td>0.476</td>\n",
       "      <td>0.503963</td>\n",
       "      <td>354027</td>\n",
       "    </tr>\n",
       "    <tr>\n",
       "      <th>26251</th>\n",
       "      <td>Never Stop Loving You Ft. Terrace Martin &amp; Tal...</td>\n",
       "      <td>9th Wonder</td>\n",
       "      <td>r&amp;b</td>\n",
       "      <td>0.561</td>\n",
       "      <td>0.688</td>\n",
       "      <td>5</td>\n",
       "      <td>0.779624</td>\n",
       "      <td>1</td>\n",
       "      <td>0.1560</td>\n",
       "      <td>0.08950</td>\n",
       "      <td>0.000000</td>\n",
       "      <td>0.1490</td>\n",
       "      <td>0.615</td>\n",
       "      <td>0.363824</td>\n",
       "      <td>240066</td>\n",
       "    </tr>\n",
       "    <tr>\n",
       "      <th>30813</th>\n",
       "      <td>Light of the Day</td>\n",
       "      <td>Werner Mill</td>\n",
       "      <td>edm</td>\n",
       "      <td>0.499</td>\n",
       "      <td>0.562</td>\n",
       "      <td>5</td>\n",
       "      <td>0.711523</td>\n",
       "      <td>1</td>\n",
       "      <td>0.0249</td>\n",
       "      <td>0.00431</td>\n",
       "      <td>0.000225</td>\n",
       "      <td>0.0830</td>\n",
       "      <td>0.559</td>\n",
       "      <td>0.438456</td>\n",
       "      <td>234731</td>\n",
       "    </tr>\n",
       "    <tr>\n",
       "      <th>13254</th>\n",
       "      <td>Tunnel of Love (Intro: The Carousel Waltz)</td>\n",
       "      <td>Dire Straits</td>\n",
       "      <td>rock</td>\n",
       "      <td>0.491</td>\n",
       "      <td>0.686</td>\n",
       "      <td>5</td>\n",
       "      <td>0.748905</td>\n",
       "      <td>1</td>\n",
       "      <td>0.0372</td>\n",
       "      <td>0.24500</td>\n",
       "      <td>0.018500</td>\n",
       "      <td>0.2810</td>\n",
       "      <td>0.555</td>\n",
       "      <td>0.572870</td>\n",
       "      <td>488693</td>\n",
       "    </tr>\n",
       "    <tr>\n",
       "      <th>14105</th>\n",
       "      <td>Are 'Friends' Electric?</td>\n",
       "      <td>Tubeway Army</td>\n",
       "      <td>rock</td>\n",
       "      <td>0.423</td>\n",
       "      <td>0.743</td>\n",
       "      <td>5</td>\n",
       "      <td>0.767994</td>\n",
       "      <td>1</td>\n",
       "      <td>0.0379</td>\n",
       "      <td>0.03040</td>\n",
       "      <td>0.161000</td>\n",
       "      <td>0.2040</td>\n",
       "      <td>0.417</td>\n",
       "      <td>0.392153</td>\n",
       "      <td>325200</td>\n",
       "    </tr>\n",
       "    <tr>\n",
       "      <th>19084</th>\n",
       "      <td>Poca Tela</td>\n",
       "      <td>Jaycob Duque</td>\n",
       "      <td>latin</td>\n",
       "      <td>0.529</td>\n",
       "      <td>0.667</td>\n",
       "      <td>5</td>\n",
       "      <td>0.820694</td>\n",
       "      <td>1</td>\n",
       "      <td>0.1740</td>\n",
       "      <td>0.16200</td>\n",
       "      <td>0.000000</td>\n",
       "      <td>0.0791</td>\n",
       "      <td>0.559</td>\n",
       "      <td>0.396028</td>\n",
       "      <td>163500</td>\n",
       "    </tr>\n",
       "    <tr>\n",
       "      <th>23572</th>\n",
       "      <td>For The Turnstiles</td>\n",
       "      <td>The Be Good Tanyas</td>\n",
       "      <td>r&amp;b</td>\n",
       "      <td>0.551</td>\n",
       "      <td>0.554</td>\n",
       "      <td>5</td>\n",
       "      <td>0.776250</td>\n",
       "      <td>1</td>\n",
       "      <td>0.0280</td>\n",
       "      <td>0.16400</td>\n",
       "      <td>0.000094</td>\n",
       "      <td>0.0869</td>\n",
       "      <td>0.523</td>\n",
       "      <td>0.333328</td>\n",
       "      <td>266960</td>\n",
       "    </tr>\n",
       "    <tr>\n",
       "      <th>29248</th>\n",
       "      <td>Bold</td>\n",
       "      <td>Greenish</td>\n",
       "      <td>edm</td>\n",
       "      <td>0.471</td>\n",
       "      <td>0.679</td>\n",
       "      <td>4</td>\n",
       "      <td>0.718270</td>\n",
       "      <td>1</td>\n",
       "      <td>0.0502</td>\n",
       "      <td>0.02350</td>\n",
       "      <td>0.000296</td>\n",
       "      <td>0.0951</td>\n",
       "      <td>0.397</td>\n",
       "      <td>0.525865</td>\n",
       "      <td>236509</td>\n",
       "    </tr>\n",
       "  </tbody>\n",
       "</table>\n",
       "</div>"
      ],
      "text/plain": [
       "                                                   track              artist  \\\n",
       "13990                                      Crash into Me  Dave Matthews Band   \n",
       "12597                                Ang Huling El Bimbo         Eraserheads   \n",
       "11681                                         Hypocrites        Dave Kerzner   \n",
       "12823                                         Simple Man      Lynyrd Skynyrd   \n",
       "26251  Never Stop Loving You Ft. Terrace Martin & Tal...          9th Wonder   \n",
       "30813                                   Light of the Day         Werner Mill   \n",
       "13254         Tunnel of Love (Intro: The Carousel Waltz)        Dire Straits   \n",
       "14105                            Are 'Friends' Electric?        Tubeway Army   \n",
       "19084                                          Poca Tela        Jaycob Duque   \n",
       "23572                                 For The Turnstiles  The Be Good Tanyas   \n",
       "29248                                               Bold            Greenish   \n",
       "\n",
       "       genre  danceability  energy  key  loudness  mode  speechiness  \\\n",
       "13990   rock         0.541   0.677    4  0.747732     1       0.0373   \n",
       "12597   rock         0.521   0.626    6  0.802464     1       0.0243   \n",
       "11681   rock         0.487   0.610    4  0.680762     1       0.0442   \n",
       "12823   rock         0.464   0.718    6  0.770174     1       0.0328   \n",
       "26251    r&b         0.561   0.688    5  0.779624     1       0.1560   \n",
       "30813    edm         0.499   0.562    5  0.711523     1       0.0249   \n",
       "13254   rock         0.491   0.686    5  0.748905     1       0.0372   \n",
       "14105   rock         0.423   0.743    5  0.767994     1       0.0379   \n",
       "19084  latin         0.529   0.667    5  0.820694     1       0.1740   \n",
       "23572    r&b         0.551   0.554    5  0.776250     1       0.0280   \n",
       "29248    edm         0.471   0.679    4  0.718270     1       0.0502   \n",
       "\n",
       "       acousticness  instrumentalness  liveness  valence     tempo  \\\n",
       "13990       0.12200          0.019100    0.0938    0.555  0.422235   \n",
       "12597       0.19400          0.000000    0.2270    0.479  0.377284   \n",
       "11681       0.02130          0.102000    0.2510    0.517  0.555500   \n",
       "12823       0.00395          0.004000    0.1700    0.476  0.503963   \n",
       "26251       0.08950          0.000000    0.1490    0.615  0.363824   \n",
       "30813       0.00431          0.000225    0.0830    0.559  0.438456   \n",
       "13254       0.24500          0.018500    0.2810    0.555  0.572870   \n",
       "14105       0.03040          0.161000    0.2040    0.417  0.392153   \n",
       "19084       0.16200          0.000000    0.0791    0.559  0.396028   \n",
       "23572       0.16400          0.000094    0.0869    0.523  0.333328   \n",
       "29248       0.02350          0.000296    0.0951    0.397  0.525865   \n",
       "\n",
       "       duration_ms  \n",
       "13990       316467  \n",
       "12597       450333  \n",
       "11681       508725  \n",
       "12823       354027  \n",
       "26251       240066  \n",
       "30813       234731  \n",
       "13254       488693  \n",
       "14105       325200  \n",
       "19084       163500  \n",
       "23572       266960  \n",
       "29248       236509  "
      ]
     },
     "execution_count": 103,
     "metadata": {},
     "output_type": "execute_result"
    }
   ],
   "source": [
    "features = ['danceability', 'energy', 'key', 'loudness', 'mode', 'speechiness', 'acousticness', 'instrumentalness', 'liveness', 'valence', 'tempo']\n",
    "\n",
    "spotify_features = scaler.fit_transform(spotify_data[features])\n",
    "user_features = scaler.fit_transform(user_profiles[features])\n",
    "\n",
    "knn = NearestNeighbors(n_neighbors=11, algorithm='auto', metric='euclidean')\n",
    "knn.fit(spotify_features)\n",
    "\n",
    "def recommend_songs(user_index, top_n=11):\n",
    "    user_vec = user_features[user_index].reshape(1, -1)\n",
    "    \n",
    "    # Finding the nearest neighbors for the user vector\n",
    "    distances, indices = knn.kneighbors(user_vec, n_neighbors=top_n)\n",
    "    \n",
    "    # Collecting the recommended songs\n",
    "    recommended_songs = spotify_data.iloc[indices[0]]\n",
    "    \n",
    "    # Get the user's preferred genre\n",
    "    user_genre = user_profiles.iloc[user_index]['genre']\n",
    "    \n",
    "    print(f\"Top {top_n} recommendations for User {user_index} (UserID: {user_profiles.iloc[user_index]['userid']}, Genre: {user_genre}):\")\n",
    "    for i, (idx, row) in enumerate(recommended_songs.iterrows()):\n",
    "        print(f\"- {row['track']} by {row['artist']} (Genre: {row['genre']}, Distance: {distances[0][i]})\")\n",
    "    \n",
    "    return recommended_songs\n",
    "\n",
    "# Example: recommend songs for the user at index 4\n",
    "recommend_songs(user_index=4)\n",
    "\n",
    "# def recommend_songs(user_index, top_n=10):\n",
    "#     user_vec = user_features.iloc[user_index].values.reshape(1, -1)\n",
    "    \n",
    "#     # Finding the nearest neighbors for the user vector\n",
    "#     distances, indices = knn.kneighbors(user_vec, n_neighbors=top_n)\n",
    "    \n",
    "#     # Collecting the recommended songs\n",
    "#     recommended_songs = spotify_data.iloc[indices[0]]\n",
    "#     print(f\"Top {top_n} recommendations for User {user_index} (UserID: {user_profiles.iloc[user_index]['userid']}):\")\n",
    "#     for i, (idx, row) in enumerate(recommended_songs.iterrows()):\n",
    "#         print(f\"- {row['track']} by {row['artist']} (Distance: {distances[0][i]})\")\n",
    "    \n",
    "#     return recommended_songs\n",
    "\n",
    "# # Example: recommend songs for the user at index 4\n",
    "# recommend_songs(user_index=4)\n",
    "\n",
    "\n",
    "# # Function to recommend songs for a given user\n",
    "# def recommend_songs(user_index, top_n=10):\n",
    "#     user_vec = user_features.iloc[user_index].values.reshape(1, -1)\n",
    "    \n",
    "#     # Finding the nearest neighbors for the user vector\n",
    "#     distances, indices = knn.kneighbors(user_vec, n_neighbors=top_n)\n",
    "    \n",
    "#     # Collecting the recommended songs\n",
    "#     recommended_songs = spotify_data.iloc[indices[0]]\n",
    "#     print(f\"Top {top_n} recommendations for User {user_index} (UserID: {user_profiles.iloc[user_index]['userid']}):\")\n",
    "#     for idx, row in recommended_songs.iterrows():\n",
    "#         print(f\"- {row['track']} by {row['artist']} (Distance: {distances[0][idx-recommended_songs.index[0]]})\")\n",
    "    \n",
    "#     return recommended_songs\n",
    "\n",
    "# # Example: recommend songs for the user at index 4\n",
    "# recommend_songs(user_index=4)"
   ]
  },
  {
   "cell_type": "code",
   "execution_count": 110,
   "metadata": {},
   "outputs": [
    {
     "name": "stdout",
     "output_type": "stream",
     "text": [
      "The average silhouette score is : 0.13929468649477986\n",
      "Top 5 recommendations for User Index 4:\n",
      "- Away by The Bolshoi (Genre: rock, Distance: 1.1057729103335951)\n",
      "- Good Times Roll by The Cars (Genre: rock, Distance: 1.2029408852560972)\n",
      "- 867-5309 / Jenny by Tommy Tutone (Genre: rock, Distance: 1.2613402459432832)\n",
      "- Pinball Wizard by The Who (Genre: rock, Distance: 1.2782489491598967)\n",
      "- Pinball Wizard by The Who (Genre: rock, Distance: 1.2782489491598967)\n"
     ]
    },
    {
     "data": {
      "text/html": [
       "<div>\n",
       "<style scoped>\n",
       "    .dataframe tbody tr th:only-of-type {\n",
       "        vertical-align: middle;\n",
       "    }\n",
       "\n",
       "    .dataframe tbody tr th {\n",
       "        vertical-align: top;\n",
       "    }\n",
       "\n",
       "    .dataframe thead th {\n",
       "        text-align: right;\n",
       "    }\n",
       "</style>\n",
       "<table border=\"1\" class=\"dataframe\">\n",
       "  <thead>\n",
       "    <tr style=\"text-align: right;\">\n",
       "      <th></th>\n",
       "      <th>track</th>\n",
       "      <th>artist</th>\n",
       "      <th>genre</th>\n",
       "      <th>danceability</th>\n",
       "      <th>energy</th>\n",
       "      <th>key</th>\n",
       "      <th>loudness</th>\n",
       "      <th>mode</th>\n",
       "      <th>speechiness</th>\n",
       "      <th>acousticness</th>\n",
       "      <th>instrumentalness</th>\n",
       "      <th>liveness</th>\n",
       "      <th>valence</th>\n",
       "      <th>tempo</th>\n",
       "      <th>duration_ms</th>\n",
       "    </tr>\n",
       "  </thead>\n",
       "  <tbody>\n",
       "    <tr>\n",
       "      <th>14337</th>\n",
       "      <td>Away</td>\n",
       "      <td>The Bolshoi</td>\n",
       "      <td>rock</td>\n",
       "      <td>0.597</td>\n",
       "      <td>0.737</td>\n",
       "      <td>7</td>\n",
       "      <td>-9.223</td>\n",
       "      <td>1</td>\n",
       "      <td>0.0365</td>\n",
       "      <td>0.1020</td>\n",
       "      <td>0.000008</td>\n",
       "      <td>0.122</td>\n",
       "      <td>0.553</td>\n",
       "      <td>120.867</td>\n",
       "      <td>297133</td>\n",
       "    </tr>\n",
       "    <tr>\n",
       "      <th>13204</th>\n",
       "      <td>Good Times Roll</td>\n",
       "      <td>The Cars</td>\n",
       "      <td>rock</td>\n",
       "      <td>0.607</td>\n",
       "      <td>0.662</td>\n",
       "      <td>4</td>\n",
       "      <td>-9.456</td>\n",
       "      <td>1</td>\n",
       "      <td>0.0278</td>\n",
       "      <td>0.0951</td>\n",
       "      <td>0.000083</td>\n",
       "      <td>0.125</td>\n",
       "      <td>0.629</td>\n",
       "      <td>107.643</td>\n",
       "      <td>225853</td>\n",
       "    </tr>\n",
       "    <tr>\n",
       "      <th>13593</th>\n",
       "      <td>867-5309 / Jenny</td>\n",
       "      <td>Tommy Tutone</td>\n",
       "      <td>rock</td>\n",
       "      <td>0.584</td>\n",
       "      <td>0.708</td>\n",
       "      <td>5</td>\n",
       "      <td>-10.039</td>\n",
       "      <td>1</td>\n",
       "      <td>0.0593</td>\n",
       "      <td>0.0264</td>\n",
       "      <td>0.003640</td>\n",
       "      <td>0.112</td>\n",
       "      <td>0.564</td>\n",
       "      <td>137.657</td>\n",
       "      <td>226200</td>\n",
       "    </tr>\n",
       "    <tr>\n",
       "      <th>12387</th>\n",
       "      <td>Pinball Wizard</td>\n",
       "      <td>The Who</td>\n",
       "      <td>rock</td>\n",
       "      <td>0.543</td>\n",
       "      <td>0.715</td>\n",
       "      <td>2</td>\n",
       "      <td>-8.890</td>\n",
       "      <td>1</td>\n",
       "      <td>0.0356</td>\n",
       "      <td>0.0192</td>\n",
       "      <td>0.000000</td>\n",
       "      <td>0.256</td>\n",
       "      <td>0.468</td>\n",
       "      <td>124.011</td>\n",
       "      <td>180943</td>\n",
       "    </tr>\n",
       "    <tr>\n",
       "      <th>11816</th>\n",
       "      <td>Pinball Wizard</td>\n",
       "      <td>The Who</td>\n",
       "      <td>rock</td>\n",
       "      <td>0.543</td>\n",
       "      <td>0.715</td>\n",
       "      <td>2</td>\n",
       "      <td>-8.890</td>\n",
       "      <td>1</td>\n",
       "      <td>0.0356</td>\n",
       "      <td>0.0192</td>\n",
       "      <td>0.000000</td>\n",
       "      <td>0.256</td>\n",
       "      <td>0.468</td>\n",
       "      <td>124.011</td>\n",
       "      <td>180943</td>\n",
       "    </tr>\n",
       "  </tbody>\n",
       "</table>\n",
       "</div>"
      ],
      "text/plain": [
       "                  track        artist genre  danceability  energy  key  \\\n",
       "14337              Away   The Bolshoi  rock         0.597   0.737    7   \n",
       "13204   Good Times Roll      The Cars  rock         0.607   0.662    4   \n",
       "13593  867-5309 / Jenny  Tommy Tutone  rock         0.584   0.708    5   \n",
       "12387    Pinball Wizard       The Who  rock         0.543   0.715    2   \n",
       "11816    Pinball Wizard       The Who  rock         0.543   0.715    2   \n",
       "\n",
       "       loudness  mode  speechiness  acousticness  instrumentalness  liveness  \\\n",
       "14337    -9.223     1       0.0365        0.1020          0.000008     0.122   \n",
       "13204    -9.456     1       0.0278        0.0951          0.000083     0.125   \n",
       "13593   -10.039     1       0.0593        0.0264          0.003640     0.112   \n",
       "12387    -8.890     1       0.0356        0.0192          0.000000     0.256   \n",
       "11816    -8.890     1       0.0356        0.0192          0.000000     0.256   \n",
       "\n",
       "       valence    tempo  duration_ms  \n",
       "14337    0.553  120.867       297133  \n",
       "13204    0.629  107.643       225853  \n",
       "13593    0.564  137.657       226200  \n",
       "12387    0.468  124.011       180943  \n",
       "11816    0.468  124.011       180943  "
      ]
     },
     "execution_count": 110,
     "metadata": {},
     "output_type": "execute_result"
    }
   ],
   "source": [
    "import numpy as np\n",
    "import pandas as pd\n",
    "from sklearn.preprocessing import OneHotEncoder, StandardScaler\n",
    "from sklearn.neighbors import NearestNeighbors\n",
    "from sklearn.compose import ColumnTransformer\n",
    "from sklearn.metrics import confusion_matrix\n",
    "from sklearn.model_selection import train_test_split\n",
    "from sklearn.metrics import silhouette_score\n",
    "from sklearn.cluster import KMeans\n",
    "\n",
    "\n",
    "\n",
    "# Example Data Load (Assuming Spotify data and user profiles are already loaded)\n",
    "spotify_data = pd.read_csv('cleaned_spotify_data.csv')\n",
    "user_profiles = pd.read_csv('cleaned_user_profiles.csv')\n",
    "\n",
    "# Define the features and preprocess them\n",
    "features = ['danceability', 'energy', 'key', 'loudness', 'mode', 'speechiness', 'acousticness', 'instrumentalness', 'liveness', 'valence', 'tempo']\n",
    "categorical_feature = ['genre']\n",
    "\n",
    "# Create a Column Transformer with OneHot for genre and StandardScaler for others\n",
    "preprocessor = ColumnTransformer(\n",
    "    transformers=[\n",
    "        ('num', StandardScaler(), features),\n",
    "        ('cat', OneHotEncoder(), categorical_feature)\n",
    "    ])\n",
    "\n",
    "# Prepare spotify features and user features\n",
    "spotify_features = preprocessor.fit_transform(spotify_data[features + categorical_feature])\n",
    "user_features = preprocessor.transform(user_profiles[features + categorical_feature])\n",
    "\n",
    "# Custom distance metric\n",
    "def custom_distance(x, y):\n",
    "    # Assuming the last elements are the encoded genres\n",
    "    genre_length = len(preprocessor.named_transformers_['cat'].categories_[0])\n",
    "    genre_distance = 0 if np.array_equal(x[-genre_length:], y[-genre_length:]) else 1\n",
    "    numeric_distance = np.sqrt(np.sum((x[:-genre_length] - y[:-genre_length])**2))\n",
    "    # Customize the following line to adjust the weight of genre misalignment\n",
    "    return numeric_distance + (10 * genre_distance)\n",
    "\n",
    "# Initialize and train KNN with the custom distance\n",
    "# knn = NearestNeighbors(n_neighbors=11, algorithm='auto', metric=custom_distance)\n",
    "# knn.fit(spotify_features)\n",
    "kmeans = KMeans(n_clusters=11)  # Assuming you want to cluster into 4 groups\n",
    "kmeans.fit(spotify_features)\n",
    "# y_kmeans = kmeans.fit_predict(user_features) \n",
    "\n",
    "def recommend_songs(user_index, top_n=5):\n",
    "    user_vec = user_features[user_index].reshape(1, -1)\n",
    "    distances, indices = knn.kneighbors(user_vec, n_neighbors=top_n)\n",
    "    recommended_songs = spotify_data.iloc[indices[0]]\n",
    "    print(f\"Top {top_n} recommendations for User Index {user_index}:\")\n",
    "    \n",
    "    # Iterate with an enumerator or direct indexing\n",
    "    for idx, row in enumerate(recommended_songs.itertuples(index=False), 1):  # Using index=False to skip the default index\n",
    "        print(f\"- {row.track} by {row.artist} (Genre: {row.genre}, Distance: {distances[0][idx-1]})\")\n",
    "    \n",
    "    return recommended_songs\n",
    "\n",
    "y_kmeans = kmeans.fit_predict(user_features)\n",
    "silhouette_avg = silhouette_score(user_features, y_kmeans)\n",
    "print(f\"The average silhouette score is : {silhouette_avg}\")\n",
    "# Testing and Validation\n",
    "# Assuming a binary relevance (like or dislike)\n",
    "# true_labels = knn.predict(user_features)  # Dummy true labels for demonstration\n",
    "# predicted_labels = np.random.randint(0, 2, size=len(user_profiles))  # Dummy prediction for demonstration\n",
    "\n",
    "# Confusion Matrix\n",
    "# conf_matrix = confusion_matrix(true_labels, predicted_labels)\n",
    "# print(\"Confusion Matrix:\\n\", conf_matrix)\n",
    "\n",
    "# Example usage\n",
    "recommend_songs(user_index=4)\n"
   ]
  },
  {
   "cell_type": "code",
   "execution_count": 105,
   "metadata": {},
   "outputs": [
    {
     "name": "stdout",
     "output_type": "stream",
     "text": [
      "Top 5 recommendations for User Index 0:\n",
      "- The Killing Moon by Echo & the Bunnymen (Genre: rock, Distance: 0.993105979011742)\n",
      "- Whatever by Godsmack (Genre: rock, Distance: 0.9999258651911136)\n",
      "- Gasoline by Whiskey Myers (Genre: rock, Distance: 1.0555602742836225)\n",
      "- Promise Me by Brian Mackey (Genre: rock, Distance: 1.0593661619343964)\n",
      "- Promise Me by Brian Mackey (Genre: rock, Distance: 1.0593661619343964)\n",
      "Top 5 recommendations for User Index 1:\n",
      "- Warm (feat. HAIM) by Charli XCX (Genre: pop, Distance: 1.0830630207729113)\n",
      "- Access by Jungle Animals (Genre: pop, Distance: 1.1020618413750638)\n",
      "- Faith (with Dolly Parton) [feat. Mr. Probz] - Acoustic by Galantis (Genre: pop, Distance: 1.1060776009144668)\n",
      "- Bachelorette by Ashe (Genre: pop, Distance: 1.238511322513527)\n",
      "- Wrecking Ball by Miley Cyrus (Genre: pop, Distance: 1.2587566171185096)\n",
      "Top 5 recommendations for User Index 2:\n",
      "- Still Got Me (feat. Jocelyn Bowman) by GAWVI (Genre: edm, Distance: 1.3814107431009166)\n",
      "- Stay by Rich James (Genre: edm, Distance: 1.4160565870217103)\n",
      "- These Are The Times (feat. JRM) by Martin Garrix (Genre: edm, Distance: 1.43514982659089)\n",
      "- These Are The Times (feat. JRM) by Martin Garrix (Genre: edm, Distance: 1.43514982659089)\n",
      "- Paradise by Wallaby (Genre: edm, Distance: 1.440190789232139)\n",
      "Top 5 recommendations for User Index 3:\n",
      "- On vit d'amour by Jean-Louis Aubert (Genre: rock, Distance: 1.4207323834066385)\n",
      "- Ang Huling El Bimbo by Eraserheads (Genre: rock, Distance: 1.445406345609749)\n",
      "- Tunnel of Love (Intro: The Carousel Waltz) by Dire Straits (Genre: rock, Distance: 1.4923741001638866)\n",
      "- The Needle And The Spoon by Lynyrd Skynyrd (Genre: rock, Distance: 1.4965965715648297)\n",
      "- Stars by Callalily (Genre: rock, Distance: 1.529749968330233)\n",
      "Top 5 recommendations for User Index 4:\n",
      "- Away by The Bolshoi (Genre: rock, Distance: 1.1057729103335951)\n",
      "- Good Times Roll by The Cars (Genre: rock, Distance: 1.2029408852560972)\n",
      "- 867-5309 / Jenny by Tommy Tutone (Genre: rock, Distance: 1.2613402459432832)\n",
      "- Pinball Wizard by The Who (Genre: rock, Distance: 1.2782489491598967)\n",
      "- Pinball Wizard by The Who (Genre: rock, Distance: 1.2782489491598967)\n"
     ]
    },
    {
     "data": {
      "application/vnd.plotly.v1+json": {
       "config": {
        "plotlyServerURL": "https://plot.ly"
       },
       "data": [
        {
         "marker": {
          "color": "blue",
          "size": 6
         },
         "mode": "markers+text",
         "name": "User 0",
         "text": "User 0<br>rock",
         "type": "scatter3d",
         "x": [
          0.21516047297898322
         ],
         "y": [
          0.6535642412276972
         ],
         "z": [
          0.2702047318064138
         ]
        },
        {
         "marker": {
          "color": "red",
          "size": 4
         },
         "mode": "markers+text",
         "name": "The Killing Moon by Echo & the Bunnymen",
         "text": "The Killing Moon by Echo & the Bunnymen",
         "type": "scatter3d",
         "x": [
          0.8488656969248369
         ],
         "y": [
          0.7709835936313991
         ],
         "z": [
          0.34797403238159497
         ]
        },
        {
         "line": {
          "color": "green",
          "dash": "dash",
          "width": 2
         },
         "mode": "lines",
         "showlegend": false,
         "type": "scatter3d",
         "x": [
          0.21516047297898322,
          0.8488656969248369
         ],
         "y": [
          0.6535642412276972,
          0.7709835936313991
         ],
         "z": [
          0.2702047318064138,
          0.34797403238159497
         ]
        },
        {
         "marker": {
          "color": "red",
          "size": 4
         },
         "mode": "markers+text",
         "name": "Whatever by Godsmack",
         "text": "Whatever by Godsmack",
         "type": "scatter3d",
         "x": [
          0.16829322459917695
         ],
         "y": [
          0.5234600690865692
         ],
         "z": [
          0.6238246448072189
         ]
        },
        {
         "line": {
          "color": "green",
          "dash": "dash",
          "width": 2
         },
         "mode": "lines",
         "showlegend": false,
         "type": "scatter3d",
         "x": [
          0.21516047297898322,
          0.16829322459917695
         ],
         "y": [
          0.6535642412276972,
          0.5234600690865692
         ],
         "z": [
          0.2702047318064138,
          0.6238246448072189
         ]
        },
        {
         "marker": {
          "color": "red",
          "size": 4
         },
         "mode": "markers+text",
         "name": "Gasoline by Whiskey Myers",
         "text": "Gasoline by Whiskey Myers",
         "type": "scatter3d",
         "x": [
          0.9598751065328647
         ],
         "y": [
          0.9685854020668757
         ],
         "z": [
          0.5960550725985435
         ]
        },
        {
         "line": {
          "color": "green",
          "dash": "dash",
          "width": 2
         },
         "mode": "lines",
         "showlegend": false,
         "type": "scatter3d",
         "x": [
          0.21516047297898322,
          0.9598751065328647
         ],
         "y": [
          0.6535642412276972,
          0.9685854020668757
         ],
         "z": [
          0.2702047318064138,
          0.5960550725985435
         ]
        },
        {
         "marker": {
          "color": "red",
          "size": 4
         },
         "mode": "markers+text",
         "name": "Promise Me by Brian Mackey",
         "text": "Promise Me by Brian Mackey",
         "type": "scatter3d",
         "x": [
          0.03520851351022414
         ],
         "y": [
          0.8516651421133136
         ],
         "z": [
          0.8598396735959778
         ]
        },
        {
         "line": {
          "color": "green",
          "dash": "dash",
          "width": 2
         },
         "mode": "lines",
         "showlegend": false,
         "type": "scatter3d",
         "x": [
          0.21516047297898322,
          0.03520851351022414
         ],
         "y": [
          0.6535642412276972,
          0.8516651421133136
         ],
         "z": [
          0.2702047318064138,
          0.8598396735959778
         ]
        },
        {
         "marker": {
          "color": "red",
          "size": 4
         },
         "mode": "markers+text",
         "name": "Promise Me by Brian Mackey",
         "text": "Promise Me by Brian Mackey",
         "type": "scatter3d",
         "x": [
          0.06728769250532618
         ],
         "y": [
          0.06454901389208245
         ],
         "z": [
          0.37725201242188
         ]
        },
        {
         "line": {
          "color": "green",
          "dash": "dash",
          "width": 2
         },
         "mode": "lines",
         "showlegend": false,
         "type": "scatter3d",
         "x": [
          0.21516047297898322,
          0.06728769250532618
         ],
         "y": [
          0.6535642412276972,
          0.06454901389208245
         ],
         "z": [
          0.2702047318064138,
          0.37725201242188
         ]
        },
        {
         "marker": {
          "color": "blue",
          "size": 6
         },
         "mode": "markers+text",
         "name": "User 1",
         "text": "User 1<br>pop",
         "type": "scatter3d",
         "x": [
          0.15403838569524908
         ],
         "y": [
          0.5359489224874681
         ],
         "z": [
          0.3335423124114869
         ]
        },
        {
         "marker": {
          "color": "red",
          "size": 4
         },
         "mode": "markers+text",
         "name": "Warm (feat. HAIM) by Charli XCX",
         "text": "Warm (feat. HAIM) by Charli XCX",
         "type": "scatter3d",
         "x": [
          0.30437960281550525
         ],
         "y": [
          0.752617928362109
         ],
         "z": [
          0.9436161565830072
         ]
        },
        {
         "line": {
          "color": "green",
          "dash": "dash",
          "width": 2
         },
         "mode": "lines",
         "showlegend": false,
         "type": "scatter3d",
         "x": [
          0.15403838569524908,
          0.30437960281550525
         ],
         "y": [
          0.5359489224874681,
          0.752617928362109
         ],
         "z": [
          0.3335423124114869,
          0.9436161565830072
         ]
        },
        {
         "marker": {
          "color": "red",
          "size": 4
         },
         "mode": "markers+text",
         "name": "Access by Jungle Animals",
         "text": "Access by Jungle Animals",
         "type": "scatter3d",
         "x": [
          0.12079055366378388
         ],
         "y": [
          0.6195294280955375
         ],
         "z": [
          0.05003165683608357
         ]
        },
        {
         "line": {
          "color": "green",
          "dash": "dash",
          "width": 2
         },
         "mode": "lines",
         "showlegend": false,
         "type": "scatter3d",
         "x": [
          0.15403838569524908,
          0.12079055366378388
         ],
         "y": [
          0.5359489224874681,
          0.6195294280955375
         ],
         "z": [
          0.3335423124114869,
          0.05003165683608357
         ]
        },
        {
         "marker": {
          "color": "red",
          "size": 4
         },
         "mode": "markers+text",
         "name": "Faith (with Dolly Parton) [feat. Mr. Probz] - Acoustic by Galantis",
         "text": "Faith (with Dolly Parton) [feat. Mr. Probz] - Acoustic by Galantis",
         "type": "scatter3d",
         "x": [
          0.25075541783289246
         ],
         "y": [
          0.19298442606221278
         ],
         "z": [
          0.3991120439535596
         ]
        },
        {
         "line": {
          "color": "green",
          "dash": "dash",
          "width": 2
         },
         "mode": "lines",
         "showlegend": false,
         "type": "scatter3d",
         "x": [
          0.15403838569524908,
          0.25075541783289246
         ],
         "y": [
          0.5359489224874681,
          0.19298442606221278
         ],
         "z": [
          0.3335423124114869,
          0.3991120439535596
         ]
        },
        {
         "marker": {
          "color": "red",
          "size": 4
         },
         "mode": "markers+text",
         "name": "Bachelorette by Ashe",
         "text": "Bachelorette by Ashe",
         "type": "scatter3d",
         "x": [
          0.10788381913324385
         ],
         "y": [
          0.29301887096274615
         ],
         "z": [
          0.623397394242338
         ]
        },
        {
         "line": {
          "color": "green",
          "dash": "dash",
          "width": 2
         },
         "mode": "lines",
         "showlegend": false,
         "type": "scatter3d",
         "x": [
          0.15403838569524908,
          0.10788381913324385
         ],
         "y": [
          0.5359489224874681,
          0.29301887096274615
         ],
         "z": [
          0.3335423124114869,
          0.623397394242338
         ]
        },
        {
         "marker": {
          "color": "red",
          "size": 4
         },
         "mode": "markers+text",
         "name": "Wrecking Ball by Miley Cyrus",
         "text": "Wrecking Ball by Miley Cyrus",
         "type": "scatter3d",
         "x": [
          0.6045024303454377
         ],
         "y": [
          0.1694865386326454
         ],
         "z": [
          0.23103898142389467
         ]
        },
        {
         "line": {
          "color": "green",
          "dash": "dash",
          "width": 2
         },
         "mode": "lines",
         "showlegend": false,
         "type": "scatter3d",
         "x": [
          0.15403838569524908,
          0.6045024303454377
         ],
         "y": [
          0.5359489224874681,
          0.1694865386326454
         ],
         "z": [
          0.3335423124114869,
          0.23103898142389467
         ]
        },
        {
         "marker": {
          "color": "blue",
          "size": 6
         },
         "mode": "markers+text",
         "name": "User 2",
         "text": "User 2<br>edm",
         "type": "scatter3d",
         "x": [
          0.5608401254391215
         ],
         "y": [
          0.4414010921995798
         ],
         "z": [
          0.9023762114161069
         ]
        },
        {
         "marker": {
          "color": "red",
          "size": 4
         },
         "mode": "markers+text",
         "name": "Still Got Me (feat. Jocelyn Bowman) by GAWVI",
         "text": "Still Got Me (feat. Jocelyn Bowman) by GAWVI",
         "type": "scatter3d",
         "x": [
          0.3985430990736286
         ],
         "y": [
          0.8281987861523783
         ],
         "z": [
          0.7209496955323818
         ]
        },
        {
         "line": {
          "color": "green",
          "dash": "dash",
          "width": 2
         },
         "mode": "lines",
         "showlegend": false,
         "type": "scatter3d",
         "x": [
          0.5608401254391215,
          0.3985430990736286
         ],
         "y": [
          0.4414010921995798,
          0.8281987861523783
         ],
         "z": [
          0.9023762114161069,
          0.7209496955323818
         ]
        },
        {
         "marker": {
          "color": "red",
          "size": 4
         },
         "mode": "markers+text",
         "name": "Stay by Rich James",
         "text": "Stay by Rich James",
         "type": "scatter3d",
         "x": [
          0.7697904855436096
         ],
         "y": [
          0.19655109029559514
         ],
         "z": [
          0.6728263721338389
         ]
        },
        {
         "line": {
          "color": "green",
          "dash": "dash",
          "width": 2
         },
         "mode": "lines",
         "showlegend": false,
         "type": "scatter3d",
         "x": [
          0.5608401254391215,
          0.7697904855436096
         ],
         "y": [
          0.4414010921995798,
          0.19655109029559514
         ],
         "z": [
          0.9023762114161069,
          0.6728263721338389
         ]
        },
        {
         "marker": {
          "color": "red",
          "size": 4
         },
         "mode": "markers+text",
         "name": "These Are The Times (feat. JRM) by Martin Garrix",
         "text": "These Are The Times (feat. JRM) by Martin Garrix",
         "type": "scatter3d",
         "x": [
          0.34235491570006726
         ],
         "y": [
          0.5020069692051048
         ],
         "z": [
          0.3234997418120834
         ]
        },
        {
         "line": {
          "color": "green",
          "dash": "dash",
          "width": 2
         },
         "mode": "lines",
         "showlegend": false,
         "type": "scatter3d",
         "x": [
          0.5608401254391215,
          0.34235491570006726
         ],
         "y": [
          0.4414010921995798,
          0.5020069692051048
         ],
         "z": [
          0.9023762114161069,
          0.3234997418120834
         ]
        },
        {
         "marker": {
          "color": "red",
          "size": 4
         },
         "mode": "markers+text",
         "name": "These Are The Times (feat. JRM) by Martin Garrix",
         "text": "These Are The Times (feat. JRM) by Martin Garrix",
         "type": "scatter3d",
         "x": [
          0.49452458703131974
         ],
         "y": [
          0.5315196699791875
         ],
         "z": [
          0.519928090712794
         ]
        },
        {
         "line": {
          "color": "green",
          "dash": "dash",
          "width": 2
         },
         "mode": "lines",
         "showlegend": false,
         "type": "scatter3d",
         "x": [
          0.5608401254391215,
          0.49452458703131974
         ],
         "y": [
          0.4414010921995798,
          0.5315196699791875
         ],
         "z": [
          0.9023762114161069,
          0.519928090712794
         ]
        },
        {
         "marker": {
          "color": "red",
          "size": 4
         },
         "mode": "markers+text",
         "name": "Paradise by Wallaby",
         "text": "Paradise by Wallaby",
         "type": "scatter3d",
         "x": [
          0.6527959817288135
         ],
         "y": [
          0.9107285214968215
         ],
         "z": [
          0.889829376214497
         ]
        },
        {
         "line": {
          "color": "green",
          "dash": "dash",
          "width": 2
         },
         "mode": "lines",
         "showlegend": false,
         "type": "scatter3d",
         "x": [
          0.5608401254391215,
          0.6527959817288135
         ],
         "y": [
          0.4414010921995798,
          0.9107285214968215
         ],
         "z": [
          0.9023762114161069,
          0.889829376214497
         ]
        },
        {
         "marker": {
          "color": "blue",
          "size": 6
         },
         "mode": "markers+text",
         "name": "User 3",
         "text": "User 3<br>rock",
         "type": "scatter3d",
         "x": [
          0.7848610153614488
         ],
         "y": [
          0.17855309515474493
         ],
         "z": [
          0.9145917553629738
         ]
        },
        {
         "marker": {
          "color": "red",
          "size": 4
         },
         "mode": "markers+text",
         "name": "On vit d'amour by Jean-Louis Aubert",
         "text": "On vit d'amour by Jean-Louis Aubert",
         "type": "scatter3d",
         "x": [
          0.15404121895202916
         ],
         "y": [
          0.595449332005398
         ],
         "z": [
          0.8771469882588294
         ]
        },
        {
         "line": {
          "color": "green",
          "dash": "dash",
          "width": 2
         },
         "mode": "lines",
         "showlegend": false,
         "type": "scatter3d",
         "x": [
          0.7848610153614488,
          0.15404121895202916
         ],
         "y": [
          0.17855309515474493,
          0.595449332005398
         ],
         "z": [
          0.9145917553629738,
          0.8771469882588294
         ]
        },
        {
         "marker": {
          "color": "red",
          "size": 4
         },
         "mode": "markers+text",
         "name": "Ang Huling El Bimbo by Eraserheads",
         "text": "Ang Huling El Bimbo by Eraserheads",
         "type": "scatter3d",
         "x": [
          0.026155278268554127
         ],
         "y": [
          0.21972819403564559
         ],
         "z": [
          0.5184143592848104
         ]
        },
        {
         "line": {
          "color": "green",
          "dash": "dash",
          "width": 2
         },
         "mode": "lines",
         "showlegend": false,
         "type": "scatter3d",
         "x": [
          0.7848610153614488,
          0.026155278268554127
         ],
         "y": [
          0.17855309515474493,
          0.21972819403564559
         ],
         "z": [
          0.9145917553629738,
          0.5184143592848104
         ]
        },
        {
         "marker": {
          "color": "red",
          "size": 4
         },
         "mode": "markers+text",
         "name": "Tunnel of Love (Intro: The Carousel Waltz) by Dire Straits",
         "text": "Tunnel of Love (Intro: The Carousel Waltz) by Dire Straits",
         "type": "scatter3d",
         "x": [
          0.7987725621349847
         ],
         "y": [
          0.021192574291501898
         ],
         "z": [
          0.9783007489005683
         ]
        },
        {
         "line": {
          "color": "green",
          "dash": "dash",
          "width": 2
         },
         "mode": "lines",
         "showlegend": false,
         "type": "scatter3d",
         "x": [
          0.7848610153614488,
          0.7987725621349847
         ],
         "y": [
          0.17855309515474493,
          0.021192574291501898
         ],
         "z": [
          0.9145917553629738,
          0.9783007489005683
         ]
        },
        {
         "marker": {
          "color": "red",
          "size": 4
         },
         "mode": "markers+text",
         "name": "The Needle And The Spoon by Lynyrd Skynyrd",
         "text": "The Needle And The Spoon by Lynyrd Skynyrd",
         "type": "scatter3d",
         "x": [
          0.3949262253918847
         ],
         "y": [
          0.517659151286538
         ],
         "z": [
          0.03787967831445127
         ]
        },
        {
         "line": {
          "color": "green",
          "dash": "dash",
          "width": 2
         },
         "mode": "lines",
         "showlegend": false,
         "type": "scatter3d",
         "x": [
          0.7848610153614488,
          0.3949262253918847
         ],
         "y": [
          0.17855309515474493,
          0.517659151286538
         ],
         "z": [
          0.9145917553629738,
          0.03787967831445127
         ]
        },
        {
         "marker": {
          "color": "red",
          "size": 4
         },
         "mode": "markers+text",
         "name": "Stars by Callalily",
         "text": "Stars by Callalily",
         "type": "scatter3d",
         "x": [
          0.09093180242581234
         ],
         "y": [
          0.6462981271056274
         ],
         "z": [
          0.9138578984104143
         ]
        },
        {
         "line": {
          "color": "green",
          "dash": "dash",
          "width": 2
         },
         "mode": "lines",
         "showlegend": false,
         "type": "scatter3d",
         "x": [
          0.7848610153614488,
          0.09093180242581234
         ],
         "y": [
          0.17855309515474493,
          0.6462981271056274
         ],
         "z": [
          0.9145917553629738,
          0.9138578984104143
         ]
        },
        {
         "marker": {
          "color": "blue",
          "size": 6
         },
         "mode": "markers+text",
         "name": "User 4",
         "text": "User 4<br>rock",
         "type": "scatter3d",
         "x": [
          0.7276567636721014
         ],
         "y": [
          0.36131622617712
         ],
         "z": [
          0.2715332316515875
         ]
        },
        {
         "marker": {
          "color": "red",
          "size": 4
         },
         "mode": "markers+text",
         "name": "Away by The Bolshoi",
         "text": "Away by The Bolshoi",
         "type": "scatter3d",
         "x": [
          0.4468476196790899
         ],
         "y": [
          0.39955476417995417
         ],
         "z": [
          0.5355035966626693
         ]
        },
        {
         "line": {
          "color": "green",
          "dash": "dash",
          "width": 2
         },
         "mode": "lines",
         "showlegend": false,
         "type": "scatter3d",
         "x": [
          0.7276567636721014,
          0.4468476196790899
         ],
         "y": [
          0.36131622617712,
          0.39955476417995417
         ],
         "z": [
          0.2715332316515875,
          0.5355035966626693
         ]
        },
        {
         "marker": {
          "color": "red",
          "size": 4
         },
         "mode": "markers+text",
         "name": "Good Times Roll by The Cars",
         "text": "Good Times Roll by The Cars",
         "type": "scatter3d",
         "x": [
          0.3895143949375849
         ],
         "y": [
          0.24565011910904633
         ],
         "z": [
          0.13056121260950027
         ]
        },
        {
         "line": {
          "color": "green",
          "dash": "dash",
          "width": 2
         },
         "mode": "lines",
         "showlegend": false,
         "type": "scatter3d",
         "x": [
          0.7276567636721014,
          0.3895143949375849
         ],
         "y": [
          0.36131622617712,
          0.24565011910904633
         ],
         "z": [
          0.2715332316515875,
          0.13056121260950027
         ]
        },
        {
         "marker": {
          "color": "red",
          "size": 4
         },
         "mode": "markers+text",
         "name": "867-5309 / Jenny by Tommy Tutone",
         "text": "867-5309 / Jenny by Tommy Tutone",
         "type": "scatter3d",
         "x": [
          0.14031457769831956
         ],
         "y": [
          0.012311384727549446
         ],
         "z": [
          0.3327489347484418
         ]
        },
        {
         "line": {
          "color": "green",
          "dash": "dash",
          "width": 2
         },
         "mode": "lines",
         "showlegend": false,
         "type": "scatter3d",
         "x": [
          0.7276567636721014,
          0.14031457769831956
         ],
         "y": [
          0.36131622617712,
          0.012311384727549446
         ],
         "z": [
          0.2715332316515875,
          0.3327489347484418
         ]
        },
        {
         "marker": {
          "color": "red",
          "size": 4
         },
         "mode": "markers+text",
         "name": "Pinball Wizard by The Who",
         "text": "Pinball Wizard by The Who",
         "type": "scatter3d",
         "x": [
          0.5437842217283629
         ],
         "y": [
          0.5699874983165546
         ],
         "z": [
          0.9819765994883538
         ]
        },
        {
         "line": {
          "color": "green",
          "dash": "dash",
          "width": 2
         },
         "mode": "lines",
         "showlegend": false,
         "type": "scatter3d",
         "x": [
          0.7276567636721014,
          0.5437842217283629
         ],
         "y": [
          0.36131622617712,
          0.5699874983165546
         ],
         "z": [
          0.2715332316515875,
          0.9819765994883538
         ]
        },
        {
         "marker": {
          "color": "red",
          "size": 4
         },
         "mode": "markers+text",
         "name": "Pinball Wizard by The Who",
         "text": "Pinball Wizard by The Who",
         "type": "scatter3d",
         "x": [
          0.48336877098254794
         ],
         "y": [
          0.4705035215458755
         ],
         "z": [
          0.7638252046382591
         ]
        },
        {
         "line": {
          "color": "green",
          "dash": "dash",
          "width": 2
         },
         "mode": "lines",
         "showlegend": false,
         "type": "scatter3d",
         "x": [
          0.7276567636721014,
          0.48336877098254794
         ],
         "y": [
          0.36131622617712,
          0.4705035215458755
         ],
         "z": [
          0.2715332316515875,
          0.7638252046382591
         ]
        }
       ],
       "layout": {
        "height": 700,
        "margin": {
         "b": 0,
         "l": 0,
         "r": 0,
         "t": 30
        },
        "template": {
         "data": {
          "bar": [
           {
            "error_x": {
             "color": "#2a3f5f"
            },
            "error_y": {
             "color": "#2a3f5f"
            },
            "marker": {
             "line": {
              "color": "#E5ECF6",
              "width": 0.5
             },
             "pattern": {
              "fillmode": "overlay",
              "size": 10,
              "solidity": 0.2
             }
            },
            "type": "bar"
           }
          ],
          "barpolar": [
           {
            "marker": {
             "line": {
              "color": "#E5ECF6",
              "width": 0.5
             },
             "pattern": {
              "fillmode": "overlay",
              "size": 10,
              "solidity": 0.2
             }
            },
            "type": "barpolar"
           }
          ],
          "carpet": [
           {
            "aaxis": {
             "endlinecolor": "#2a3f5f",
             "gridcolor": "white",
             "linecolor": "white",
             "minorgridcolor": "white",
             "startlinecolor": "#2a3f5f"
            },
            "baxis": {
             "endlinecolor": "#2a3f5f",
             "gridcolor": "white",
             "linecolor": "white",
             "minorgridcolor": "white",
             "startlinecolor": "#2a3f5f"
            },
            "type": "carpet"
           }
          ],
          "choropleth": [
           {
            "colorbar": {
             "outlinewidth": 0,
             "ticks": ""
            },
            "type": "choropleth"
           }
          ],
          "contour": [
           {
            "colorbar": {
             "outlinewidth": 0,
             "ticks": ""
            },
            "colorscale": [
             [
              0,
              "#0d0887"
             ],
             [
              0.1111111111111111,
              "#46039f"
             ],
             [
              0.2222222222222222,
              "#7201a8"
             ],
             [
              0.3333333333333333,
              "#9c179e"
             ],
             [
              0.4444444444444444,
              "#bd3786"
             ],
             [
              0.5555555555555556,
              "#d8576b"
             ],
             [
              0.6666666666666666,
              "#ed7953"
             ],
             [
              0.7777777777777778,
              "#fb9f3a"
             ],
             [
              0.8888888888888888,
              "#fdca26"
             ],
             [
              1,
              "#f0f921"
             ]
            ],
            "type": "contour"
           }
          ],
          "contourcarpet": [
           {
            "colorbar": {
             "outlinewidth": 0,
             "ticks": ""
            },
            "type": "contourcarpet"
           }
          ],
          "heatmap": [
           {
            "colorbar": {
             "outlinewidth": 0,
             "ticks": ""
            },
            "colorscale": [
             [
              0,
              "#0d0887"
             ],
             [
              0.1111111111111111,
              "#46039f"
             ],
             [
              0.2222222222222222,
              "#7201a8"
             ],
             [
              0.3333333333333333,
              "#9c179e"
             ],
             [
              0.4444444444444444,
              "#bd3786"
             ],
             [
              0.5555555555555556,
              "#d8576b"
             ],
             [
              0.6666666666666666,
              "#ed7953"
             ],
             [
              0.7777777777777778,
              "#fb9f3a"
             ],
             [
              0.8888888888888888,
              "#fdca26"
             ],
             [
              1,
              "#f0f921"
             ]
            ],
            "type": "heatmap"
           }
          ],
          "heatmapgl": [
           {
            "colorbar": {
             "outlinewidth": 0,
             "ticks": ""
            },
            "colorscale": [
             [
              0,
              "#0d0887"
             ],
             [
              0.1111111111111111,
              "#46039f"
             ],
             [
              0.2222222222222222,
              "#7201a8"
             ],
             [
              0.3333333333333333,
              "#9c179e"
             ],
             [
              0.4444444444444444,
              "#bd3786"
             ],
             [
              0.5555555555555556,
              "#d8576b"
             ],
             [
              0.6666666666666666,
              "#ed7953"
             ],
             [
              0.7777777777777778,
              "#fb9f3a"
             ],
             [
              0.8888888888888888,
              "#fdca26"
             ],
             [
              1,
              "#f0f921"
             ]
            ],
            "type": "heatmapgl"
           }
          ],
          "histogram": [
           {
            "marker": {
             "pattern": {
              "fillmode": "overlay",
              "size": 10,
              "solidity": 0.2
             }
            },
            "type": "histogram"
           }
          ],
          "histogram2d": [
           {
            "colorbar": {
             "outlinewidth": 0,
             "ticks": ""
            },
            "colorscale": [
             [
              0,
              "#0d0887"
             ],
             [
              0.1111111111111111,
              "#46039f"
             ],
             [
              0.2222222222222222,
              "#7201a8"
             ],
             [
              0.3333333333333333,
              "#9c179e"
             ],
             [
              0.4444444444444444,
              "#bd3786"
             ],
             [
              0.5555555555555556,
              "#d8576b"
             ],
             [
              0.6666666666666666,
              "#ed7953"
             ],
             [
              0.7777777777777778,
              "#fb9f3a"
             ],
             [
              0.8888888888888888,
              "#fdca26"
             ],
             [
              1,
              "#f0f921"
             ]
            ],
            "type": "histogram2d"
           }
          ],
          "histogram2dcontour": [
           {
            "colorbar": {
             "outlinewidth": 0,
             "ticks": ""
            },
            "colorscale": [
             [
              0,
              "#0d0887"
             ],
             [
              0.1111111111111111,
              "#46039f"
             ],
             [
              0.2222222222222222,
              "#7201a8"
             ],
             [
              0.3333333333333333,
              "#9c179e"
             ],
             [
              0.4444444444444444,
              "#bd3786"
             ],
             [
              0.5555555555555556,
              "#d8576b"
             ],
             [
              0.6666666666666666,
              "#ed7953"
             ],
             [
              0.7777777777777778,
              "#fb9f3a"
             ],
             [
              0.8888888888888888,
              "#fdca26"
             ],
             [
              1,
              "#f0f921"
             ]
            ],
            "type": "histogram2dcontour"
           }
          ],
          "mesh3d": [
           {
            "colorbar": {
             "outlinewidth": 0,
             "ticks": ""
            },
            "type": "mesh3d"
           }
          ],
          "parcoords": [
           {
            "line": {
             "colorbar": {
              "outlinewidth": 0,
              "ticks": ""
             }
            },
            "type": "parcoords"
           }
          ],
          "pie": [
           {
            "automargin": true,
            "type": "pie"
           }
          ],
          "scatter": [
           {
            "fillpattern": {
             "fillmode": "overlay",
             "size": 10,
             "solidity": 0.2
            },
            "type": "scatter"
           }
          ],
          "scatter3d": [
           {
            "line": {
             "colorbar": {
              "outlinewidth": 0,
              "ticks": ""
             }
            },
            "marker": {
             "colorbar": {
              "outlinewidth": 0,
              "ticks": ""
             }
            },
            "type": "scatter3d"
           }
          ],
          "scattercarpet": [
           {
            "marker": {
             "colorbar": {
              "outlinewidth": 0,
              "ticks": ""
             }
            },
            "type": "scattercarpet"
           }
          ],
          "scattergeo": [
           {
            "marker": {
             "colorbar": {
              "outlinewidth": 0,
              "ticks": ""
             }
            },
            "type": "scattergeo"
           }
          ],
          "scattergl": [
           {
            "marker": {
             "colorbar": {
              "outlinewidth": 0,
              "ticks": ""
             }
            },
            "type": "scattergl"
           }
          ],
          "scattermapbox": [
           {
            "marker": {
             "colorbar": {
              "outlinewidth": 0,
              "ticks": ""
             }
            },
            "type": "scattermapbox"
           }
          ],
          "scatterpolar": [
           {
            "marker": {
             "colorbar": {
              "outlinewidth": 0,
              "ticks": ""
             }
            },
            "type": "scatterpolar"
           }
          ],
          "scatterpolargl": [
           {
            "marker": {
             "colorbar": {
              "outlinewidth": 0,
              "ticks": ""
             }
            },
            "type": "scatterpolargl"
           }
          ],
          "scatterternary": [
           {
            "marker": {
             "colorbar": {
              "outlinewidth": 0,
              "ticks": ""
             }
            },
            "type": "scatterternary"
           }
          ],
          "surface": [
           {
            "colorbar": {
             "outlinewidth": 0,
             "ticks": ""
            },
            "colorscale": [
             [
              0,
              "#0d0887"
             ],
             [
              0.1111111111111111,
              "#46039f"
             ],
             [
              0.2222222222222222,
              "#7201a8"
             ],
             [
              0.3333333333333333,
              "#9c179e"
             ],
             [
              0.4444444444444444,
              "#bd3786"
             ],
             [
              0.5555555555555556,
              "#d8576b"
             ],
             [
              0.6666666666666666,
              "#ed7953"
             ],
             [
              0.7777777777777778,
              "#fb9f3a"
             ],
             [
              0.8888888888888888,
              "#fdca26"
             ],
             [
              1,
              "#f0f921"
             ]
            ],
            "type": "surface"
           }
          ],
          "table": [
           {
            "cells": {
             "fill": {
              "color": "#EBF0F8"
             },
             "line": {
              "color": "white"
             }
            },
            "header": {
             "fill": {
              "color": "#C8D4E3"
             },
             "line": {
              "color": "white"
             }
            },
            "type": "table"
           }
          ]
         },
         "layout": {
          "annotationdefaults": {
           "arrowcolor": "#2a3f5f",
           "arrowhead": 0,
           "arrowwidth": 1
          },
          "autotypenumbers": "strict",
          "coloraxis": {
           "colorbar": {
            "outlinewidth": 0,
            "ticks": ""
           }
          },
          "colorscale": {
           "diverging": [
            [
             0,
             "#8e0152"
            ],
            [
             0.1,
             "#c51b7d"
            ],
            [
             0.2,
             "#de77ae"
            ],
            [
             0.3,
             "#f1b6da"
            ],
            [
             0.4,
             "#fde0ef"
            ],
            [
             0.5,
             "#f7f7f7"
            ],
            [
             0.6,
             "#e6f5d0"
            ],
            [
             0.7,
             "#b8e186"
            ],
            [
             0.8,
             "#7fbc41"
            ],
            [
             0.9,
             "#4d9221"
            ],
            [
             1,
             "#276419"
            ]
           ],
           "sequential": [
            [
             0,
             "#0d0887"
            ],
            [
             0.1111111111111111,
             "#46039f"
            ],
            [
             0.2222222222222222,
             "#7201a8"
            ],
            [
             0.3333333333333333,
             "#9c179e"
            ],
            [
             0.4444444444444444,
             "#bd3786"
            ],
            [
             0.5555555555555556,
             "#d8576b"
            ],
            [
             0.6666666666666666,
             "#ed7953"
            ],
            [
             0.7777777777777778,
             "#fb9f3a"
            ],
            [
             0.8888888888888888,
             "#fdca26"
            ],
            [
             1,
             "#f0f921"
            ]
           ],
           "sequentialminus": [
            [
             0,
             "#0d0887"
            ],
            [
             0.1111111111111111,
             "#46039f"
            ],
            [
             0.2222222222222222,
             "#7201a8"
            ],
            [
             0.3333333333333333,
             "#9c179e"
            ],
            [
             0.4444444444444444,
             "#bd3786"
            ],
            [
             0.5555555555555556,
             "#d8576b"
            ],
            [
             0.6666666666666666,
             "#ed7953"
            ],
            [
             0.7777777777777778,
             "#fb9f3a"
            ],
            [
             0.8888888888888888,
             "#fdca26"
            ],
            [
             1,
             "#f0f921"
            ]
           ]
          },
          "colorway": [
           "#636efa",
           "#EF553B",
           "#00cc96",
           "#ab63fa",
           "#FFA15A",
           "#19d3f3",
           "#FF6692",
           "#B6E880",
           "#FF97FF",
           "#FECB52"
          ],
          "font": {
           "color": "#2a3f5f"
          },
          "geo": {
           "bgcolor": "white",
           "lakecolor": "white",
           "landcolor": "#E5ECF6",
           "showlakes": true,
           "showland": true,
           "subunitcolor": "white"
          },
          "hoverlabel": {
           "align": "left"
          },
          "hovermode": "closest",
          "mapbox": {
           "style": "light"
          },
          "paper_bgcolor": "white",
          "plot_bgcolor": "#E5ECF6",
          "polar": {
           "angularaxis": {
            "gridcolor": "white",
            "linecolor": "white",
            "ticks": ""
           },
           "bgcolor": "#E5ECF6",
           "radialaxis": {
            "gridcolor": "white",
            "linecolor": "white",
            "ticks": ""
           }
          },
          "scene": {
           "xaxis": {
            "backgroundcolor": "#E5ECF6",
            "gridcolor": "white",
            "gridwidth": 2,
            "linecolor": "white",
            "showbackground": true,
            "ticks": "",
            "zerolinecolor": "white"
           },
           "yaxis": {
            "backgroundcolor": "#E5ECF6",
            "gridcolor": "white",
            "gridwidth": 2,
            "linecolor": "white",
            "showbackground": true,
            "ticks": "",
            "zerolinecolor": "white"
           },
           "zaxis": {
            "backgroundcolor": "#E5ECF6",
            "gridcolor": "white",
            "gridwidth": 2,
            "linecolor": "white",
            "showbackground": true,
            "ticks": "",
            "zerolinecolor": "white"
           }
          },
          "shapedefaults": {
           "line": {
            "color": "#2a3f5f"
           }
          },
          "ternary": {
           "aaxis": {
            "gridcolor": "white",
            "linecolor": "white",
            "ticks": ""
           },
           "baxis": {
            "gridcolor": "white",
            "linecolor": "white",
            "ticks": ""
           },
           "bgcolor": "#E5ECF6",
           "caxis": {
            "gridcolor": "white",
            "linecolor": "white",
            "ticks": ""
           }
          },
          "title": {
           "x": 0.05
          },
          "xaxis": {
           "automargin": true,
           "gridcolor": "white",
           "linecolor": "white",
           "ticks": "",
           "title": {
            "standoff": 15
           },
           "zerolinecolor": "white",
           "zerolinewidth": 2
          },
          "yaxis": {
           "automargin": true,
           "gridcolor": "white",
           "linecolor": "white",
           "ticks": "",
           "title": {
            "standoff": 15
           },
           "zerolinecolor": "white",
           "zerolinewidth": 2
          }
         }
        },
        "title": {
         "text": "3D Visualization of User and Song Recommendations"
        },
        "width": 700
       }
      }
     },
     "metadata": {},
     "output_type": "display_data"
    }
   ],
   "source": [
    "import plotly.graph_objects as go\n",
    "import numpy as np\n",
    "import pandas as pd\n",
    "\n",
    "# Assuming the following variables are defined: spotify_data, user_profiles, recommend_songs\n",
    "# For simplicity, we'll use only a subset of users to demonstrate\n",
    "\n",
    "# Generate recommendations for a subset of users\n",
    "user_indices = [0, 1, 2, 3, 4]  # Example user indices\n",
    "recommendations = {index: recommend_songs(index, top_n=5) for index in user_indices}\n",
    "\n",
    "# Set up figure\n",
    "fig = go.Figure()\n",
    "\n",
    "# Iterate through each user and their recommendations to plot\n",
    "for user_index, recommended_songs in recommendations.items():\n",
    "    user_genre = user_profiles.iloc[user_index]['genre']\n",
    "    user_point = np.random.rand(3)  # Random 3D coordinates for the user\n",
    "\n",
    "    # Plot user point\n",
    "    fig.add_trace(go.Scatter3d(\n",
    "        x=[user_point[0]], y=[user_point[1]], z=[user_point[2]],\n",
    "        mode='markers+text',\n",
    "        marker=dict(size=6, color='blue'),\n",
    "        text=f\"User {user_index}<br>{user_genre}\",\n",
    "        name=f\"User {user_index}\"\n",
    "    ))\n",
    "\n",
    "    # Plot each recommended song and connect it to the user point\n",
    "    for idx, row in recommended_songs.iterrows():\n",
    "        song_point = np.random.rand(3)  # Random 3D coordinates for the song\n",
    "        song_name = f\"{row['track']} by {row['artist']}\"\n",
    "\n",
    "        # Plot song point\n",
    "        fig.add_trace(go.Scatter3d(\n",
    "            x=[song_point[0]], y=[song_point[1]], z=[song_point[2]],\n",
    "            mode='markers+text',\n",
    "            marker=dict(size=4, color='red'),\n",
    "            text=song_name,\n",
    "            name=song_name\n",
    "        ))\n",
    "\n",
    "        # Connect user and song with a dashed line\n",
    "        fig.add_trace(go.Scatter3d(\n",
    "            x=[user_point[0], song_point[0]], y=[user_point[1], song_point[1]], z=[user_point[2], song_point[2]],\n",
    "            mode='lines',\n",
    "            line=dict(color='green', width=2, dash='dash'),\n",
    "            showlegend=False\n",
    "        ))\n",
    "\n",
    "# Set layout options\n",
    "fig.update_layout(\n",
    "    title=\"3D Visualization of User and Song Recommendations\",\n",
    "    width=700,\n",
    "    height=700,\n",
    "    margin=dict(l=0, r=0, b=0, t=30)\n",
    ")\n",
    "\n",
    "# Show the plot\n",
    "fig.show()\n"
   ]
  },
  {
   "cell_type": "code",
   "execution_count": 95,
   "metadata": {},
   "outputs": [
    {
     "name": "stderr",
     "output_type": "stream",
     "text": [
      "C:\\Users\\Student\\AppData\\Local\\Temp\\ipykernel_10160\\1417907483.py:33: UserWarning:\n",
      "\n",
      "set_ticklabels() should only be used with a fixed number of ticks, i.e. after set_ticks() or using a FixedLocator.\n",
      "\n",
      "C:\\Users\\Student\\AppData\\Local\\Temp\\ipykernel_10160\\1417907483.py:34: UserWarning:\n",
      "\n",
      "set_ticklabels() should only be used with a fixed number of ticks, i.e. after set_ticks() or using a FixedLocator.\n",
      "\n"
     ]
    },
    {
     "data": {
      "image/png": "[encoded data removed]",
      "text/plain": [
       "<Figure size 500x500 with 2 Axes>"
      ]
     },
     "metadata": {},
     "output_type": "display_data"
    }
   ],
   "source": [
    "import matplotlib.pyplot as plt\n",
    "import numpy as np\n",
    "from sklearn.metrics import confusion_matrix, accuracy_score, precision_score, recall_score, f1_score\n",
    "\n",
    "# Dummy actual and predicted labels for demonstration\n",
    "actual_labels = np.random.randint(0, 2, size=100)\n",
    "predicted_labels = np.random.randint(0, 2, size=100)\n",
    "\n",
    "# Calculate the confusion matrix and other metrics\n",
    "cm = confusion_matrix(actual_labels, predicted_labels)\n",
    "accuracy = accuracy_score(actual_labels, predicted_labels)\n",
    "precision = precision_score(actual_labels, predicted_labels)\n",
    "recall = recall_score(actual_labels, predicted_labels)\n",
    "f1 = f1_score(actual_labels, predicted_labels)\n",
    "\n",
    "# Plotting the confusion matrix\n",
    "fig, ax = plt.subplots(figsize=(5, 5))\n",
    "cax = ax.matshow(cm, cmap=plt.cm.Blues)\n",
    "\n",
    "plt.title('Confusion Matrix')\n",
    "plt.xlabel('Predicted')\n",
    "plt.ylabel('Actual')\n",
    "\n",
    "# Add color bar\n",
    "plt.colorbar(cax)\n",
    "\n",
    "# Add text annotations\n",
    "for (i, j), val in np.ndenumerate(cm):\n",
    "    ax.text(j, i, f'{val}', ha='center', va='center', color='black')\n",
    "\n",
    "# Set tick marks for classes\n",
    "classes = ['Class 0', 'Class 1']\n",
    "ax.set_xticklabels([''] + classes)\n",
    "ax.set_yticklabels([''] + classes)\n",
    "\n",
    "# Optional: Set grid lines for better visual separation of cells\n",
    "ax.set_xticks(np.arange(cm.shape[1]+1)-.5, minor=True)\n",
    "ax.set_yticks(np.arange(cm.shape[0]+1)-.5, minor=True)\n",
    "ax.grid(which=\"minor\", color=\"gray\", linestyle='-', linewidth=0.5)\n",
    "ax.tick_params(which=\"minor\", size=0)\n",
    "\n",
    "# Display the metrics\n",
    "metrics_text = f'Accuracy: {accuracy:.2f}\\nPrecision: {precision:.2f}\\nRecall: {recall:.2f}\\nF1 Score: {f1:.2f}'\n",
    "fig.text(0.5, -0.1, metrics_text, ha='center', fontsize=12)\n",
    "\n",
    "plt.show()\n"
   ]
  },
  {
   "cell_type": "code",
   "execution_count": null,
   "metadata": {},
   "outputs": [],
   "source": []
  }
 ],
 "metadata": {
  "kernelspec": {
   "display_name": "Python 3",
   "language": "python",
   "name": "python3"
  },
  "language_info": {
   "codemirror_mode": {
    "name": "ipython",
    "version": 3
   },
   "file_extension": ".py",
   "mimetype": "text/x-python",
   "name": "python",
   "nbconvert_exporter": "python",
   "pygments_lexer": "ipython3",
   "version": "3.12.3"
  }
 },
 "nbformat": 4,
 "nbformat_minor": 2
}
